{
  "nbformat": 4,
  "nbformat_minor": 0,
  "metadata": {
    "colab": {
      "provenance": []
    },
    "kernelspec": {
      "name": "python3",
      "display_name": "Python 3"
    },
    "language_info": {
      "name": "python"
    }
  },
  "cells": [
    {
      "cell_type": "code",
      "execution_count": 191,
      "metadata": {
        "id": "sWas2uX3PQfI"
      },
      "outputs": [],
      "source": [
        "import pandas as pd\n",
        "import numpy as np\n",
        "import seaborn as sns\n",
        "import matplotlib.pyplot as plt"
      ]
    },
    {
      "cell_type": "code",
      "source": [
        "df = pd.read_csv(\"/content/drive/MyDrive/Data Science Datasets/train.csv\")"
      ],
      "metadata": {
        "id": "XAFr5ZtyPdvt"
      },
      "execution_count": 192,
      "outputs": []
    },
    {
      "cell_type": "code",
      "source": [
        "df.head()"
      ],
      "metadata": {
        "colab": {
          "base_uri": "https://localhost:8080/",
          "height": 206
        },
        "id": "SuYMEIh0PuS6",
        "outputId": "306ff52e-0b4f-491d-ea15-b0735e52f83a"
      },
      "execution_count": 193,
      "outputs": [
        {
          "output_type": "execute_result",
          "data": {
            "text/plain": [
              "   ID     crim    zn  indus  chas    nox     rm   age     dis  rad  tax  \\\n",
              "0   1  0.00632  18.0   2.31     0  0.538  6.575  65.2  4.0900    1  296   \n",
              "1   2  0.02731   0.0   7.07     0  0.469  6.421  78.9  4.9671    2  242   \n",
              "2   4  0.03237   0.0   2.18     0  0.458  6.998  45.8  6.0622    3  222   \n",
              "3   5  0.06905   0.0   2.18     0  0.458  7.147  54.2  6.0622    3  222   \n",
              "4   7  0.08829  12.5   7.87     0  0.524  6.012  66.6  5.5605    5  311   \n",
              "\n",
              "   ptratio   black  lstat  medv  \n",
              "0     15.3  396.90   4.98  24.0  \n",
              "1     17.8  396.90   9.14  21.6  \n",
              "2     18.7  394.63   2.94  33.4  \n",
              "3     18.7  396.90   5.33  36.2  \n",
              "4     15.2  395.60  12.43  22.9  "
            ],
            "text/html": [
              "\n",
              "  <div id=\"df-fb99cf6d-9be6-4b31-9cf1-34d52a26bfe8\">\n",
              "    <div class=\"colab-df-container\">\n",
              "      <div>\n",
              "<style scoped>\n",
              "    .dataframe tbody tr th:only-of-type {\n",
              "        vertical-align: middle;\n",
              "    }\n",
              "\n",
              "    .dataframe tbody tr th {\n",
              "        vertical-align: top;\n",
              "    }\n",
              "\n",
              "    .dataframe thead th {\n",
              "        text-align: right;\n",
              "    }\n",
              "</style>\n",
              "<table border=\"1\" class=\"dataframe\">\n",
              "  <thead>\n",
              "    <tr style=\"text-align: right;\">\n",
              "      <th></th>\n",
              "      <th>ID</th>\n",
              "      <th>crim</th>\n",
              "      <th>zn</th>\n",
              "      <th>indus</th>\n",
              "      <th>chas</th>\n",
              "      <th>nox</th>\n",
              "      <th>rm</th>\n",
              "      <th>age</th>\n",
              "      <th>dis</th>\n",
              "      <th>rad</th>\n",
              "      <th>tax</th>\n",
              "      <th>ptratio</th>\n",
              "      <th>black</th>\n",
              "      <th>lstat</th>\n",
              "      <th>medv</th>\n",
              "    </tr>\n",
              "  </thead>\n",
              "  <tbody>\n",
              "    <tr>\n",
              "      <th>0</th>\n",
              "      <td>1</td>\n",
              "      <td>0.00632</td>\n",
              "      <td>18.0</td>\n",
              "      <td>2.31</td>\n",
              "      <td>0</td>\n",
              "      <td>0.538</td>\n",
              "      <td>6.575</td>\n",
              "      <td>65.2</td>\n",
              "      <td>4.0900</td>\n",
              "      <td>1</td>\n",
              "      <td>296</td>\n",
              "      <td>15.3</td>\n",
              "      <td>396.90</td>\n",
              "      <td>4.98</td>\n",
              "      <td>24.0</td>\n",
              "    </tr>\n",
              "    <tr>\n",
              "      <th>1</th>\n",
              "      <td>2</td>\n",
              "      <td>0.02731</td>\n",
              "      <td>0.0</td>\n",
              "      <td>7.07</td>\n",
              "      <td>0</td>\n",
              "      <td>0.469</td>\n",
              "      <td>6.421</td>\n",
              "      <td>78.9</td>\n",
              "      <td>4.9671</td>\n",
              "      <td>2</td>\n",
              "      <td>242</td>\n",
              "      <td>17.8</td>\n",
              "      <td>396.90</td>\n",
              "      <td>9.14</td>\n",
              "      <td>21.6</td>\n",
              "    </tr>\n",
              "    <tr>\n",
              "      <th>2</th>\n",
              "      <td>4</td>\n",
              "      <td>0.03237</td>\n",
              "      <td>0.0</td>\n",
              "      <td>2.18</td>\n",
              "      <td>0</td>\n",
              "      <td>0.458</td>\n",
              "      <td>6.998</td>\n",
              "      <td>45.8</td>\n",
              "      <td>6.0622</td>\n",
              "      <td>3</td>\n",
              "      <td>222</td>\n",
              "      <td>18.7</td>\n",
              "      <td>394.63</td>\n",
              "      <td>2.94</td>\n",
              "      <td>33.4</td>\n",
              "    </tr>\n",
              "    <tr>\n",
              "      <th>3</th>\n",
              "      <td>5</td>\n",
              "      <td>0.06905</td>\n",
              "      <td>0.0</td>\n",
              "      <td>2.18</td>\n",
              "      <td>0</td>\n",
              "      <td>0.458</td>\n",
              "      <td>7.147</td>\n",
              "      <td>54.2</td>\n",
              "      <td>6.0622</td>\n",
              "      <td>3</td>\n",
              "      <td>222</td>\n",
              "      <td>18.7</td>\n",
              "      <td>396.90</td>\n",
              "      <td>5.33</td>\n",
              "      <td>36.2</td>\n",
              "    </tr>\n",
              "    <tr>\n",
              "      <th>4</th>\n",
              "      <td>7</td>\n",
              "      <td>0.08829</td>\n",
              "      <td>12.5</td>\n",
              "      <td>7.87</td>\n",
              "      <td>0</td>\n",
              "      <td>0.524</td>\n",
              "      <td>6.012</td>\n",
              "      <td>66.6</td>\n",
              "      <td>5.5605</td>\n",
              "      <td>5</td>\n",
              "      <td>311</td>\n",
              "      <td>15.2</td>\n",
              "      <td>395.60</td>\n",
              "      <td>12.43</td>\n",
              "      <td>22.9</td>\n",
              "    </tr>\n",
              "  </tbody>\n",
              "</table>\n",
              "</div>\n",
              "      <button class=\"colab-df-convert\" onclick=\"convertToInteractive('df-fb99cf6d-9be6-4b31-9cf1-34d52a26bfe8')\"\n",
              "              title=\"Convert this dataframe to an interactive table.\"\n",
              "              style=\"display:none;\">\n",
              "        \n",
              "  <svg xmlns=\"http://www.w3.org/2000/svg\" height=\"24px\"viewBox=\"0 0 24 24\"\n",
              "       width=\"24px\">\n",
              "    <path d=\"M0 0h24v24H0V0z\" fill=\"none\"/>\n",
              "    <path d=\"M18.56 5.44l.94 2.06.94-2.06 2.06-.94-2.06-.94-.94-2.06-.94 2.06-2.06.94zm-11 1L8.5 8.5l.94-2.06 2.06-.94-2.06-.94L8.5 2.5l-.94 2.06-2.06.94zm10 10l.94 2.06.94-2.06 2.06-.94-2.06-.94-.94-2.06-.94 2.06-2.06.94z\"/><path d=\"M17.41 7.96l-1.37-1.37c-.4-.4-.92-.59-1.43-.59-.52 0-1.04.2-1.43.59L10.3 9.45l-7.72 7.72c-.78.78-.78 2.05 0 2.83L4 21.41c.39.39.9.59 1.41.59.51 0 1.02-.2 1.41-.59l7.78-7.78 2.81-2.81c.8-.78.8-2.07 0-2.86zM5.41 20L4 18.59l7.72-7.72 1.47 1.35L5.41 20z\"/>\n",
              "  </svg>\n",
              "      </button>\n",
              "      \n",
              "  <style>\n",
              "    .colab-df-container {\n",
              "      display:flex;\n",
              "      flex-wrap:wrap;\n",
              "      gap: 12px;\n",
              "    }\n",
              "\n",
              "    .colab-df-convert {\n",
              "      background-color: #E8F0FE;\n",
              "      border: none;\n",
              "      border-radius: 50%;\n",
              "      cursor: pointer;\n",
              "      display: none;\n",
              "      fill: #1967D2;\n",
              "      height: 32px;\n",
              "      padding: 0 0 0 0;\n",
              "      width: 32px;\n",
              "    }\n",
              "\n",
              "    .colab-df-convert:hover {\n",
              "      background-color: #E2EBFA;\n",
              "      box-shadow: 0px 1px 2px rgba(60, 64, 67, 0.3), 0px 1px 3px 1px rgba(60, 64, 67, 0.15);\n",
              "      fill: #174EA6;\n",
              "    }\n",
              "\n",
              "    [theme=dark] .colab-df-convert {\n",
              "      background-color: #3B4455;\n",
              "      fill: #D2E3FC;\n",
              "    }\n",
              "\n",
              "    [theme=dark] .colab-df-convert:hover {\n",
              "      background-color: #434B5C;\n",
              "      box-shadow: 0px 1px 3px 1px rgba(0, 0, 0, 0.15);\n",
              "      filter: drop-shadow(0px 1px 2px rgba(0, 0, 0, 0.3));\n",
              "      fill: #FFFFFF;\n",
              "    }\n",
              "  </style>\n",
              "\n",
              "      <script>\n",
              "        const buttonEl =\n",
              "          document.querySelector('#df-fb99cf6d-9be6-4b31-9cf1-34d52a26bfe8 button.colab-df-convert');\n",
              "        buttonEl.style.display =\n",
              "          google.colab.kernel.accessAllowed ? 'block' : 'none';\n",
              "\n",
              "        async function convertToInteractive(key) {\n",
              "          const element = document.querySelector('#df-fb99cf6d-9be6-4b31-9cf1-34d52a26bfe8');\n",
              "          const dataTable =\n",
              "            await google.colab.kernel.invokeFunction('convertToInteractive',\n",
              "                                                     [key], {});\n",
              "          if (!dataTable) return;\n",
              "\n",
              "          const docLinkHtml = 'Like what you see? Visit the ' +\n",
              "            '<a target=\"_blank\" href=https://colab.research.google.com/notebooks/data_table.ipynb>data table notebook</a>'\n",
              "            + ' to learn more about interactive tables.';\n",
              "          element.innerHTML = '';\n",
              "          dataTable['output_type'] = 'display_data';\n",
              "          await google.colab.output.renderOutput(dataTable, element);\n",
              "          const docLink = document.createElement('div');\n",
              "          docLink.innerHTML = docLinkHtml;\n",
              "          element.appendChild(docLink);\n",
              "        }\n",
              "      </script>\n",
              "    </div>\n",
              "  </div>\n",
              "  "
            ]
          },
          "metadata": {},
          "execution_count": 193
        }
      ]
    },
    {
      "cell_type": "code",
      "source": [
        "df.shape"
      ],
      "metadata": {
        "colab": {
          "base_uri": "https://localhost:8080/"
        },
        "id": "p5gotDgZ6cpB",
        "outputId": "f18d53fc-3500-42be-d4e1-9d8a2b7bf197"
      },
      "execution_count": 194,
      "outputs": [
        {
          "output_type": "execute_result",
          "data": {
            "text/plain": [
              "(333, 15)"
            ]
          },
          "metadata": {},
          "execution_count": 194
        }
      ]
    },
    {
      "cell_type": "code",
      "source": [
        "df.isnull().sum()"
      ],
      "metadata": {
        "id": "vvOEkpzXPvRY",
        "colab": {
          "base_uri": "https://localhost:8080/"
        },
        "outputId": "40ef83a5-b70a-4295-bdd0-402dd4084b10"
      },
      "execution_count": 195,
      "outputs": [
        {
          "output_type": "execute_result",
          "data": {
            "text/plain": [
              "ID         0\n",
              "crim       0\n",
              "zn         0\n",
              "indus      0\n",
              "chas       0\n",
              "nox        0\n",
              "rm         0\n",
              "age        0\n",
              "dis        0\n",
              "rad        0\n",
              "tax        0\n",
              "ptratio    0\n",
              "black      0\n",
              "lstat      0\n",
              "medv       0\n",
              "dtype: int64"
            ]
          },
          "metadata": {},
          "execution_count": 195
        }
      ]
    },
    {
      "cell_type": "code",
      "source": [
        "df.duplicated().sum()"
      ],
      "metadata": {
        "colab": {
          "base_uri": "https://localhost:8080/"
        },
        "id": "bFlpydsCNEMf",
        "outputId": "b194faaa-097c-4977-b721-e4ac3764eb14"
      },
      "execution_count": 196,
      "outputs": [
        {
          "output_type": "execute_result",
          "data": {
            "text/plain": [
              "0"
            ]
          },
          "metadata": {},
          "execution_count": 196
        }
      ]
    },
    {
      "cell_type": "code",
      "source": [
        "df.isna().sum()"
      ],
      "metadata": {
        "colab": {
          "base_uri": "https://localhost:8080/"
        },
        "id": "O7y8z2HaN9t3",
        "outputId": "bd07ac6f-0719-4192-8b07-a14e8917159a"
      },
      "execution_count": 197,
      "outputs": [
        {
          "output_type": "execute_result",
          "data": {
            "text/plain": [
              "ID         0\n",
              "crim       0\n",
              "zn         0\n",
              "indus      0\n",
              "chas       0\n",
              "nox        0\n",
              "rm         0\n",
              "age        0\n",
              "dis        0\n",
              "rad        0\n",
              "tax        0\n",
              "ptratio    0\n",
              "black      0\n",
              "lstat      0\n",
              "medv       0\n",
              "dtype: int64"
            ]
          },
          "metadata": {},
          "execution_count": 197
        }
      ]
    },
    {
      "cell_type": "code",
      "source": [
        "df.info()"
      ],
      "metadata": {
        "colab": {
          "base_uri": "https://localhost:8080/"
        },
        "id": "ZE66voTAOGN8",
        "outputId": "c834e60a-277a-447d-e09c-71a41e4a15eb"
      },
      "execution_count": 198,
      "outputs": [
        {
          "output_type": "stream",
          "name": "stdout",
          "text": [
            "<class 'pandas.core.frame.DataFrame'>\n",
            "RangeIndex: 333 entries, 0 to 332\n",
            "Data columns (total 15 columns):\n",
            " #   Column   Non-Null Count  Dtype  \n",
            "---  ------   --------------  -----  \n",
            " 0   ID       333 non-null    int64  \n",
            " 1   crim     333 non-null    float64\n",
            " 2   zn       333 non-null    float64\n",
            " 3   indus    333 non-null    float64\n",
            " 4   chas     333 non-null    int64  \n",
            " 5   nox      333 non-null    float64\n",
            " 6   rm       333 non-null    float64\n",
            " 7   age      333 non-null    float64\n",
            " 8   dis      333 non-null    float64\n",
            " 9   rad      333 non-null    int64  \n",
            " 10  tax      333 non-null    int64  \n",
            " 11  ptratio  333 non-null    float64\n",
            " 12  black    333 non-null    float64\n",
            " 13  lstat    333 non-null    float64\n",
            " 14  medv     333 non-null    float64\n",
            "dtypes: float64(11), int64(4)\n",
            "memory usage: 39.1 KB\n"
          ]
        }
      ]
    },
    {
      "cell_type": "code",
      "source": [
        "df.describe()"
      ],
      "metadata": {
        "colab": {
          "base_uri": "https://localhost:8080/",
          "height": 364
        },
        "id": "FcHgGJmgOJnE",
        "outputId": "2f09c2c4-9c26-42ea-b4eb-f2a1082ee59f"
      },
      "execution_count": 199,
      "outputs": [
        {
          "output_type": "execute_result",
          "data": {
            "text/plain": [
              "               ID        crim          zn       indus        chas         nox  \\\n",
              "count  333.000000  333.000000  333.000000  333.000000  333.000000  333.000000   \n",
              "mean   250.951952    3.360341   10.689189   11.293483    0.060060    0.557144   \n",
              "std    147.859438    7.352272   22.674762    6.998123    0.237956    0.114955   \n",
              "min      1.000000    0.006320    0.000000    0.740000    0.000000    0.385000   \n",
              "25%    123.000000    0.078960    0.000000    5.130000    0.000000    0.453000   \n",
              "50%    244.000000    0.261690    0.000000    9.900000    0.000000    0.538000   \n",
              "75%    377.000000    3.678220   12.500000   18.100000    0.000000    0.631000   \n",
              "max    506.000000   73.534100  100.000000   27.740000    1.000000    0.871000   \n",
              "\n",
              "               rm         age         dis         rad         tax     ptratio  \\\n",
              "count  333.000000  333.000000  333.000000  333.000000  333.000000  333.000000   \n",
              "mean     6.265619   68.226426    3.709934    9.633634  409.279279   18.448048   \n",
              "std      0.703952   28.133344    1.981123    8.742174  170.841988    2.151821   \n",
              "min      3.561000    6.000000    1.129600    1.000000  188.000000   12.600000   \n",
              "25%      5.884000   45.400000    2.122400    4.000000  279.000000   17.400000   \n",
              "50%      6.202000   76.700000    3.092300    5.000000  330.000000   19.000000   \n",
              "75%      6.595000   93.800000    5.116700   24.000000  666.000000   20.200000   \n",
              "max      8.725000  100.000000   10.710300   24.000000  711.000000   21.200000   \n",
              "\n",
              "            black       lstat        medv  \n",
              "count  333.000000  333.000000  333.000000  \n",
              "mean   359.466096   12.515435   22.768769  \n",
              "std     86.584567    7.067781    9.173468  \n",
              "min      3.500000    1.730000    5.000000  \n",
              "25%    376.730000    7.180000   17.400000  \n",
              "50%    392.050000   10.970000   21.600000  \n",
              "75%    396.240000   16.420000   25.000000  \n",
              "max    396.900000   37.970000   50.000000  "
            ],
            "text/html": [
              "\n",
              "  <div id=\"df-692f6fed-6b36-44f7-9885-c128fc3edfdf\">\n",
              "    <div class=\"colab-df-container\">\n",
              "      <div>\n",
              "<style scoped>\n",
              "    .dataframe tbody tr th:only-of-type {\n",
              "        vertical-align: middle;\n",
              "    }\n",
              "\n",
              "    .dataframe tbody tr th {\n",
              "        vertical-align: top;\n",
              "    }\n",
              "\n",
              "    .dataframe thead th {\n",
              "        text-align: right;\n",
              "    }\n",
              "</style>\n",
              "<table border=\"1\" class=\"dataframe\">\n",
              "  <thead>\n",
              "    <tr style=\"text-align: right;\">\n",
              "      <th></th>\n",
              "      <th>ID</th>\n",
              "      <th>crim</th>\n",
              "      <th>zn</th>\n",
              "      <th>indus</th>\n",
              "      <th>chas</th>\n",
              "      <th>nox</th>\n",
              "      <th>rm</th>\n",
              "      <th>age</th>\n",
              "      <th>dis</th>\n",
              "      <th>rad</th>\n",
              "      <th>tax</th>\n",
              "      <th>ptratio</th>\n",
              "      <th>black</th>\n",
              "      <th>lstat</th>\n",
              "      <th>medv</th>\n",
              "    </tr>\n",
              "  </thead>\n",
              "  <tbody>\n",
              "    <tr>\n",
              "      <th>count</th>\n",
              "      <td>333.000000</td>\n",
              "      <td>333.000000</td>\n",
              "      <td>333.000000</td>\n",
              "      <td>333.000000</td>\n",
              "      <td>333.000000</td>\n",
              "      <td>333.000000</td>\n",
              "      <td>333.000000</td>\n",
              "      <td>333.000000</td>\n",
              "      <td>333.000000</td>\n",
              "      <td>333.000000</td>\n",
              "      <td>333.000000</td>\n",
              "      <td>333.000000</td>\n",
              "      <td>333.000000</td>\n",
              "      <td>333.000000</td>\n",
              "      <td>333.000000</td>\n",
              "    </tr>\n",
              "    <tr>\n",
              "      <th>mean</th>\n",
              "      <td>250.951952</td>\n",
              "      <td>3.360341</td>\n",
              "      <td>10.689189</td>\n",
              "      <td>11.293483</td>\n",
              "      <td>0.060060</td>\n",
              "      <td>0.557144</td>\n",
              "      <td>6.265619</td>\n",
              "      <td>68.226426</td>\n",
              "      <td>3.709934</td>\n",
              "      <td>9.633634</td>\n",
              "      <td>409.279279</td>\n",
              "      <td>18.448048</td>\n",
              "      <td>359.466096</td>\n",
              "      <td>12.515435</td>\n",
              "      <td>22.768769</td>\n",
              "    </tr>\n",
              "    <tr>\n",
              "      <th>std</th>\n",
              "      <td>147.859438</td>\n",
              "      <td>7.352272</td>\n",
              "      <td>22.674762</td>\n",
              "      <td>6.998123</td>\n",
              "      <td>0.237956</td>\n",
              "      <td>0.114955</td>\n",
              "      <td>0.703952</td>\n",
              "      <td>28.133344</td>\n",
              "      <td>1.981123</td>\n",
              "      <td>8.742174</td>\n",
              "      <td>170.841988</td>\n",
              "      <td>2.151821</td>\n",
              "      <td>86.584567</td>\n",
              "      <td>7.067781</td>\n",
              "      <td>9.173468</td>\n",
              "    </tr>\n",
              "    <tr>\n",
              "      <th>min</th>\n",
              "      <td>1.000000</td>\n",
              "      <td>0.006320</td>\n",
              "      <td>0.000000</td>\n",
              "      <td>0.740000</td>\n",
              "      <td>0.000000</td>\n",
              "      <td>0.385000</td>\n",
              "      <td>3.561000</td>\n",
              "      <td>6.000000</td>\n",
              "      <td>1.129600</td>\n",
              "      <td>1.000000</td>\n",
              "      <td>188.000000</td>\n",
              "      <td>12.600000</td>\n",
              "      <td>3.500000</td>\n",
              "      <td>1.730000</td>\n",
              "      <td>5.000000</td>\n",
              "    </tr>\n",
              "    <tr>\n",
              "      <th>25%</th>\n",
              "      <td>123.000000</td>\n",
              "      <td>0.078960</td>\n",
              "      <td>0.000000</td>\n",
              "      <td>5.130000</td>\n",
              "      <td>0.000000</td>\n",
              "      <td>0.453000</td>\n",
              "      <td>5.884000</td>\n",
              "      <td>45.400000</td>\n",
              "      <td>2.122400</td>\n",
              "      <td>4.000000</td>\n",
              "      <td>279.000000</td>\n",
              "      <td>17.400000</td>\n",
              "      <td>376.730000</td>\n",
              "      <td>7.180000</td>\n",
              "      <td>17.400000</td>\n",
              "    </tr>\n",
              "    <tr>\n",
              "      <th>50%</th>\n",
              "      <td>244.000000</td>\n",
              "      <td>0.261690</td>\n",
              "      <td>0.000000</td>\n",
              "      <td>9.900000</td>\n",
              "      <td>0.000000</td>\n",
              "      <td>0.538000</td>\n",
              "      <td>6.202000</td>\n",
              "      <td>76.700000</td>\n",
              "      <td>3.092300</td>\n",
              "      <td>5.000000</td>\n",
              "      <td>330.000000</td>\n",
              "      <td>19.000000</td>\n",
              "      <td>392.050000</td>\n",
              "      <td>10.970000</td>\n",
              "      <td>21.600000</td>\n",
              "    </tr>\n",
              "    <tr>\n",
              "      <th>75%</th>\n",
              "      <td>377.000000</td>\n",
              "      <td>3.678220</td>\n",
              "      <td>12.500000</td>\n",
              "      <td>18.100000</td>\n",
              "      <td>0.000000</td>\n",
              "      <td>0.631000</td>\n",
              "      <td>6.595000</td>\n",
              "      <td>93.800000</td>\n",
              "      <td>5.116700</td>\n",
              "      <td>24.000000</td>\n",
              "      <td>666.000000</td>\n",
              "      <td>20.200000</td>\n",
              "      <td>396.240000</td>\n",
              "      <td>16.420000</td>\n",
              "      <td>25.000000</td>\n",
              "    </tr>\n",
              "    <tr>\n",
              "      <th>max</th>\n",
              "      <td>506.000000</td>\n",
              "      <td>73.534100</td>\n",
              "      <td>100.000000</td>\n",
              "      <td>27.740000</td>\n",
              "      <td>1.000000</td>\n",
              "      <td>0.871000</td>\n",
              "      <td>8.725000</td>\n",
              "      <td>100.000000</td>\n",
              "      <td>10.710300</td>\n",
              "      <td>24.000000</td>\n",
              "      <td>711.000000</td>\n",
              "      <td>21.200000</td>\n",
              "      <td>396.900000</td>\n",
              "      <td>37.970000</td>\n",
              "      <td>50.000000</td>\n",
              "    </tr>\n",
              "  </tbody>\n",
              "</table>\n",
              "</div>\n",
              "      <button class=\"colab-df-convert\" onclick=\"convertToInteractive('df-692f6fed-6b36-44f7-9885-c128fc3edfdf')\"\n",
              "              title=\"Convert this dataframe to an interactive table.\"\n",
              "              style=\"display:none;\">\n",
              "        \n",
              "  <svg xmlns=\"http://www.w3.org/2000/svg\" height=\"24px\"viewBox=\"0 0 24 24\"\n",
              "       width=\"24px\">\n",
              "    <path d=\"M0 0h24v24H0V0z\" fill=\"none\"/>\n",
              "    <path d=\"M18.56 5.44l.94 2.06.94-2.06 2.06-.94-2.06-.94-.94-2.06-.94 2.06-2.06.94zm-11 1L8.5 8.5l.94-2.06 2.06-.94-2.06-.94L8.5 2.5l-.94 2.06-2.06.94zm10 10l.94 2.06.94-2.06 2.06-.94-2.06-.94-.94-2.06-.94 2.06-2.06.94z\"/><path d=\"M17.41 7.96l-1.37-1.37c-.4-.4-.92-.59-1.43-.59-.52 0-1.04.2-1.43.59L10.3 9.45l-7.72 7.72c-.78.78-.78 2.05 0 2.83L4 21.41c.39.39.9.59 1.41.59.51 0 1.02-.2 1.41-.59l7.78-7.78 2.81-2.81c.8-.78.8-2.07 0-2.86zM5.41 20L4 18.59l7.72-7.72 1.47 1.35L5.41 20z\"/>\n",
              "  </svg>\n",
              "      </button>\n",
              "      \n",
              "  <style>\n",
              "    .colab-df-container {\n",
              "      display:flex;\n",
              "      flex-wrap:wrap;\n",
              "      gap: 12px;\n",
              "    }\n",
              "\n",
              "    .colab-df-convert {\n",
              "      background-color: #E8F0FE;\n",
              "      border: none;\n",
              "      border-radius: 50%;\n",
              "      cursor: pointer;\n",
              "      display: none;\n",
              "      fill: #1967D2;\n",
              "      height: 32px;\n",
              "      padding: 0 0 0 0;\n",
              "      width: 32px;\n",
              "    }\n",
              "\n",
              "    .colab-df-convert:hover {\n",
              "      background-color: #E2EBFA;\n",
              "      box-shadow: 0px 1px 2px rgba(60, 64, 67, 0.3), 0px 1px 3px 1px rgba(60, 64, 67, 0.15);\n",
              "      fill: #174EA6;\n",
              "    }\n",
              "\n",
              "    [theme=dark] .colab-df-convert {\n",
              "      background-color: #3B4455;\n",
              "      fill: #D2E3FC;\n",
              "    }\n",
              "\n",
              "    [theme=dark] .colab-df-convert:hover {\n",
              "      background-color: #434B5C;\n",
              "      box-shadow: 0px 1px 3px 1px rgba(0, 0, 0, 0.15);\n",
              "      filter: drop-shadow(0px 1px 2px rgba(0, 0, 0, 0.3));\n",
              "      fill: #FFFFFF;\n",
              "    }\n",
              "  </style>\n",
              "\n",
              "      <script>\n",
              "        const buttonEl =\n",
              "          document.querySelector('#df-692f6fed-6b36-44f7-9885-c128fc3edfdf button.colab-df-convert');\n",
              "        buttonEl.style.display =\n",
              "          google.colab.kernel.accessAllowed ? 'block' : 'none';\n",
              "\n",
              "        async function convertToInteractive(key) {\n",
              "          const element = document.querySelector('#df-692f6fed-6b36-44f7-9885-c128fc3edfdf');\n",
              "          const dataTable =\n",
              "            await google.colab.kernel.invokeFunction('convertToInteractive',\n",
              "                                                     [key], {});\n",
              "          if (!dataTable) return;\n",
              "\n",
              "          const docLinkHtml = 'Like what you see? Visit the ' +\n",
              "            '<a target=\"_blank\" href=https://colab.research.google.com/notebooks/data_table.ipynb>data table notebook</a>'\n",
              "            + ' to learn more about interactive tables.';\n",
              "          element.innerHTML = '';\n",
              "          dataTable['output_type'] = 'display_data';\n",
              "          await google.colab.output.renderOutput(dataTable, element);\n",
              "          const docLink = document.createElement('div');\n",
              "          docLink.innerHTML = docLinkHtml;\n",
              "          element.appendChild(docLink);\n",
              "        }\n",
              "      </script>\n",
              "    </div>\n",
              "  </div>\n",
              "  "
            ]
          },
          "metadata": {},
          "execution_count": 199
        }
      ]
    },
    {
      "cell_type": "markdown",
      "source": [
        "#**EDA Analysis**#"
      ],
      "metadata": {
        "id": "k2tUk3tWhnNh"
      }
    },
    {
      "cell_type": "code",
      "source": [
        "sns.distplot(df['medv'])"
      ],
      "metadata": {
        "id": "bXha-6UdOLKG",
        "colab": {
          "base_uri": "https://localhost:8080/",
          "height": 657
        },
        "outputId": "7c1ab61f-f0d9-46d2-d15a-e62193ff708b"
      },
      "execution_count": 200,
      "outputs": [
        {
          "output_type": "stream",
          "name": "stderr",
          "text": [
            "<ipython-input-200-7afa406ce0c7>:1: UserWarning: \n",
            "\n",
            "`distplot` is a deprecated function and will be removed in seaborn v0.14.0.\n",
            "\n",
            "Please adapt your code to use either `displot` (a figure-level function with\n",
            "similar flexibility) or `histplot` (an axes-level function for histograms).\n",
            "\n",
            "For a guide to updating your code to use the new functions, please see\n",
            "https://gist.github.com/mwaskom/de44147ed2974457ad6372750bbe5751\n",
            "\n",
            "  sns.distplot(df['medv'])\n"
          ]
        },
        {
          "output_type": "execute_result",
          "data": {
            "text/plain": [
              "<Axes: xlabel='medv', ylabel='Density'>"
            ]
          },
          "metadata": {},
          "execution_count": 200
        },
        {
          "output_type": "display_data",
          "data": {
            "text/plain": [
              "<Figure size 640x480 with 1 Axes>"
            ],
            "image/png": "[encoded data removed]"
          },
          "metadata": {}
        }
      ]
    },
    {
      "cell_type": "code",
      "source": [
        "sns.displot(data=df, x='age', kind='kde')\n",
        "sns.displot(data=df, x='medv', kind='kde')"
      ],
      "metadata": {
        "colab": {
          "base_uri": "https://localhost:8080/",
          "height": 1000
        },
        "id": "0gUMOoz_hySn",
        "outputId": "21941967-e735-4dc1-d891-5e3748fd9fb6"
      },
      "execution_count": 201,
      "outputs": [
        {
          "output_type": "execute_result",
          "data": {
            "text/plain": [
              "<seaborn.axisgrid.FacetGrid at 0x7f61cba930d0>"
            ]
          },
          "metadata": {},
          "execution_count": 201
        },
        {
          "output_type": "display_data",
          "data": {
            "text/plain": [
              "<Figure size 500x500 with 1 Axes>"
            ],
            "image/png": "[encoded data removed]"
          },
          "metadata": {}
        },
        {
          "output_type": "display_data",
          "data": {
            "text/plain": [
              "<Figure size 500x500 with 1 Axes>"
            ],
            "image/png": "[encoded data removed]"
          },
          "metadata": {}
        }
      ]
    },
    {
      "cell_type": "code",
      "source": [
        "sns.heatmap(df.iloc[:,1:].corr())"
      ],
      "metadata": {
        "colab": {
          "base_uri": "https://localhost:8080/",
          "height": 485
        },
        "id": "ikkoSum7iKuh",
        "outputId": "f1c464e1-2bab-4517-cb2b-b8d0985625cd"
      },
      "execution_count": 202,
      "outputs": [
        {
          "output_type": "execute_result",
          "data": {
            "text/plain": [
              "<Axes: >"
            ]
          },
          "metadata": {},
          "execution_count": 202
        },
        {
          "output_type": "display_data",
          "data": {
            "text/plain": [
              "<Figure size 640x480 with 2 Axes>"
            ],
            "image/png": "[encoded data removed]"
          },
          "metadata": {}
        }
      ]
    },
    {
      "cell_type": "code",
      "source": [
        "plt.figure(1, figsize=(8,5))\n",
        "plt.subplot(1, 2, 1)\n",
        "sns.scatterplot(data=df, x='medv', y='lstat')\n",
        "plt.subplot(1, 2, 2)\n",
        "sns.scatterplot(data=df, x='medv', y='rm')"
      ],
      "metadata": {
        "colab": {
          "base_uri": "https://localhost:8080/",
          "height": 482
        },
        "id": "JnULDoPGjYcd",
        "outputId": "4acf5c8d-358e-4c4d-8db3-27998e47800c"
      },
      "execution_count": 203,
      "outputs": [
        {
          "output_type": "execute_result",
          "data": {
            "text/plain": [
              "<Axes: xlabel='medv', ylabel='rm'>"
            ]
          },
          "metadata": {},
          "execution_count": 203
        },
        {
          "output_type": "display_data",
          "data": {
            "text/plain": [
              "<Figure size 800x500 with 2 Axes>"
            ],
            "image/png": "[encoded data removed]"
          },
          "metadata": {}
        }
      ]
    },
    {
      "cell_type": "code",
      "source": [
        "plt.figure(1, (8, 10))\n",
        "plt.subplot(2, 1, 1)\n",
        "sns.boxplot(data=df, x='rm')\n",
        "plt.subplot(2, 1, 2)\n",
        "sns.boxplot(data=df, x='lstat')"
      ],
      "metadata": {
        "colab": {
          "base_uri": "https://localhost:8080/",
          "height": 867
        },
        "id": "WzxIXPyij7rL",
        "outputId": "7007129a-ab13-4d33-be3d-d2ee7d140bf3"
      },
      "execution_count": 204,
      "outputs": [
        {
          "output_type": "execute_result",
          "data": {
            "text/plain": [
              "<Axes: xlabel='lstat'>"
            ]
          },
          "metadata": {},
          "execution_count": 204
        },
        {
          "output_type": "display_data",
          "data": {
            "text/plain": [
              "<Figure size 800x1000 with 2 Axes>"
            ],
            "image/png": "[encoded data removed]"
          },
          "metadata": {}
        }
      ]
    },
    {
      "cell_type": "markdown",
      "source": [
        "#**Handling Outliers With Capping**#"
      ],
      "metadata": {
        "id": "YFAIkmy1tyYD"
      }
    },
    {
      "cell_type": "markdown",
      "source": [
        "###**For RM**###"
      ],
      "metadata": {
        "id": "hcxaRDQFt8a_"
      }
    },
    {
      "cell_type": "code",
      "source": [
        "Q1, Q3 = np.percentile(df['rm'], [25, 75])\n",
        "print(f\"Q1 is {Q1} || and Q3 is {Q3}\")\n",
        "IQR = Q3 - Q1\n",
        "print(f\"IQR is : {IQR}\")\n",
        "upper_limit = Q3 + 1.5 * IQR\n",
        "lower_limit = Q1 - 1.5 * IQR\n",
        "print(f\"Lower Limit is {lower_limit} and Upper Limit is {upper_limit}\")"
      ],
      "metadata": {
        "colab": {
          "base_uri": "https://localhost:8080/"
        },
        "id": "YS95_JxWt8GR",
        "outputId": "66424390-be15-47a8-87ca-0dbb35298548"
      },
      "execution_count": 205,
      "outputs": [
        {
          "output_type": "stream",
          "name": "stdout",
          "text": [
            "Q1 is 5.884 || and Q3 is 6.595\n",
            "IQR is : 0.7109999999999994\n",
            "Lower Limit is 4.817500000000001 and Upper Limit is 7.661499999999998\n"
          ]
        }
      ]
    },
    {
      "cell_type": "code",
      "source": [
        "outliers_rm = [outlier for outlier in df['rm'] if outlier > upper_limit or outlier < lower_limit]\n",
        "print(f\"Outliers in RM column are {outliers_rm}\")"
      ],
      "metadata": {
        "colab": {
          "base_uri": "https://localhost:8080/"
        },
        "id": "Jf7FUYhd4fQH",
        "outputId": "dead4148-efad-49c4-8863-32dd13f597b2"
      },
      "execution_count": 206,
      "outputs": [
        {
          "output_type": "stream",
          "name": "stdout",
          "text": [
            "Outliers in RM column are [8.375, 7.929, 7.765, 7.831, 7.853, 8.034, 8.266, 8.725, 8.04, 8.337, 8.247, 8.259, 8.398, 7.691, 7.923, 3.561, 3.863, 4.138, 4.368, 4.652, 4.519]\n"
          ]
        }
      ]
    },
    {
      "cell_type": "code",
      "source": [
        "df['rm'] = np.where(df['rm'] > upper_limit, upper_limit, np.where(df['rm'] < lower_limit, lower_limit, df['rm']))"
      ],
      "metadata": {
        "id": "n00EyNtVt5U0"
      },
      "execution_count": 207,
      "outputs": []
    },
    {
      "cell_type": "code",
      "source": [
        "sns.boxplot(data=df, x='rm')"
      ],
      "metadata": {
        "colab": {
          "base_uri": "https://localhost:8080/",
          "height": 466
        },
        "id": "lOj9XLVc7L-8",
        "outputId": "401483c1-281c-4e4d-eacc-fd98e7674007"
      },
      "execution_count": 208,
      "outputs": [
        {
          "output_type": "execute_result",
          "data": {
            "text/plain": [
              "<Axes: xlabel='rm'>"
            ]
          },
          "metadata": {},
          "execution_count": 208
        },
        {
          "output_type": "display_data",
          "data": {
            "text/plain": [
              "<Figure size 640x480 with 1 Axes>"
            ],
            "image/png": "[encoded data removed]"
          },
          "metadata": {}
        }
      ]
    },
    {
      "cell_type": "markdown",
      "source": [
        "###**For lstat**###"
      ],
      "metadata": {
        "id": "cEjGkT5l7NuW"
      }
    },
    {
      "cell_type": "code",
      "source": [
        "Q1, Q3 = np.percentile(df['lstat'], [25, 75])\n",
        "print(f\"Q1 is {Q1} || and Q3 is {Q3}\")\n",
        "IQR = Q3 - Q1\n",
        "print(f\"IQR is : {IQR}\")\n",
        "upper_limit = Q3 + 1.5 * IQR\n",
        "lower_limit = Q1 - 1.5 * IQR\n",
        "print(f\"Lower Limit is {lower_limit} and Upper Limit is {upper_limit}\")"
      ],
      "metadata": {
        "colab": {
          "base_uri": "https://localhost:8080/"
        },
        "id": "YnTHQQGn7Snx",
        "outputId": "9a2b0760-73a5-4577-af5a-fdb39a5a6956"
      },
      "execution_count": 209,
      "outputs": [
        {
          "output_type": "stream",
          "name": "stdout",
          "text": [
            "Q1 is 7.18 || and Q3 is 16.42\n",
            "IQR is : 9.240000000000002\n",
            "Lower Limit is -6.680000000000003 and Upper Limit is 30.280000000000005\n"
          ]
        }
      ]
    },
    {
      "cell_type": "code",
      "source": [
        "outliers_rm = [outlier for outlier in df['lstat'] if outlier > upper_limit or outlier < lower_limit]\n",
        "print(f\"Outliers in lstat column are {outliers_rm}\")"
      ],
      "metadata": {
        "colab": {
          "base_uri": "https://localhost:8080/"
        },
        "id": "wDhpvQMH7YYD",
        "outputId": "af66f940-aadf-4c96-bf40-de0b3b324340"
      },
      "execution_count": 210,
      "outputs": [
        {
          "output_type": "stream",
          "name": "stdout",
          "text": [
            "Outliers in lstat column are [34.41, 34.77, 37.97, 30.63, 31.99, 30.59, 36.98]\n"
          ]
        }
      ]
    },
    {
      "cell_type": "code",
      "source": [
        "df['lstat'] = np.where(df['lstat'] > upper_limit, upper_limit, np.where(df['lstat'] < lower_limit, lower_limit, df['lstat']))"
      ],
      "metadata": {
        "id": "PJ1FGkV17cci"
      },
      "execution_count": 211,
      "outputs": []
    },
    {
      "cell_type": "code",
      "source": [
        "sns.boxplot(data=df, x='lstat')"
      ],
      "metadata": {
        "colab": {
          "base_uri": "https://localhost:8080/",
          "height": 466
        },
        "id": "ZnggHKog8YDg",
        "outputId": "1c450270-3d2e-4776-d89e-0756dd241ed3"
      },
      "execution_count": 236,
      "outputs": [
        {
          "output_type": "execute_result",
          "data": {
            "text/plain": [
              "<Axes: xlabel='lstat'>"
            ]
          },
          "metadata": {},
          "execution_count": 236
        },
        {
          "output_type": "display_data",
          "data": {
            "text/plain": [
              "<Figure size 640x480 with 1 Axes>"
            ],
            "image/png": "[encoded data removed]"
          },
          "metadata": {}
        }
      ]
    },
    {
      "cell_type": "markdown",
      "source": [
        "#**Preparing Data For Training**#"
      ],
      "metadata": {
        "id": "0SKr1pnop4hH"
      }
    },
    {
      "cell_type": "code",
      "source": [
        "x = pd.DataFrame(np.c_[df['lstat'], df['rm']], columns=['lstat', 'rm'])\n",
        "y = df['medv']"
      ],
      "metadata": {
        "id": "7bfaD-5_m_3n"
      },
      "execution_count": 212,
      "outputs": []
    },
    {
      "cell_type": "code",
      "source": [
        "x"
      ],
      "metadata": {
        "colab": {
          "base_uri": "https://localhost:8080/",
          "height": 424
        },
        "id": "AiQDZKXfqRLw",
        "outputId": "0b4a2e60-39ca-4544-9f90-cf0c5fb3fd8a"
      },
      "execution_count": 213,
      "outputs": [
        {
          "output_type": "execute_result",
          "data": {
            "text/plain": [
              "     lstat     rm\n",
              "0     4.98  6.575\n",
              "1     9.14  6.421\n",
              "2     2.94  6.998\n",
              "3     5.33  7.147\n",
              "4    12.43  6.012\n",
              "..     ...    ...\n",
              "328  15.10  5.569\n",
              "329   9.67  6.593\n",
              "330   9.08  6.120\n",
              "331   5.64  6.976\n",
              "332   7.88  6.030\n",
              "\n",
              "[333 rows x 2 columns]"
            ],
            "text/html": [
              "\n",
              "  <div id=\"df-b4660e8b-382e-478a-8a4e-8acaf40f8b9f\">\n",
              "    <div class=\"colab-df-container\">\n",
              "      <div>\n",
              "<style scoped>\n",
              "    .dataframe tbody tr th:only-of-type {\n",
              "        vertical-align: middle;\n",
              "    }\n",
              "\n",
              "    .dataframe tbody tr th {\n",
              "        vertical-align: top;\n",
              "    }\n",
              "\n",
              "    .dataframe thead th {\n",
              "        text-align: right;\n",
              "    }\n",
              "</style>\n",
              "<table border=\"1\" class=\"dataframe\">\n",
              "  <thead>\n",
              "    <tr style=\"text-align: right;\">\n",
              "      <th></th>\n",
              "      <th>lstat</th>\n",
              "      <th>rm</th>\n",
              "    </tr>\n",
              "  </thead>\n",
              "  <tbody>\n",
              "    <tr>\n",
              "      <th>0</th>\n",
              "      <td>4.98</td>\n",
              "      <td>6.575</td>\n",
              "    </tr>\n",
              "    <tr>\n",
              "      <th>1</th>\n",
              "      <td>9.14</td>\n",
              "      <td>6.421</td>\n",
              "    </tr>\n",
              "    <tr>\n",
              "      <th>2</th>\n",
              "      <td>2.94</td>\n",
              "      <td>6.998</td>\n",
              "    </tr>\n",
              "    <tr>\n",
              "      <th>3</th>\n",
              "      <td>5.33</td>\n",
              "      <td>7.147</td>\n",
              "    </tr>\n",
              "    <tr>\n",
              "      <th>4</th>\n",
              "      <td>12.43</td>\n",
              "      <td>6.012</td>\n",
              "    </tr>\n",
              "    <tr>\n",
              "      <th>...</th>\n",
              "      <td>...</td>\n",
              "      <td>...</td>\n",
              "    </tr>\n",
              "    <tr>\n",
              "      <th>328</th>\n",
              "      <td>15.10</td>\n",
              "      <td>5.569</td>\n",
              "    </tr>\n",
              "    <tr>\n",
              "      <th>329</th>\n",
              "      <td>9.67</td>\n",
              "      <td>6.593</td>\n",
              "    </tr>\n",
              "    <tr>\n",
              "      <th>330</th>\n",
              "      <td>9.08</td>\n",
              "      <td>6.120</td>\n",
              "    </tr>\n",
              "    <tr>\n",
              "      <th>331</th>\n",
              "      <td>5.64</td>\n",
              "      <td>6.976</td>\n",
              "    </tr>\n",
              "    <tr>\n",
              "      <th>332</th>\n",
              "      <td>7.88</td>\n",
              "      <td>6.030</td>\n",
              "    </tr>\n",
              "  </tbody>\n",
              "</table>\n",
              "<p>333 rows × 2 columns</p>\n",
              "</div>\n",
              "      <button class=\"colab-df-convert\" onclick=\"convertToInteractive('df-b4660e8b-382e-478a-8a4e-8acaf40f8b9f')\"\n",
              "              title=\"Convert this dataframe to an interactive table.\"\n",
              "              style=\"display:none;\">\n",
              "        \n",
              "  <svg xmlns=\"http://www.w3.org/2000/svg\" height=\"24px\"viewBox=\"0 0 24 24\"\n",
              "       width=\"24px\">\n",
              "    <path d=\"M0 0h24v24H0V0z\" fill=\"none\"/>\n",
              "    <path d=\"M18.56 5.44l.94 2.06.94-2.06 2.06-.94-2.06-.94-.94-2.06-.94 2.06-2.06.94zm-11 1L8.5 8.5l.94-2.06 2.06-.94-2.06-.94L8.5 2.5l-.94 2.06-2.06.94zm10 10l.94 2.06.94-2.06 2.06-.94-2.06-.94-.94-2.06-.94 2.06-2.06.94z\"/><path d=\"M17.41 7.96l-1.37-1.37c-.4-.4-.92-.59-1.43-.59-.52 0-1.04.2-1.43.59L10.3 9.45l-7.72 7.72c-.78.78-.78 2.05 0 2.83L4 21.41c.39.39.9.59 1.41.59.51 0 1.02-.2 1.41-.59l7.78-7.78 2.81-2.81c.8-.78.8-2.07 0-2.86zM5.41 20L4 18.59l7.72-7.72 1.47 1.35L5.41 20z\"/>\n",
              "  </svg>\n",
              "      </button>\n",
              "      \n",
              "  <style>\n",
              "    .colab-df-container {\n",
              "      display:flex;\n",
              "      flex-wrap:wrap;\n",
              "      gap: 12px;\n",
              "    }\n",
              "\n",
              "    .colab-df-convert {\n",
              "      background-color: #E8F0FE;\n",
              "      border: none;\n",
              "      border-radius: 50%;\n",
              "      cursor: pointer;\n",
              "      display: none;\n",
              "      fill: #1967D2;\n",
              "      height: 32px;\n",
              "      padding: 0 0 0 0;\n",
              "      width: 32px;\n",
              "    }\n",
              "\n",
              "    .colab-df-convert:hover {\n",
              "      background-color: #E2EBFA;\n",
              "      box-shadow: 0px 1px 2px rgba(60, 64, 67, 0.3), 0px 1px 3px 1px rgba(60, 64, 67, 0.15);\n",
              "      fill: #174EA6;\n",
              "    }\n",
              "\n",
              "    [theme=dark] .colab-df-convert {\n",
              "      background-color: #3B4455;\n",
              "      fill: #D2E3FC;\n",
              "    }\n",
              "\n",
              "    [theme=dark] .colab-df-convert:hover {\n",
              "      background-color: #434B5C;\n",
              "      box-shadow: 0px 1px 3px 1px rgba(0, 0, 0, 0.15);\n",
              "      filter: drop-shadow(0px 1px 2px rgba(0, 0, 0, 0.3));\n",
              "      fill: #FFFFFF;\n",
              "    }\n",
              "  </style>\n",
              "\n",
              "      <script>\n",
              "        const buttonEl =\n",
              "          document.querySelector('#df-b4660e8b-382e-478a-8a4e-8acaf40f8b9f button.colab-df-convert');\n",
              "        buttonEl.style.display =\n",
              "          google.colab.kernel.accessAllowed ? 'block' : 'none';\n",
              "\n",
              "        async function convertToInteractive(key) {\n",
              "          const element = document.querySelector('#df-b4660e8b-382e-478a-8a4e-8acaf40f8b9f');\n",
              "          const dataTable =\n",
              "            await google.colab.kernel.invokeFunction('convertToInteractive',\n",
              "                                                     [key], {});\n",
              "          if (!dataTable) return;\n",
              "\n",
              "          const docLinkHtml = 'Like what you see? Visit the ' +\n",
              "            '<a target=\"_blank\" href=https://colab.research.google.com/notebooks/data_table.ipynb>data table notebook</a>'\n",
              "            + ' to learn more about interactive tables.';\n",
              "          element.innerHTML = '';\n",
              "          dataTable['output_type'] = 'display_data';\n",
              "          await google.colab.output.renderOutput(dataTable, element);\n",
              "          const docLink = document.createElement('div');\n",
              "          docLink.innerHTML = docLinkHtml;\n",
              "          element.appendChild(docLink);\n",
              "        }\n",
              "      </script>\n",
              "    </div>\n",
              "  </div>\n",
              "  "
            ]
          },
          "metadata": {},
          "execution_count": 213
        }
      ]
    },
    {
      "cell_type": "code",
      "source": [
        "y"
      ],
      "metadata": {
        "colab": {
          "base_uri": "https://localhost:8080/"
        },
        "id": "vLqtNuDwqWaj",
        "outputId": "af80fd73-8863-4242-b71a-c18dcc0c7434"
      },
      "execution_count": 214,
      "outputs": [
        {
          "output_type": "execute_result",
          "data": {
            "text/plain": [
              "0      24.0\n",
              "1      21.6\n",
              "2      33.4\n",
              "3      36.2\n",
              "4      22.9\n",
              "       ... \n",
              "328    17.5\n",
              "329    22.4\n",
              "330    20.6\n",
              "331    23.9\n",
              "332    11.9\n",
              "Name: medv, Length: 333, dtype: float64"
            ]
          },
          "metadata": {},
          "execution_count": 214
        }
      ]
    },
    {
      "cell_type": "code",
      "source": [
        "from sklearn.model_selection import train_test_split\n",
        "x_train, x_test, y_train, y_test = train_test_split(x, y, test_size=0.2, random_state=5)"
      ],
      "metadata": {
        "id": "_Nsucn9tqiQI"
      },
      "execution_count": 215,
      "outputs": []
    },
    {
      "cell_type": "code",
      "source": [
        "x_train"
      ],
      "metadata": {
        "colab": {
          "base_uri": "https://localhost:8080/",
          "height": 424
        },
        "id": "YIFsZxOZq8Cm",
        "outputId": "3526a1a6-33c5-4414-c754-921d18ba45c9"
      },
      "execution_count": 216,
      "outputs": [
        {
          "output_type": "execute_result",
          "data": {
            "text/plain": [
              "     lstat      rm\n",
              "240   7.12  4.8175\n",
              "289  23.98  6.4590\n",
              "139   4.45  7.1350\n",
              "276  21.52  6.1930\n",
              "264  19.77  5.3490\n",
              "..     ...     ...\n",
              "8     8.26  5.9490\n",
              "73   12.27  6.4740\n",
              "118  14.69  5.5720\n",
              "189   3.16  7.6615\n",
              "206   9.97  5.9720\n",
              "\n",
              "[266 rows x 2 columns]"
            ],
            "text/html": [
              "\n",
              "  <div id=\"df-775c545a-1cd1-4e5d-9a26-f956e509a1b9\">\n",
              "    <div class=\"colab-df-container\">\n",
              "      <div>\n",
              "<style scoped>\n",
              "    .dataframe tbody tr th:only-of-type {\n",
              "        vertical-align: middle;\n",
              "    }\n",
              "\n",
              "    .dataframe tbody tr th {\n",
              "        vertical-align: top;\n",
              "    }\n",
              "\n",
              "    .dataframe thead th {\n",
              "        text-align: right;\n",
              "    }\n",
              "</style>\n",
              "<table border=\"1\" class=\"dataframe\">\n",
              "  <thead>\n",
              "    <tr style=\"text-align: right;\">\n",
              "      <th></th>\n",
              "      <th>lstat</th>\n",
              "      <th>rm</th>\n",
              "    </tr>\n",
              "  </thead>\n",
              "  <tbody>\n",
              "    <tr>\n",
              "      <th>240</th>\n",
              "      <td>7.12</td>\n",
              "      <td>4.8175</td>\n",
              "    </tr>\n",
              "    <tr>\n",
              "      <th>289</th>\n",
              "      <td>23.98</td>\n",
              "      <td>6.4590</td>\n",
              "    </tr>\n",
              "    <tr>\n",
              "      <th>139</th>\n",
              "      <td>4.45</td>\n",
              "      <td>7.1350</td>\n",
              "    </tr>\n",
              "    <tr>\n",
              "      <th>276</th>\n",
              "      <td>21.52</td>\n",
              "      <td>6.1930</td>\n",
              "    </tr>\n",
              "    <tr>\n",
              "      <th>264</th>\n",
              "      <td>19.77</td>\n",
              "      <td>5.3490</td>\n",
              "    </tr>\n",
              "    <tr>\n",
              "      <th>...</th>\n",
              "      <td>...</td>\n",
              "      <td>...</td>\n",
              "    </tr>\n",
              "    <tr>\n",
              "      <th>8</th>\n",
              "      <td>8.26</td>\n",
              "      <td>5.9490</td>\n",
              "    </tr>\n",
              "    <tr>\n",
              "      <th>73</th>\n",
              "      <td>12.27</td>\n",
              "      <td>6.4740</td>\n",
              "    </tr>\n",
              "    <tr>\n",
              "      <th>118</th>\n",
              "      <td>14.69</td>\n",
              "      <td>5.5720</td>\n",
              "    </tr>\n",
              "    <tr>\n",
              "      <th>189</th>\n",
              "      <td>3.16</td>\n",
              "      <td>7.6615</td>\n",
              "    </tr>\n",
              "    <tr>\n",
              "      <th>206</th>\n",
              "      <td>9.97</td>\n",
              "      <td>5.9720</td>\n",
              "    </tr>\n",
              "  </tbody>\n",
              "</table>\n",
              "<p>266 rows × 2 columns</p>\n",
              "</div>\n",
              "      <button class=\"colab-df-convert\" onclick=\"convertToInteractive('df-775c545a-1cd1-4e5d-9a26-f956e509a1b9')\"\n",
              "              title=\"Convert this dataframe to an interactive table.\"\n",
              "              style=\"display:none;\">\n",
              "        \n",
              "  <svg xmlns=\"http://www.w3.org/2000/svg\" height=\"24px\"viewBox=\"0 0 24 24\"\n",
              "       width=\"24px\">\n",
              "    <path d=\"M0 0h24v24H0V0z\" fill=\"none\"/>\n",
              "    <path d=\"M18.56 5.44l.94 2.06.94-2.06 2.06-.94-2.06-.94-.94-2.06-.94 2.06-2.06.94zm-11 1L8.5 8.5l.94-2.06 2.06-.94-2.06-.94L8.5 2.5l-.94 2.06-2.06.94zm10 10l.94 2.06.94-2.06 2.06-.94-2.06-.94-.94-2.06-.94 2.06-2.06.94z\"/><path d=\"M17.41 7.96l-1.37-1.37c-.4-.4-.92-.59-1.43-.59-.52 0-1.04.2-1.43.59L10.3 9.45l-7.72 7.72c-.78.78-.78 2.05 0 2.83L4 21.41c.39.39.9.59 1.41.59.51 0 1.02-.2 1.41-.59l7.78-7.78 2.81-2.81c.8-.78.8-2.07 0-2.86zM5.41 20L4 18.59l7.72-7.72 1.47 1.35L5.41 20z\"/>\n",
              "  </svg>\n",
              "      </button>\n",
              "      \n",
              "  <style>\n",
              "    .colab-df-container {\n",
              "      display:flex;\n",
              "      flex-wrap:wrap;\n",
              "      gap: 12px;\n",
              "    }\n",
              "\n",
              "    .colab-df-convert {\n",
              "      background-color: #E8F0FE;\n",
              "      border: none;\n",
              "      border-radius: 50%;\n",
              "      cursor: pointer;\n",
              "      display: none;\n",
              "      fill: #1967D2;\n",
              "      height: 32px;\n",
              "      padding: 0 0 0 0;\n",
              "      width: 32px;\n",
              "    }\n",
              "\n",
              "    .colab-df-convert:hover {\n",
              "      background-color: #E2EBFA;\n",
              "      box-shadow: 0px 1px 2px rgba(60, 64, 67, 0.3), 0px 1px 3px 1px rgba(60, 64, 67, 0.15);\n",
              "      fill: #174EA6;\n",
              "    }\n",
              "\n",
              "    [theme=dark] .colab-df-convert {\n",
              "      background-color: #3B4455;\n",
              "      fill: #D2E3FC;\n",
              "    }\n",
              "\n",
              "    [theme=dark] .colab-df-convert:hover {\n",
              "      background-color: #434B5C;\n",
              "      box-shadow: 0px 1px 3px 1px rgba(0, 0, 0, 0.15);\n",
              "      filter: drop-shadow(0px 1px 2px rgba(0, 0, 0, 0.3));\n",
              "      fill: #FFFFFF;\n",
              "    }\n",
              "  </style>\n",
              "\n",
              "      <script>\n",
              "        const buttonEl =\n",
              "          document.querySelector('#df-775c545a-1cd1-4e5d-9a26-f956e509a1b9 button.colab-df-convert');\n",
              "        buttonEl.style.display =\n",
              "          google.colab.kernel.accessAllowed ? 'block' : 'none';\n",
              "\n",
              "        async function convertToInteractive(key) {\n",
              "          const element = document.querySelector('#df-775c545a-1cd1-4e5d-9a26-f956e509a1b9');\n",
              "          const dataTable =\n",
              "            await google.colab.kernel.invokeFunction('convertToInteractive',\n",
              "                                                     [key], {});\n",
              "          if (!dataTable) return;\n",
              "\n",
              "          const docLinkHtml = 'Like what you see? Visit the ' +\n",
              "            '<a target=\"_blank\" href=https://colab.research.google.com/notebooks/data_table.ipynb>data table notebook</a>'\n",
              "            + ' to learn more about interactive tables.';\n",
              "          element.innerHTML = '';\n",
              "          dataTable['output_type'] = 'display_data';\n",
              "          await google.colab.output.renderOutput(dataTable, element);\n",
              "          const docLink = document.createElement('div');\n",
              "          docLink.innerHTML = docLinkHtml;\n",
              "          element.appendChild(docLink);\n",
              "        }\n",
              "      </script>\n",
              "    </div>\n",
              "  </div>\n",
              "  "
            ]
          },
          "metadata": {},
          "execution_count": 216
        }
      ]
    },
    {
      "cell_type": "code",
      "source": [
        "x_train.shape"
      ],
      "metadata": {
        "colab": {
          "base_uri": "https://localhost:8080/"
        },
        "id": "r4ueByxfqvIa",
        "outputId": "f8371356-a1ac-4d00-ec09-23f3cd36a53e"
      },
      "execution_count": 217,
      "outputs": [
        {
          "output_type": "execute_result",
          "data": {
            "text/plain": [
              "(266, 2)"
            ]
          },
          "metadata": {},
          "execution_count": 217
        }
      ]
    },
    {
      "cell_type": "code",
      "source": [
        "x_test.shape"
      ],
      "metadata": {
        "colab": {
          "base_uri": "https://localhost:8080/"
        },
        "id": "FUSfKyBeqxGX",
        "outputId": "b04e08ce-9d78-4095-ec5c-206ae77211c8"
      },
      "execution_count": 218,
      "outputs": [
        {
          "output_type": "execute_result",
          "data": {
            "text/plain": [
              "(67, 2)"
            ]
          },
          "metadata": {},
          "execution_count": 218
        }
      ]
    },
    {
      "cell_type": "code",
      "source": [
        "y_train.shape"
      ],
      "metadata": {
        "colab": {
          "base_uri": "https://localhost:8080/"
        },
        "id": "TyOD0BeIqyXn",
        "outputId": "59e99979-f81c-415b-aef2-5ff60947a29d"
      },
      "execution_count": 219,
      "outputs": [
        {
          "output_type": "execute_result",
          "data": {
            "text/plain": [
              "(266,)"
            ]
          },
          "metadata": {},
          "execution_count": 219
        }
      ]
    },
    {
      "cell_type": "code",
      "source": [
        "y_test.shape"
      ],
      "metadata": {
        "colab": {
          "base_uri": "https://localhost:8080/"
        },
        "id": "Obe6ofw3rF-o",
        "outputId": "86f86d58-81a2-4863-bf07-e1dc7c9dc3b2"
      },
      "execution_count": 220,
      "outputs": [
        {
          "output_type": "execute_result",
          "data": {
            "text/plain": [
              "(67,)"
            ]
          },
          "metadata": {},
          "execution_count": 220
        }
      ]
    },
    {
      "cell_type": "markdown",
      "source": [
        "#**Training And Testing Model**#"
      ],
      "metadata": {
        "id": "h4iAEVbHrMk-"
      }
    },
    {
      "cell_type": "markdown",
      "source": [
        "##**Linear Regression**##"
      ],
      "metadata": {
        "id": "oSXmMxTM8vsx"
      }
    },
    {
      "cell_type": "code",
      "source": [
        "from sklearn.linear_model import LinearRegression"
      ],
      "metadata": {
        "id": "Dr4sHDz-rHMi"
      },
      "execution_count": 221,
      "outputs": []
    },
    {
      "cell_type": "code",
      "source": [
        "lr = LinearRegression()"
      ],
      "metadata": {
        "id": "wzIJOkCYrY6U"
      },
      "execution_count": 222,
      "outputs": []
    },
    {
      "cell_type": "code",
      "source": [
        "lr.fit(x_train, y_train)"
      ],
      "metadata": {
        "colab": {
          "base_uri": "https://localhost:8080/",
          "height": 75
        },
        "id": "eqZcthxlronJ",
        "outputId": "1112943a-16e4-48bc-e264-bd006d3a5f44"
      },
      "execution_count": 223,
      "outputs": [
        {
          "output_type": "execute_result",
          "data": {
            "text/plain": [
              "LinearRegression()"
            ],
            "text/html": [
              "<style>#sk-container-id-4 {color: black;background-color: white;}#sk-container-id-4 pre{padding: 0;}#sk-container-id-4 div.sk-toggleable {background-color: white;}#sk-container-id-4 label.sk-toggleable__label {cursor: pointer;display: block;width: 100%;margin-bottom: 0;padding: 0.3em;box-sizing: border-box;text-align: center;}#sk-container-id-4 label.sk-toggleable__label-arrow:before {content: \"▸\";float: left;margin-right: 0.25em;color: #696969;}#sk-container-id-4 label.sk-toggleable__label-arrow:hover:before {color: black;}#sk-container-id-4 div.sk-estimator:hover label.sk-toggleable__label-arrow:before {color: black;}#sk-container-id-4 div.sk-toggleable__content {max-height: 0;max-width: 0;overflow: hidden;text-align: left;background-color: #f0f8ff;}#sk-container-id-4 div.sk-toggleable__content pre {margin: 0.2em;color: black;border-radius: 0.25em;background-color: #f0f8ff;}#sk-container-id-4 input.sk-toggleable__control:checked~div.sk-toggleable__content {max-height: 200px;max-width: 100%;overflow: auto;}#sk-container-id-4 input.sk-toggleable__control:checked~label.sk-toggleable__label-arrow:before {content: \"▾\";}#sk-container-id-4 div.sk-estimator input.sk-toggleable__control:checked~label.sk-toggleable__label {background-color: #d4ebff;}#sk-container-id-4 div.sk-label input.sk-toggleable__control:checked~label.sk-toggleable__label {background-color: #d4ebff;}#sk-container-id-4 input.sk-hidden--visually {border: 0;clip: rect(1px 1px 1px 1px);clip: rect(1px, 1px, 1px, 1px);height: 1px;margin: -1px;overflow: hidden;padding: 0;position: absolute;width: 1px;}#sk-container-id-4 div.sk-estimator {font-family: monospace;background-color: #f0f8ff;border: 1px dotted black;border-radius: 0.25em;box-sizing: border-box;margin-bottom: 0.5em;}#sk-container-id-4 div.sk-estimator:hover {background-color: #d4ebff;}#sk-container-id-4 div.sk-parallel-item::after {content: \"\";width: 100%;border-bottom: 1px solid gray;flex-grow: 1;}#sk-container-id-4 div.sk-label:hover label.sk-toggleable__label {background-color: #d4ebff;}#sk-container-id-4 div.sk-serial::before {content: \"\";position: absolute;border-left: 1px solid gray;box-sizing: border-box;top: 0;bottom: 0;left: 50%;z-index: 0;}#sk-container-id-4 div.sk-serial {display: flex;flex-direction: column;align-items: center;background-color: white;padding-right: 0.2em;padding-left: 0.2em;position: relative;}#sk-container-id-4 div.sk-item {position: relative;z-index: 1;}#sk-container-id-4 div.sk-parallel {display: flex;align-items: stretch;justify-content: center;background-color: white;position: relative;}#sk-container-id-4 div.sk-item::before, #sk-container-id-4 div.sk-parallel-item::before {content: \"\";position: absolute;border-left: 1px solid gray;box-sizing: border-box;top: 0;bottom: 0;left: 50%;z-index: -1;}#sk-container-id-4 div.sk-parallel-item {display: flex;flex-direction: column;z-index: 1;position: relative;background-color: white;}#sk-container-id-4 div.sk-parallel-item:first-child::after {align-self: flex-end;width: 50%;}#sk-container-id-4 div.sk-parallel-item:last-child::after {align-self: flex-start;width: 50%;}#sk-container-id-4 div.sk-parallel-item:only-child::after {width: 0;}#sk-container-id-4 div.sk-dashed-wrapped {border: 1px dashed gray;margin: 0 0.4em 0.5em 0.4em;box-sizing: border-box;padding-bottom: 0.4em;background-color: white;}#sk-container-id-4 div.sk-label label {font-family: monospace;font-weight: bold;display: inline-block;line-height: 1.2em;}#sk-container-id-4 div.sk-label-container {text-align: center;}#sk-container-id-4 div.sk-container {/* jupyter's `normalize.less` sets `[hidden] { display: none; }` but bootstrap.min.css set `[hidden] { display: none !important; }` so we also need the `!important` here to be able to override the default hidden behavior on the sphinx rendered scikit-learn.org. See: https://github.com/scikit-learn/scikit-learn/issues/21755 */display: inline-block !important;position: relative;}#sk-container-id-4 div.sk-text-repr-fallback {display: none;}</style><div id=\"sk-container-id-4\" class=\"sk-top-container\"><div class=\"sk-text-repr-fallback\"><pre>LinearRegression()</pre><b>In a Jupyter environment, please rerun this cell to show the HTML representation or trust the notebook. <br />On GitHub, the HTML representation is unable to render, please try loading this page with nbviewer.org.</b></div><div class=\"sk-container\" hidden><div class=\"sk-item\"><div class=\"sk-estimator sk-toggleable\"><input class=\"sk-toggleable__control sk-hidden--visually\" id=\"sk-estimator-id-4\" type=\"checkbox\" checked><label for=\"sk-estimator-id-4\" class=\"sk-toggleable__label sk-toggleable__label-arrow\">LinearRegression</label><div class=\"sk-toggleable__content\"><pre>LinearRegression()</pre></div></div></div></div></div>"
            ]
          },
          "metadata": {},
          "execution_count": 223
        }
      ]
    },
    {
      "cell_type": "code",
      "source": [
        "prediction = lr.predict(x_test)"
      ],
      "metadata": {
        "id": "vMB8ds1LryNL"
      },
      "execution_count": 224,
      "outputs": []
    },
    {
      "cell_type": "code",
      "source": [
        "prediction"
      ],
      "metadata": {
        "colab": {
          "base_uri": "https://localhost:8080/"
        },
        "id": "FI6jOvy5r2-y",
        "outputId": "75b552b4-ec18-4774-ea0f-65565247d10e"
      },
      "execution_count": 225,
      "outputs": [
        {
          "output_type": "execute_result",
          "data": {
            "text/plain": [
              "array([23.7061922 ,  3.12357689, 22.02362046, 21.92098725, 22.93322601,\n",
              "       24.98390157, 14.73569193, 20.0026075 , 32.64243738, 25.91408267,\n",
              "       34.65667159,  7.20028236, 28.79591744, 18.10865897, 15.87463914,\n",
              "       29.58077228, 26.9969205 , 20.08332821, 24.24018819, 16.72661785,\n",
              "       30.23710828, 19.08540807, 24.34186492, 31.80334276, 29.83191402,\n",
              "       27.73502163, 19.84024856,  2.01311151, 31.65851402, 35.61743283,\n",
              "       27.84161773, 28.66646179, 36.93097358, 31.87484933, 26.5933758 ,\n",
              "        8.95990485,  9.85151178, 21.33160928, 27.7686178 , 17.75918822,\n",
              "       10.49780425, 26.2851732 ,  5.22001051, 26.89304751, 14.55158189,\n",
              "       23.01911987, 22.97583132, 16.88452583, 31.74388084, 21.84012982,\n",
              "       28.32962154, 26.69035782, 36.7433249 , 12.29660584, 27.20018621,\n",
              "       24.37071739, 12.11492096, 20.60209747, 31.88379001, 28.4126652 ,\n",
              "       20.13264901, 31.40012011, 27.20615001, 27.93182582, 17.05335593,\n",
              "       26.97300688, 24.14635893])"
            ]
          },
          "metadata": {},
          "execution_count": 225
        }
      ]
    },
    {
      "cell_type": "code",
      "source": [
        "predictionDec = {\"y_test\":y_test, \"prediction\":prediction}\n",
        "predictionData = pd.DataFrame(predictionDec)\n",
        "predictionData"
      ],
      "metadata": {
        "colab": {
          "base_uri": "https://localhost:8080/",
          "height": 424
        },
        "id": "CHiFhNxZr4dS",
        "outputId": "a60f029b-048e-4a05-e351-2f3b0bdff0c9"
      },
      "execution_count": 226,
      "outputs": [
        {
          "output_type": "execute_result",
          "data": {
            "text/plain": [
              "     y_test  prediction\n",
              "53     20.8   23.706192\n",
              "99     14.6    3.123577\n",
              "315    21.4   22.023620\n",
              "299    16.4   21.920987\n",
              "21     24.7   22.933226\n",
              "..      ...         ...\n",
              "221    20.7   27.206150\n",
              "197    27.1   27.931826\n",
              "83     20.5   17.053356\n",
              "182    25.2   26.973007\n",
              "76     18.5   24.146359\n",
              "\n",
              "[67 rows x 2 columns]"
            ],
            "text/html": [
              "\n",
              "  <div id=\"df-da30cddf-6296-48fb-9505-a4009bba7558\">\n",
              "    <div class=\"colab-df-container\">\n",
              "      <div>\n",
              "<style scoped>\n",
              "    .dataframe tbody tr th:only-of-type {\n",
              "        vertical-align: middle;\n",
              "    }\n",
              "\n",
              "    .dataframe tbody tr th {\n",
              "        vertical-align: top;\n",
              "    }\n",
              "\n",
              "    .dataframe thead th {\n",
              "        text-align: right;\n",
              "    }\n",
              "</style>\n",
              "<table border=\"1\" class=\"dataframe\">\n",
              "  <thead>\n",
              "    <tr style=\"text-align: right;\">\n",
              "      <th></th>\n",
              "      <th>y_test</th>\n",
              "      <th>prediction</th>\n",
              "    </tr>\n",
              "  </thead>\n",
              "  <tbody>\n",
              "    <tr>\n",
              "      <th>53</th>\n",
              "      <td>20.8</td>\n",
              "      <td>23.706192</td>\n",
              "    </tr>\n",
              "    <tr>\n",
              "      <th>99</th>\n",
              "      <td>14.6</td>\n",
              "      <td>3.123577</td>\n",
              "    </tr>\n",
              "    <tr>\n",
              "      <th>315</th>\n",
              "      <td>21.4</td>\n",
              "      <td>22.023620</td>\n",
              "    </tr>\n",
              "    <tr>\n",
              "      <th>299</th>\n",
              "      <td>16.4</td>\n",
              "      <td>21.920987</td>\n",
              "    </tr>\n",
              "    <tr>\n",
              "      <th>21</th>\n",
              "      <td>24.7</td>\n",
              "      <td>22.933226</td>\n",
              "    </tr>\n",
              "    <tr>\n",
              "      <th>...</th>\n",
              "      <td>...</td>\n",
              "      <td>...</td>\n",
              "    </tr>\n",
              "    <tr>\n",
              "      <th>221</th>\n",
              "      <td>20.7</td>\n",
              "      <td>27.206150</td>\n",
              "    </tr>\n",
              "    <tr>\n",
              "      <th>197</th>\n",
              "      <td>27.1</td>\n",
              "      <td>27.931826</td>\n",
              "    </tr>\n",
              "    <tr>\n",
              "      <th>83</th>\n",
              "      <td>20.5</td>\n",
              "      <td>17.053356</td>\n",
              "    </tr>\n",
              "    <tr>\n",
              "      <th>182</th>\n",
              "      <td>25.2</td>\n",
              "      <td>26.973007</td>\n",
              "    </tr>\n",
              "    <tr>\n",
              "      <th>76</th>\n",
              "      <td>18.5</td>\n",
              "      <td>24.146359</td>\n",
              "    </tr>\n",
              "  </tbody>\n",
              "</table>\n",
              "<p>67 rows × 2 columns</p>\n",
              "</div>\n",
              "      <button class=\"colab-df-convert\" onclick=\"convertToInteractive('df-da30cddf-6296-48fb-9505-a4009bba7558')\"\n",
              "              title=\"Convert this dataframe to an interactive table.\"\n",
              "              style=\"display:none;\">\n",
              "        \n",
              "  <svg xmlns=\"http://www.w3.org/2000/svg\" height=\"24px\"viewBox=\"0 0 24 24\"\n",
              "       width=\"24px\">\n",
              "    <path d=\"M0 0h24v24H0V0z\" fill=\"none\"/>\n",
              "    <path d=\"M18.56 5.44l.94 2.06.94-2.06 2.06-.94-2.06-.94-.94-2.06-.94 2.06-2.06.94zm-11 1L8.5 8.5l.94-2.06 2.06-.94-2.06-.94L8.5 2.5l-.94 2.06-2.06.94zm10 10l.94 2.06.94-2.06 2.06-.94-2.06-.94-.94-2.06-.94 2.06-2.06.94z\"/><path d=\"M17.41 7.96l-1.37-1.37c-.4-.4-.92-.59-1.43-.59-.52 0-1.04.2-1.43.59L10.3 9.45l-7.72 7.72c-.78.78-.78 2.05 0 2.83L4 21.41c.39.39.9.59 1.41.59.51 0 1.02-.2 1.41-.59l7.78-7.78 2.81-2.81c.8-.78.8-2.07 0-2.86zM5.41 20L4 18.59l7.72-7.72 1.47 1.35L5.41 20z\"/>\n",
              "  </svg>\n",
              "      </button>\n",
              "      \n",
              "  <style>\n",
              "    .colab-df-container {\n",
              "      display:flex;\n",
              "      flex-wrap:wrap;\n",
              "      gap: 12px;\n",
              "    }\n",
              "\n",
              "    .colab-df-convert {\n",
              "      background-color: #E8F0FE;\n",
              "      border: none;\n",
              "      border-radius: 50%;\n",
              "      cursor: pointer;\n",
              "      display: none;\n",
              "      fill: #1967D2;\n",
              "      height: 32px;\n",
              "      padding: 0 0 0 0;\n",
              "      width: 32px;\n",
              "    }\n",
              "\n",
              "    .colab-df-convert:hover {\n",
              "      background-color: #E2EBFA;\n",
              "      box-shadow: 0px 1px 2px rgba(60, 64, 67, 0.3), 0px 1px 3px 1px rgba(60, 64, 67, 0.15);\n",
              "      fill: #174EA6;\n",
              "    }\n",
              "\n",
              "    [theme=dark] .colab-df-convert {\n",
              "      background-color: #3B4455;\n",
              "      fill: #D2E3FC;\n",
              "    }\n",
              "\n",
              "    [theme=dark] .colab-df-convert:hover {\n",
              "      background-color: #434B5C;\n",
              "      box-shadow: 0px 1px 3px 1px rgba(0, 0, 0, 0.15);\n",
              "      filter: drop-shadow(0px 1px 2px rgba(0, 0, 0, 0.3));\n",
              "      fill: #FFFFFF;\n",
              "    }\n",
              "  </style>\n",
              "\n",
              "      <script>\n",
              "        const buttonEl =\n",
              "          document.querySelector('#df-da30cddf-6296-48fb-9505-a4009bba7558 button.colab-df-convert');\n",
              "        buttonEl.style.display =\n",
              "          google.colab.kernel.accessAllowed ? 'block' : 'none';\n",
              "\n",
              "        async function convertToInteractive(key) {\n",
              "          const element = document.querySelector('#df-da30cddf-6296-48fb-9505-a4009bba7558');\n",
              "          const dataTable =\n",
              "            await google.colab.kernel.invokeFunction('convertToInteractive',\n",
              "                                                     [key], {});\n",
              "          if (!dataTable) return;\n",
              "\n",
              "          const docLinkHtml = 'Like what you see? Visit the ' +\n",
              "            '<a target=\"_blank\" href=https://colab.research.google.com/notebooks/data_table.ipynb>data table notebook</a>'\n",
              "            + ' to learn more about interactive tables.';\n",
              "          element.innerHTML = '';\n",
              "          dataTable['output_type'] = 'display_data';\n",
              "          await google.colab.output.renderOutput(dataTable, element);\n",
              "          const docLink = document.createElement('div');\n",
              "          docLink.innerHTML = docLinkHtml;\n",
              "          element.appendChild(docLink);\n",
              "        }\n",
              "      </script>\n",
              "    </div>\n",
              "  </div>\n",
              "  "
            ]
          },
          "metadata": {},
          "execution_count": 226
        }
      ]
    },
    {
      "cell_type": "markdown",
      "source": [
        "##**Model Evaluation**##"
      ],
      "metadata": {
        "id": "rYRvqY6LsSoG"
      }
    },
    {
      "cell_type": "code",
      "source": [
        "from sklearn.metrics import mean_squared_error, r2_score"
      ],
      "metadata": {
        "id": "Mo6gpio1sMa2"
      },
      "execution_count": 227,
      "outputs": []
    },
    {
      "cell_type": "markdown",
      "source": [
        "###**Evaluation on training Data**###"
      ],
      "metadata": {
        "id": "KPdnrs9Ssnt5"
      }
    },
    {
      "cell_type": "code",
      "source": [
        "predictionTrain = lr.predict(x_train)"
      ],
      "metadata": {
        "id": "W2v45GpVs2fg"
      },
      "execution_count": 228,
      "outputs": []
    },
    {
      "cell_type": "code",
      "source": [
        "mse = np.sqrt(mean_squared_error(y_train, predictionTrain))"
      ],
      "metadata": {
        "id": "msih8EBstGpd"
      },
      "execution_count": 229,
      "outputs": []
    },
    {
      "cell_type": "code",
      "source": [
        "r2Score = r2_score(y_train, predictionTrain)"
      ],
      "metadata": {
        "id": "IxNGbUrPsmoy"
      },
      "execution_count": 230,
      "outputs": []
    },
    {
      "cell_type": "code",
      "source": [
        "print(f\"RMSE is {mse} and R2 score is {r2Score}\")"
      ],
      "metadata": {
        "colab": {
          "base_uri": "https://localhost:8080/"
        },
        "id": "PV22IeXKs1Zu",
        "outputId": "6869f5cb-b035-4982-ab56-1fc0d5cddf69"
      },
      "execution_count": 231,
      "outputs": [
        {
          "output_type": "stream",
          "name": "stdout",
          "text": [
            "RMSE is 5.604072607896432 and R2 score is 0.6337426936336857\n"
          ]
        }
      ]
    },
    {
      "cell_type": "markdown",
      "source": [
        "###**Evaluation on Testing Data**###"
      ],
      "metadata": {
        "id": "RgrdhePIzOv9"
      }
    },
    {
      "cell_type": "code",
      "source": [
        "predictionTest = lr.predict(x_test)"
      ],
      "metadata": {
        "id": "OyVJr-iktaW9"
      },
      "execution_count": 232,
      "outputs": []
    },
    {
      "cell_type": "code",
      "source": [
        "mse = np.sqrt(mean_squared_error(y_test, predictionTest))"
      ],
      "metadata": {
        "id": "eAXDAhiXzWIK"
      },
      "execution_count": 233,
      "outputs": []
    },
    {
      "cell_type": "code",
      "source": [
        "r2Score = r2_score(y_test, predictionTest)"
      ],
      "metadata": {
        "id": "Bm5TygzKzb6t"
      },
      "execution_count": 234,
      "outputs": []
    },
    {
      "cell_type": "code",
      "source": [
        "print(f\"RMSE is {mse} and R2 score is {r2Score}\")"
      ],
      "metadata": {
        "colab": {
          "base_uri": "https://localhost:8080/"
        },
        "id": "aY5OVF5azfDh",
        "outputId": "80779861-6d71-490a-b270-3abe88a22108"
      },
      "execution_count": 235,
      "outputs": [
        {
          "output_type": "stream",
          "name": "stdout",
          "text": [
            "RMSE is 5.141734520495739 and R2 score is 0.6507576964052131\n"
          ]
        }
      ]
    },
    {
      "cell_type": "markdown",
      "source": [
        "##**Decision Tree**##"
      ],
      "metadata": {
        "id": "UbjPyWPN9EjK"
      }
    },
    {
      "cell_type": "code",
      "source": [
        "from sklearn.tree import DecisionTreeRegressor"
      ],
      "metadata": {
        "id": "0N1xeGmx9D5O"
      },
      "execution_count": 237,
      "outputs": []
    },
    {
      "cell_type": "code",
      "source": [
        "dtr = DecisionTreeRegressor(random_state=5)\n",
        "dtr.fit(x_train, y_train)"
      ],
      "metadata": {
        "colab": {
          "base_uri": "https://localhost:8080/",
          "height": 75
        },
        "id": "sHDQ2KsA9ado",
        "outputId": "8040f0c6-9065-4d3d-f08a-91b858c73373"
      },
      "execution_count": 251,
      "outputs": [
        {
          "output_type": "execute_result",
          "data": {
            "text/plain": [
              "DecisionTreeRegressor(random_state=5)"
            ],
            "text/html": [
              "<style>#sk-container-id-6 {color: black;background-color: white;}#sk-container-id-6 pre{padding: 0;}#sk-container-id-6 div.sk-toggleable {background-color: white;}#sk-container-id-6 label.sk-toggleable__label {cursor: pointer;display: block;width: 100%;margin-bottom: 0;padding: 0.3em;box-sizing: border-box;text-align: center;}#sk-container-id-6 label.sk-toggleable__label-arrow:before {content: \"▸\";float: left;margin-right: 0.25em;color: #696969;}#sk-container-id-6 label.sk-toggleable__label-arrow:hover:before {color: black;}#sk-container-id-6 div.sk-estimator:hover label.sk-toggleable__label-arrow:before {color: black;}#sk-container-id-6 div.sk-toggleable__content {max-height: 0;max-width: 0;overflow: hidden;text-align: left;background-color: #f0f8ff;}#sk-container-id-6 div.sk-toggleable__content pre {margin: 0.2em;color: black;border-radius: 0.25em;background-color: #f0f8ff;}#sk-container-id-6 input.sk-toggleable__control:checked~div.sk-toggleable__content {max-height: 200px;max-width: 100%;overflow: auto;}#sk-container-id-6 input.sk-toggleable__control:checked~label.sk-toggleable__label-arrow:before {content: \"▾\";}#sk-container-id-6 div.sk-estimator input.sk-toggleable__control:checked~label.sk-toggleable__label {background-color: #d4ebff;}#sk-container-id-6 div.sk-label input.sk-toggleable__control:checked~label.sk-toggleable__label {background-color: #d4ebff;}#sk-container-id-6 input.sk-hidden--visually {border: 0;clip: rect(1px 1px 1px 1px);clip: rect(1px, 1px, 1px, 1px);height: 1px;margin: -1px;overflow: hidden;padding: 0;position: absolute;width: 1px;}#sk-container-id-6 div.sk-estimator {font-family: monospace;background-color: #f0f8ff;border: 1px dotted black;border-radius: 0.25em;box-sizing: border-box;margin-bottom: 0.5em;}#sk-container-id-6 div.sk-estimator:hover {background-color: #d4ebff;}#sk-container-id-6 div.sk-parallel-item::after {content: \"\";width: 100%;border-bottom: 1px solid gray;flex-grow: 1;}#sk-container-id-6 div.sk-label:hover label.sk-toggleable__label {background-color: #d4ebff;}#sk-container-id-6 div.sk-serial::before {content: \"\";position: absolute;border-left: 1px solid gray;box-sizing: border-box;top: 0;bottom: 0;left: 50%;z-index: 0;}#sk-container-id-6 div.sk-serial {display: flex;flex-direction: column;align-items: center;background-color: white;padding-right: 0.2em;padding-left: 0.2em;position: relative;}#sk-container-id-6 div.sk-item {position: relative;z-index: 1;}#sk-container-id-6 div.sk-parallel {display: flex;align-items: stretch;justify-content: center;background-color: white;position: relative;}#sk-container-id-6 div.sk-item::before, #sk-container-id-6 div.sk-parallel-item::before {content: \"\";position: absolute;border-left: 1px solid gray;box-sizing: border-box;top: 0;bottom: 0;left: 50%;z-index: -1;}#sk-container-id-6 div.sk-parallel-item {display: flex;flex-direction: column;z-index: 1;position: relative;background-color: white;}#sk-container-id-6 div.sk-parallel-item:first-child::after {align-self: flex-end;width: 50%;}#sk-container-id-6 div.sk-parallel-item:last-child::after {align-self: flex-start;width: 50%;}#sk-container-id-6 div.sk-parallel-item:only-child::after {width: 0;}#sk-container-id-6 div.sk-dashed-wrapped {border: 1px dashed gray;margin: 0 0.4em 0.5em 0.4em;box-sizing: border-box;padding-bottom: 0.4em;background-color: white;}#sk-container-id-6 div.sk-label label {font-family: monospace;font-weight: bold;display: inline-block;line-height: 1.2em;}#sk-container-id-6 div.sk-label-container {text-align: center;}#sk-container-id-6 div.sk-container {/* jupyter's `normalize.less` sets `[hidden] { display: none; }` but bootstrap.min.css set `[hidden] { display: none !important; }` so we also need the `!important` here to be able to override the default hidden behavior on the sphinx rendered scikit-learn.org. See: https://github.com/scikit-learn/scikit-learn/issues/21755 */display: inline-block !important;position: relative;}#sk-container-id-6 div.sk-text-repr-fallback {display: none;}</style><div id=\"sk-container-id-6\" class=\"sk-top-container\"><div class=\"sk-text-repr-fallback\"><pre>DecisionTreeRegressor(random_state=5)</pre><b>In a Jupyter environment, please rerun this cell to show the HTML representation or trust the notebook. <br />On GitHub, the HTML representation is unable to render, please try loading this page with nbviewer.org.</b></div><div class=\"sk-container\" hidden><div class=\"sk-item\"><div class=\"sk-estimator sk-toggleable\"><input class=\"sk-toggleable__control sk-hidden--visually\" id=\"sk-estimator-id-6\" type=\"checkbox\" checked><label for=\"sk-estimator-id-6\" class=\"sk-toggleable__label sk-toggleable__label-arrow\">DecisionTreeRegressor</label><div class=\"sk-toggleable__content\"><pre>DecisionTreeRegressor(random_state=5)</pre></div></div></div></div></div>"
            ]
          },
          "metadata": {},
          "execution_count": 251
        }
      ]
    },
    {
      "cell_type": "markdown",
      "source": [
        "###**Evaluation**####"
      ],
      "metadata": {
        "id": "bPms_C0p-yNH"
      }
    },
    {
      "cell_type": "code",
      "source": [
        "predict = dtr.predict(x_train)"
      ],
      "metadata": {
        "id": "beeNWjbC_Szj"
      },
      "execution_count": 252,
      "outputs": []
    },
    {
      "cell_type": "code",
      "source": [
        "mse = np.sqrt(mean_squared_error(y_train, predict))\n",
        "mse"
      ],
      "metadata": {
        "colab": {
          "base_uri": "https://localhost:8080/"
        },
        "id": "NQFDSCkr-vCC",
        "outputId": "1518b17e-4302-4dd0-d0d2-60d8ad857ef5"
      },
      "execution_count": 253,
      "outputs": [
        {
          "output_type": "execute_result",
          "data": {
            "text/plain": [
              "0.07803989725717084"
            ]
          },
          "metadata": {},
          "execution_count": 253
        }
      ]
    },
    {
      "cell_type": "code",
      "source": [
        "r2Score = r2_score(y_train, predict)\n",
        "r2Score"
      ],
      "metadata": {
        "colab": {
          "base_uri": "https://localhost:8080/"
        },
        "id": "ojvM0RkY_Dvp",
        "outputId": "1007a275-1874-417e-f5f1-c34810b6b609"
      },
      "execution_count": 254,
      "outputs": [
        {
          "output_type": "execute_result",
          "data": {
            "text/plain": [
              "0.9999289748486245"
            ]
          },
          "metadata": {},
          "execution_count": 254
        }
      ]
    },
    {
      "cell_type": "markdown",
      "source": [
        "###**Test**###"
      ],
      "metadata": {
        "id": "X2zs6Z3bAI7T"
      }
    },
    {
      "cell_type": "code",
      "source": [
        "predictTest = dtr.predict(x_test)\n",
        "rmse = np.sqrt(mean_squared_error(y_test, predictTest))\n",
        "r2Score = r2_score(y_test, predictTest)\n",
        "print(f\"RMSE is {rmse} and R2 Score is {r2Score}\")"
      ],
      "metadata": {
        "colab": {
          "base_uri": "https://localhost:8080/"
        },
        "id": "8JfYdpvx_hJv",
        "outputId": "3c46b5ca-89de-4f9f-ef67-67d20bd2cfe7"
      },
      "execution_count": 255,
      "outputs": [
        {
          "output_type": "stream",
          "name": "stdout",
          "text": [
            "RMSE is 5.292207732748891 and R2 Score is 0.6300173900699152\n"
          ]
        }
      ]
    },
    {
      "cell_type": "markdown",
      "source": [
        "###**Plot Decision Tree**###"
      ],
      "metadata": {
        "id": "bKWV2c3-AUuE"
      }
    },
    {
      "cell_type": "code",
      "source": [
        "from sklearn.tree import plot_tree"
      ],
      "metadata": {
        "id": "ya7fuVXGAGzf"
      },
      "execution_count": 256,
      "outputs": []
    },
    {
      "cell_type": "code",
      "source": [
        "plot_tree(dtr)"
      ],
      "metadata": {
        "colab": {
          "base_uri": "https://localhost:8080/",
          "height": 1000
        },
        "id": "1HqoZqvhAfhU",
        "outputId": "2d3ac920-4c04-4f57-88ef-9609552fdc21"
      },
      "execution_count": 257,
      "outputs": [
        {
          "output_type": "execute_result",
          "data": {
            "text/plain": [
              "[Text(0.6921628089546191, 0.9772727272727273, 'x[1] <= 6.945\\nsquared_error = 85.747\\nsamples = 266\\nvalue = 22.559'),\n",
              " Text(0.4426724574554295, 0.9318181818181818, 'x[0] <= 14.4\\nsquared_error = 42.771\\nsamples = 231\\nvalue = 20.084'),\n",
              " Text(0.24714259184224743, 0.8863636363636364, 'x[0] <= 9.545\\nsquared_error = 30.104\\nsamples = 141\\nvalue = 23.462'),\n",
              " Text(0.14245678011885468, 0.8409090909090909, 'x[0] <= 3.295\\nsquared_error = 40.567\\nsamples = 72\\nvalue = 25.964'),\n",
              " Text(0.138134792004322, 0.7954545454545454, 'squared_error = 0.0\\nsamples = 1\\nvalue = 50.0'),\n",
              " Text(0.14677876823338737, 0.7954545454545454, 'x[0] <= 9.525\\nsquared_error = 32.886\\nsamples = 71\\nvalue = 25.625'),\n",
              " Text(0.10568611561318206, 0.75, 'x[1] <= 6.543\\nsquared_error = 25.106\\nsamples = 69\\nvalue = 25.28'),\n",
              " Text(0.03646677471636953, 0.7045454545454546, 'x[1] <= 5.876\\nsquared_error = 26.232\\nsamples = 41\\nvalue = 23.38'),\n",
              " Text(0.012965964343598054, 0.6590909090909091, 'x[0] <= 8.675\\nsquared_error = 163.336\\nsamples = 3\\nvalue = 32.467'),\n",
              " Text(0.00864397622906537, 0.6136363636363636, 'x[0] <= 7.795\\nsquared_error = 14.44\\nsamples = 2\\nvalue = 23.7'),\n",
              " Text(0.004321988114532685, 0.5681818181818182, 'squared_error = 0.0\\nsamples = 1\\nvalue = 27.5'),\n",
              " Text(0.012965964343598054, 0.5681818181818182, 'squared_error = 0.0\\nsamples = 1\\nvalue = 19.9'),\n",
              " Text(0.01728795245813074, 0.6136363636363636, 'squared_error = 0.0\\nsamples = 1\\nvalue = 50.0'),\n",
              " Text(0.059967585089141004, 0.6590909090909091, 'x[1] <= 6.062\\nsquared_error = 8.376\\nsamples = 38\\nvalue = 22.663'),\n",
              " Text(0.030253916801728797, 0.6136363636363636, 'x[1] <= 5.958\\nsquared_error = 11.462\\nsamples = 7\\nvalue = 19.329'),\n",
              " Text(0.021609940572663425, 0.5681818181818182, 'x[0] <= 7.185\\nsquared_error = 2.882\\nsamples = 4\\nvalue = 21.025'),\n",
              " Text(0.01728795245813074, 0.5227272727272727, 'squared_error = 0.0\\nsamples = 1\\nvalue = 23.1'),\n",
              " Text(0.02593192868719611, 0.5227272727272727, 'x[0] <= 7.945\\nsquared_error = 1.929\\nsamples = 3\\nvalue = 20.333'),\n",
              " Text(0.021609940572663425, 0.4772727272727273, 'squared_error = 0.0\\nsamples = 1\\nvalue = 18.6'),\n",
              " Text(0.030253916801728797, 0.4772727272727273, 'x[0] <= 8.18\\nsquared_error = 0.64\\nsamples = 2\\nvalue = 21.2'),\n",
              " Text(0.02593192868719611, 0.4318181818181818, 'squared_error = 0.0\\nsamples = 1\\nvalue = 22.0'),\n",
              " Text(0.03457590491626148, 0.4318181818181818, 'squared_error = 0.0\\nsamples = 1\\nvalue = 20.4'),\n",
              " Text(0.03889789303079417, 0.5681818181818182, 'x[0] <= 8.195\\nsquared_error = 13.949\\nsamples = 3\\nvalue = 17.067'),\n",
              " Text(0.03457590491626148, 0.5227272727272727, 'squared_error = 0.0\\nsamples = 1\\nvalue = 11.9'),\n",
              " Text(0.04321988114532685, 0.5227272727272727, 'x[0] <= 8.9\\nsquared_error = 0.903\\nsamples = 2\\nvalue = 19.65'),\n",
              " Text(0.03889789303079417, 0.4772727272727273, 'squared_error = 0.0\\nsamples = 1\\nvalue = 20.6'),\n",
              " Text(0.04754186925985954, 0.4772727272727273, 'squared_error = 0.0\\nsamples = 1\\nvalue = 18.7'),\n",
              " Text(0.08968125337655321, 0.6136363636363636, 'x[1] <= 6.539\\nsquared_error = 4.601\\nsamples = 31\\nvalue = 23.416'),\n",
              " Text(0.08535926526202053, 0.5681818181818182, 'x[1] <= 6.145\\nsquared_error = 3.107\\nsamples = 30\\nvalue = 23.647'),\n",
              " Text(0.06050783360345759, 0.5227272727272727, 'x[1] <= 6.111\\nsquared_error = 3.276\\nsamples = 7\\nvalue = 22.214'),\n",
              " Text(0.056185845488924906, 0.4772727272727273, 'squared_error = 0.0\\nsamples = 2\\nvalue = 24.3'),\n",
              " Text(0.06482982171799027, 0.4772727272727273, 'x[0] <= 8.83\\nsquared_error = 2.15\\nsamples = 5\\nvalue = 21.38'),\n",
              " Text(0.056185845488924906, 0.4318181818181818, 'x[1] <= 6.125\\nsquared_error = 0.81\\nsamples = 2\\nvalue = 23.0'),\n",
              " Text(0.05186385737439222, 0.38636363636363635, 'squared_error = 0.0\\nsamples = 1\\nvalue = 22.1'),\n",
              " Text(0.06050783360345759, 0.38636363636363635, 'squared_error = -0.0\\nsamples = 1\\nvalue = 23.9'),\n",
              " Text(0.07347379794705565, 0.4318181818181818, 'x[1] <= 6.132\\nsquared_error = 0.127\\nsamples = 3\\nvalue = 20.3'),\n",
              " Text(0.06915180983252296, 0.38636363636363635, 'x[1] <= 6.117\\nsquared_error = 0.002\\nsamples = 2\\nvalue = 20.55'),\n",
              " Text(0.06482982171799027, 0.3409090909090909, 'squared_error = 0.0\\nsamples = 1\\nvalue = 20.5'),\n",
              " Text(0.07347379794705565, 0.3409090909090909, 'squared_error = 0.0\\nsamples = 1\\nvalue = 20.6'),\n",
              " Text(0.07779578606158834, 0.38636363636363635, 'squared_error = 0.0\\nsamples = 1\\nvalue = 19.8'),\n",
              " Text(0.11021069692058347, 0.5227272727272727, 'x[0] <= 9.26\\nsquared_error = 2.241\\nsamples = 23\\nvalue = 24.083'),\n",
              " Text(0.09940572663425176, 0.4772727272727273, 'x[0] <= 8.74\\nsquared_error = 1.633\\nsamples = 21\\nvalue = 23.871'),\n",
              " Text(0.09076175040518639, 0.4318181818181818, 'x[0] <= 8.45\\nsquared_error = 1.119\\nsamples = 17\\nvalue = 24.241'),\n",
              " Text(0.0864397622906537, 0.38636363636363635, 'x[0] <= 8.01\\nsquared_error = 0.879\\nsamples = 16\\nvalue = 24.106'),\n",
              " Text(0.08211777417612101, 0.3409090909090909, 'x[1] <= 6.154\\nsquared_error = 0.622\\nsamples = 15\\nvalue = 24.247'),\n",
              " Text(0.07779578606158834, 0.29545454545454547, 'squared_error = 0.0\\nsamples = 1\\nvalue = 23.3'),\n",
              " Text(0.0864397622906537, 0.29545454545454547, 'x[0] <= 5.725\\nsquared_error = 0.598\\nsamples = 14\\nvalue = 24.314'),\n",
              " Text(0.07239330091842247, 0.25, 'x[0] <= 5.38\\nsquared_error = 1.396\\nsamples = 3\\nvalue = 23.867'),\n",
              " Text(0.06807131280388978, 0.20454545454545456, 'x[1] <= 6.435\\nsquared_error = 0.01\\nsamples = 2\\nvalue = 24.7'),\n",
              " Text(0.06374932468935711, 0.1590909090909091, 'squared_error = 0.0\\nsamples = 1\\nvalue = 24.6'),\n",
              " Text(0.07239330091842247, 0.1590909090909091, 'squared_error = 0.0\\nsamples = 1\\nvalue = 24.8'),\n",
              " Text(0.07671528903295516, 0.20454545454545456, 'squared_error = -0.0\\nsamples = 1\\nvalue = 22.2'),\n",
              " Text(0.10048622366288493, 0.25, 'x[1] <= 6.421\\nsquared_error = 0.311\\nsamples = 11\\nvalue = 24.436'),\n",
              " Text(0.08535926526202053, 0.20454545454545456, 'x[1] <= 6.187\\nsquared_error = 0.091\\nsamples = 7\\nvalue = 24.729'),\n",
              " Text(0.08103727714748785, 0.1590909090909091, 'squared_error = 0.0\\nsamples = 1\\nvalue = 24.1'),\n",
              " Text(0.08968125337655321, 0.1590909090909091, 'x[1] <= 6.39\\nsquared_error = 0.029\\nsamples = 6\\nvalue = 24.833'),\n",
              " Text(0.08535926526202053, 0.11363636363636363, 'x[0] <= 6.25\\nsquared_error = 0.023\\nsamples = 4\\nvalue = 24.75'),\n",
              " Text(0.07671528903295516, 0.06818181818181818, 'x[1] <= 6.297\\nsquared_error = 0.022\\nsamples = 2\\nvalue = 24.85'),\n",
              " Text(0.07239330091842247, 0.022727272727272728, 'squared_error = 0.0\\nsamples = 1\\nvalue = 25.0'),\n",
              " Text(0.08103727714748785, 0.022727272727272728, 'squared_error = -0.0\\nsamples = 1\\nvalue = 24.7'),\n",
              " Text(0.0940032414910859, 0.06818181818181818, 'x[0] <= 6.865\\nsquared_error = 0.003\\nsamples = 2\\nvalue = 24.65'),\n",
              " Text(0.08968125337655321, 0.022727272727272728, 'squared_error = 0.0\\nsamples = 1\\nvalue = 24.6'),\n",
              " Text(0.09832522960561858, 0.022727272727272728, 'squared_error = 0.0\\nsamples = 1\\nvalue = 24.7'),\n",
              " Text(0.0940032414910859, 0.11363636363636363, 'squared_error = 0.0\\nsamples = 2\\nvalue = 25.0'),\n",
              " Text(0.11561318206374932, 0.20454545454545456, 'x[0] <= 7.465\\nsquared_error = 0.287\\nsamples = 4\\nvalue = 23.925'),\n",
              " Text(0.11129119394921665, 0.1590909090909091, 'x[1] <= 6.501\\nsquared_error = 0.282\\nsamples = 3\\nvalue = 23.767'),\n",
              " Text(0.10696920583468396, 0.11363636363636363, 'x[0] <= 6.55\\nsquared_error = 0.09\\nsamples = 2\\nvalue = 24.1'),\n",
              " Text(0.10264721772015127, 0.06818181818181818, 'squared_error = 0.0\\nsamples = 1\\nvalue = 24.4'),\n",
              " Text(0.11129119394921665, 0.06818181818181818, 'squared_error = -0.0\\nsamples = 1\\nvalue = 23.8'),\n",
              " Text(0.11561318206374932, 0.11363636363636363, 'squared_error = -0.0\\nsamples = 1\\nvalue = 23.1'),\n",
              " Text(0.11993517017828201, 0.1590909090909091, 'squared_error = -0.0\\nsamples = 1\\nvalue = 24.4'),\n",
              " Text(0.09076175040518639, 0.3409090909090909, 'squared_error = 0.0\\nsamples = 1\\nvalue = 22.0'),\n",
              " Text(0.09508373851971907, 0.38636363636363635, 'squared_error = 0.0\\nsamples = 1\\nvalue = 26.4'),\n",
              " Text(0.10804970286331712, 0.4318181818181818, 'x[1] <= 6.351\\nsquared_error = 0.77\\nsamples = 4\\nvalue = 22.3'),\n",
              " Text(0.10372771474878444, 0.38636363636363635, 'squared_error = 0.0\\nsamples = 1\\nvalue = 21.4'),\n",
              " Text(0.11237169097784981, 0.38636363636363635, 'x[0] <= 9.09\\nsquared_error = 0.667\\nsamples = 3\\nvalue = 22.6'),\n",
              " Text(0.10804970286331712, 0.3409090909090909, 'x[0] <= 8.925\\nsquared_error = 0.25\\nsamples = 2\\nvalue = 23.1'),\n",
              " Text(0.10372771474878444, 0.29545454545454547, 'squared_error = 0.0\\nsamples = 1\\nvalue = 22.6'),\n",
              " Text(0.11237169097784981, 0.29545454545454547, 'squared_error = 0.0\\nsamples = 1\\nvalue = 23.6'),\n",
              " Text(0.1166936790923825, 0.3409090909090909, 'squared_error = 0.0\\nsamples = 1\\nvalue = 21.6'),\n",
              " Text(0.12101566720691519, 0.4772727272727273, 'x[1] <= 6.404\\nsquared_error = 3.24\\nsamples = 2\\nvalue = 26.3'),\n",
              " Text(0.1166936790923825, 0.4318181818181818, 'squared_error = 0.0\\nsamples = 1\\nvalue = 28.1'),\n",
              " Text(0.12533765532144786, 0.4318181818181818, 'squared_error = 0.0\\nsamples = 1\\nvalue = 24.5'),\n",
              " Text(0.0940032414910859, 0.5681818181818182, 'squared_error = 0.0\\nsamples = 1\\nvalue = 16.5'),\n",
              " Text(0.1749054565099946, 0.7045454545454546, 'x[1] <= 6.782\\nsquared_error = 10.44\\nsamples = 28\\nvalue = 28.061'),\n",
              " Text(0.1358725013506213, 0.6590909090909091, 'x[1] <= 6.569\\nsquared_error = 8.748\\nsamples = 21\\nvalue = 27.186'),\n",
              " Text(0.11885467314964884, 0.6136363636363636, 'x[1] <= 6.549\\nsquared_error = 1.669\\nsamples = 3\\nvalue = 31.133'),\n",
              " Text(0.11453268503511616, 0.5681818181818182, 'squared_error = 0.0\\nsamples = 1\\nvalue = 29.4'),\n",
              " Text(0.12317666126418152, 0.5681818181818182, 'x[0] <= 4.72\\nsquared_error = 0.25\\nsamples = 2\\nvalue = 32.0'),\n",
              " Text(0.11885467314964884, 0.5227272727272727, 'squared_error = 0.0\\nsamples = 1\\nvalue = 31.5'),\n",
              " Text(0.12749864937871422, 0.5227272727272727, 'squared_error = 0.0\\nsamples = 1\\nvalue = 32.5'),\n",
              " Text(0.15289032955159373, 0.6136363636363636, 'x[1] <= 6.592\\nsquared_error = 6.898\\nsamples = 18\\nvalue = 26.528'),\n",
              " Text(0.14046461372231225, 0.5681818181818182, 'x[0] <= 7.24\\nsquared_error = 1.0\\nsamples = 2\\nvalue = 23.0'),\n",
              " Text(0.13614262560777957, 0.5227272727272727, 'squared_error = 0.0\\nsamples = 1\\nvalue = 24.0'),\n",
              " Text(0.14478660183684494, 0.5227272727272727, 'squared_error = 0.0\\nsamples = 1\\nvalue = 22.0'),\n",
              " Text(0.16531604538087522, 0.5681818181818182, 'x[1] <= 6.624\\nsquared_error = 5.885\\nsamples = 16\\nvalue = 26.969'),\n",
              " Text(0.15343057806591032, 0.5227272727272727, 'x[0] <= 4.35\\nsquared_error = 0.845\\nsamples = 4\\nvalue = 29.6'),\n",
              " Text(0.14910858995137763, 0.4772727272727273, 'squared_error = 0.0\\nsamples = 1\\nvalue = 30.8'),\n",
              " Text(0.157752566180443, 0.4772727272727273, 'x[1] <= 6.617\\nsquared_error = 0.487\\nsamples = 3\\nvalue = 29.2'),\n",
              " Text(0.15343057806591032, 0.4318181818181818, 'x[0] <= 6.655\\nsquared_error = 0.123\\nsamples = 2\\nvalue = 28.75'),\n",
              " Text(0.14910858995137763, 0.38636363636363635, 'squared_error = 0.0\\nsamples = 1\\nvalue = 29.1'),\n",
              " Text(0.157752566180443, 0.38636363636363635, 'squared_error = -0.0\\nsamples = 1\\nvalue = 28.4'),\n",
              " Text(0.1620745542949757, 0.4318181818181818, 'squared_error = 0.0\\nsamples = 1\\nvalue = 30.1'),\n",
              " Text(0.17720151269584009, 0.5227272727272727, 'x[0] <= 4.615\\nsquared_error = 4.487\\nsamples = 12\\nvalue = 26.092'),\n",
              " Text(0.1728795245813074, 0.4772727272727273, 'squared_error = 0.0\\nsamples = 1\\nvalue = 22.8'),\n",
              " Text(0.18152350081037277, 0.4772727272727273, 'x[0] <= 5.64\\nsquared_error = 3.821\\nsamples = 11\\nvalue = 26.391'),\n",
              " Text(0.17071853052404107, 0.4318181818181818, 'x[1] <= 6.733\\nsquared_error = 1.447\\nsamples = 3\\nvalue = 28.8'),\n",
              " Text(0.16639654240950838, 0.38636363636363635, 'x[1] <= 6.679\\nsquared_error = 0.002\\nsamples = 2\\nvalue = 27.95'),\n",
              " Text(0.1620745542949757, 0.3409090909090909, 'squared_error = 0.0\\nsamples = 1\\nvalue = 27.9'),\n",
              " Text(0.17071853052404107, 0.3409090909090909, 'squared_error = -0.0\\nsamples = 1\\nvalue = 28.0'),\n",
              " Text(0.17504051863857376, 0.38636363636363635, 'squared_error = 0.0\\nsamples = 1\\nvalue = 30.5'),\n",
              " Text(0.19232847109670448, 0.4318181818181818, 'x[0] <= 8.58\\nsquared_error = 1.719\\nsamples = 8\\nvalue = 25.487'),\n",
              " Text(0.1836844948676391, 0.38636363636363635, 'x[0] <= 7.705\\nsquared_error = 1.512\\nsamples = 6\\nvalue = 25.233'),\n",
              " Text(0.17936250675310642, 0.3409090909090909, 'x[1] <= 6.707\\nsquared_error = 1.25\\nsamples = 5\\nvalue = 25.54'),\n",
              " Text(0.17071853052404107, 0.29545454545454547, 'x[1] <= 6.633\\nsquared_error = 1.34\\nsamples = 3\\nvalue = 25.0'),\n",
              " Text(0.16639654240950838, 0.25, 'squared_error = 0.0\\nsamples = 1\\nvalue = 26.6'),\n",
              " Text(0.17504051863857376, 0.25, 'x[0] <= 6.585\\nsquared_error = 0.09\\nsamples = 2\\nvalue = 24.2'),\n",
              " Text(0.17071853052404107, 0.20454545454545456, 'squared_error = 0.0\\nsamples = 1\\nvalue = 24.5'),\n",
              " Text(0.17936250675310642, 0.20454545454545456, 'squared_error = 0.0\\nsamples = 1\\nvalue = 23.9'),\n",
              " Text(0.1880064829821718, 0.29545454545454547, 'x[0] <= 7.115\\nsquared_error = 0.022\\nsamples = 2\\nvalue = 26.35'),\n",
              " Text(0.1836844948676391, 0.25, 'squared_error = 0.0\\nsamples = 1\\nvalue = 26.2'),\n",
              " Text(0.19232847109670448, 0.25, 'squared_error = -0.0\\nsamples = 1\\nvalue = 26.5'),\n",
              " Text(0.1880064829821718, 0.3409090909090909, 'squared_error = -0.0\\nsamples = 1\\nvalue = 23.7'),\n",
              " Text(0.20097244732576985, 0.38636363636363635, 'x[0] <= 9.46\\nsquared_error = 1.562\\nsamples = 2\\nvalue = 26.25'),\n",
              " Text(0.19665045921123717, 0.3409090909090909, 'squared_error = 0.0\\nsamples = 1\\nvalue = 27.5'),\n",
              " Text(0.20529443544030254, 0.3409090909090909, 'squared_error = 0.0\\nsamples = 1\\nvalue = 25.0'),\n",
              " Text(0.21393841166936792, 0.6590909090909091, 'x[1] <= 6.838\\nsquared_error = 6.33\\nsamples = 7\\nvalue = 30.686'),\n",
              " Text(0.19881145326850352, 0.6136363636363636, 'x[1] <= 6.806\\nsquared_error = 2.442\\nsamples = 4\\nvalue = 32.45'),\n",
              " Text(0.19016747703943815, 0.5681818181818182, 'x[1] <= 6.791\\nsquared_error = 0.202\\nsamples = 2\\nvalue = 31.55'),\n",
              " Text(0.18584548892490546, 0.5227272727272727, 'squared_error = 0.0\\nsamples = 1\\nvalue = 32.0'),\n",
              " Text(0.19448946515397084, 0.5227272727272727, 'squared_error = 0.0\\nsamples = 1\\nvalue = 31.1'),\n",
              " Text(0.20745542949756887, 0.5681818181818182, 'x[1] <= 6.814\\nsquared_error = 3.062\\nsamples = 2\\nvalue = 33.35'),\n",
              " Text(0.20313344138303618, 0.5227272727272727, 'squared_error = 0.0\\nsamples = 1\\nvalue = 35.1'),\n",
              " Text(0.21177741761210156, 0.5227272727272727, 'squared_error = 0.0\\nsamples = 1\\nvalue = 31.6'),\n",
              " Text(0.2290653700702323, 0.6136363636363636, 'x[1] <= 6.9\\nsquared_error = 1.829\\nsamples = 3\\nvalue = 28.333'),\n",
              " Text(0.22474338195569962, 0.5681818181818182, 'x[1] <= 6.861\\nsquared_error = 0.49\\nsamples = 2\\nvalue = 29.2'),\n",
              " Text(0.22042139384116693, 0.5227272727272727, 'squared_error = 0.0\\nsamples = 1\\nvalue = 29.9'),\n",
              " Text(0.2290653700702323, 0.5227272727272727, 'squared_error = -0.0\\nsamples = 1\\nvalue = 28.5'),\n",
              " Text(0.233387358184765, 0.5681818181818182, 'squared_error = -0.0\\nsamples = 1\\nvalue = 26.6'),\n",
              " Text(0.18787142085359265, 0.75, 'x[1] <= 6.424\\nsquared_error = 155.003\\nsamples = 2\\nvalue = 37.55'),\n",
              " Text(0.18354943273905996, 0.7045454545454546, 'squared_error = 0.0\\nsamples = 1\\nvalue = 50.0'),\n",
              " Text(0.19219340896812534, 0.7045454545454546, 'squared_error = 0.0\\nsamples = 1\\nvalue = 25.1'),\n",
              " Text(0.3518284035656402, 0.8409090909090909, 'x[0] <= 12.465\\nsquared_error = 5.836\\nsamples = 69\\nvalue = 20.851'),\n",
              " Text(0.31251688276607237, 0.7954545454545454, 'x[1] <= 6.736\\nsquared_error = 6.187\\nsamples = 43\\nvalue = 21.386'),\n",
              " Text(0.29649513776337116, 0.75, 'x[1] <= 5.645\\nsquared_error = 5.541\\nsamples = 41\\nvalue = 21.222'),\n",
              " Text(0.27741761210156674, 0.7045454545454546, 'x[0] <= 11.91\\nsquared_error = 10.229\\nsamples = 3\\nvalue = 23.633'),\n",
              " Text(0.273095623987034, 0.6590909090909091, 'x[0] <= 11.07\\nsquared_error = 1.69\\nsamples = 2\\nvalue = 21.5'),\n",
              " Text(0.26877363587250136, 0.6136363636363636, 'squared_error = 0.0\\nsamples = 1\\nvalue = 22.8'),\n",
              " Text(0.27741761210156674, 0.6136363636363636, 'squared_error = 0.0\\nsamples = 1\\nvalue = 20.2'),\n",
              " Text(0.2817396002160994, 0.6590909090909091, 'squared_error = 0.0\\nsamples = 1\\nvalue = 27.9'),\n",
              " Text(0.3155726634251756, 0.7045454545454546, 'x[1] <= 5.706\\nsquared_error = 4.676\\nsamples = 38\\nvalue = 21.032'),\n",
              " Text(0.29038357644516477, 0.6590909090909091, 'x[1] <= 5.694\\nsquared_error = 2.403\\nsamples = 2\\nvalue = 17.75'),\n",
              " Text(0.2860615883306321, 0.6136363636363636, 'squared_error = 0.0\\nsamples = 1\\nvalue = 19.3'),\n",
              " Text(0.2947055645596975, 0.6136363636363636, 'squared_error = 0.0\\nsamples = 1\\nvalue = 16.2'),\n",
              " Text(0.34076175040518636, 0.6590909090909091, 'x[1] <= 6.397\\nsquared_error = 4.171\\nsamples = 36\\nvalue = 21.214'),\n",
              " Text(0.3033495407887628, 0.6136363636363636, 'x[1] <= 6.099\\nsquared_error = 3.553\\nsamples = 31\\nvalue = 21.503'),\n",
              " Text(0.26580226904376014, 0.5681818181818182, 'x[0] <= 10.36\\nsquared_error = 3.303\\nsamples = 20\\nvalue = 21.045'),\n",
              " Text(0.23770934629929769, 0.5227272727272727, 'x[0] <= 9.69\\nsquared_error = 2.415\\nsamples = 10\\nvalue = 20.19'),\n",
              " Text(0.22690437601296595, 0.4772727272727273, 'x[1] <= 5.964\\nsquared_error = 0.49\\nsamples = 2\\nvalue = 21.9'),\n",
              " Text(0.2225823878984333, 0.4318181818181818, 'squared_error = 0.0\\nsamples = 1\\nvalue = 22.6'),\n",
              " Text(0.23122636412749864, 0.4318181818181818, 'squared_error = 0.0\\nsamples = 1\\nvalue = 21.2'),\n",
              " Text(0.2485143165856294, 0.4772727272727273, 'x[0] <= 10.175\\nsquared_error = 1.982\\nsamples = 8\\nvalue = 19.762'),\n",
              " Text(0.23987034035656402, 0.4318181818181818, 'x[1] <= 6.003\\nsquared_error = 2.346\\nsamples = 5\\nvalue = 20.26'),\n",
              " Text(0.23554835224203133, 0.38636363636363635, 'x[1] <= 5.979\\nsquared_error = 0.232\\nsamples = 4\\nvalue = 19.525'),\n",
              " Text(0.23122636412749864, 0.3409090909090909, 'x[1] <= 5.921\\nsquared_error = 0.187\\nsamples = 3\\nvalue = 19.7'),\n",
              " Text(0.22690437601296595, 0.29545454545454547, 'x[0] <= 9.885\\nsquared_error = 0.01\\nsamples = 2\\nvalue = 19.4'),\n",
              " Text(0.2225823878984333, 0.25, 'squared_error = 0.0\\nsamples = 1\\nvalue = 19.5'),\n",
              " Text(0.23122636412749864, 0.25, 'squared_error = 0.0\\nsamples = 1\\nvalue = 19.3'),\n",
              " Text(0.23554835224203133, 0.29545454545454547, 'squared_error = 0.0\\nsamples = 1\\nvalue = 20.3'),\n",
              " Text(0.23987034035656402, 0.3409090909090909, 'squared_error = 0.0\\nsamples = 1\\nvalue = 19.0'),\n",
              " Text(0.2441923284710967, 0.38636363636363635, 'squared_error = -0.0\\nsamples = 1\\nvalue = 23.2'),\n",
              " Text(0.25715829281469477, 0.4318181818181818, 'x[1] <= 6.059\\nsquared_error = 0.276\\nsamples = 3\\nvalue = 18.933'),\n",
              " Text(0.25283630470016205, 0.38636363636363635, 'x[0] <= 10.27\\nsquared_error = 0.01\\nsamples = 2\\nvalue = 19.3'),\n",
              " Text(0.2485143165856294, 0.3409090909090909, 'squared_error = 0.0\\nsamples = 1\\nvalue = 19.4'),\n",
              " Text(0.25715829281469477, 0.3409090909090909, 'squared_error = 0.0\\nsamples = 1\\nvalue = 19.2'),\n",
              " Text(0.2614802809292274, 0.38636363636363635, 'squared_error = -0.0\\nsamples = 1\\nvalue = 18.2'),\n",
              " Text(0.2938951917882226, 0.5227272727272727, 'x[1] <= 6.017\\nsquared_error = 2.73\\nsamples = 10\\nvalue = 21.9'),\n",
              " Text(0.2895732036736899, 0.4772727272727273, 'x[1] <= 5.943\\nsquared_error = 2.262\\nsamples = 9\\nvalue = 22.178'),\n",
              " Text(0.2787682333873582, 0.4318181818181818, 'x[1] <= 5.878\\nsquared_error = 2.025\\nsamples = 7\\nvalue = 21.771'),\n",
              " Text(0.2701242571582928, 0.38636363636363635, 'x[0] <= 12.075\\nsquared_error = 0.677\\nsamples = 4\\nvalue = 22.525'),\n",
              " Text(0.26580226904376014, 0.3409090909090909, 'x[1] <= 5.808\\nsquared_error = 0.18\\nsamples = 3\\nvalue = 22.1'),\n",
              " Text(0.2614802809292274, 0.29545454545454547, 'x[0] <= 11.215\\nsquared_error = 0.0\\nsamples = 2\\nvalue = 21.8'),\n",
              " Text(0.25715829281469477, 0.25, 'squared_error = 0.0\\nsamples = 1\\nvalue = 21.8'),\n",
              " Text(0.26580226904376014, 0.25, 'squared_error = 0.0\\nsamples = 1\\nvalue = 21.8'),\n",
              " Text(0.2701242571582928, 0.29545454545454547, 'squared_error = -0.0\\nsamples = 1\\nvalue = 22.7'),\n",
              " Text(0.2744462452728255, 0.3409090909090909, 'squared_error = 0.0\\nsamples = 1\\nvalue = 23.8'),\n",
              " Text(0.28741220961642355, 0.38636363636363635, 'x[0] <= 11.16\\nsquared_error = 2.056\\nsamples = 3\\nvalue = 20.767'),\n",
              " Text(0.2830902215018909, 0.3409090909090909, 'squared_error = 0.0\\nsamples = 1\\nvalue = 22.6'),\n",
              " Text(0.2917341977309562, 0.3409090909090909, 'x[0] <= 11.74\\nsquared_error = 0.562\\nsamples = 2\\nvalue = 19.85'),\n",
              " Text(0.28741220961642355, 0.29545454545454547, 'squared_error = 0.0\\nsamples = 1\\nvalue = 20.6'),\n",
              " Text(0.29605618584548893, 0.29545454545454547, 'squared_error = -0.0\\nsamples = 1\\nvalue = 19.1'),\n",
              " Text(0.3003781739600216, 0.4318181818181818, 'x[1] <= 5.997\\nsquared_error = 0.49\\nsamples = 2\\nvalue = 23.6'),\n",
              " Text(0.29605618584548893, 0.38636363636363635, 'squared_error = 0.0\\nsamples = 1\\nvalue = 24.3'),\n",
              " Text(0.3047001620745543, 0.38636363636363635, 'squared_error = 0.0\\nsamples = 1\\nvalue = 22.9'),\n",
              " Text(0.29821717990275526, 0.4772727272727273, 'squared_error = -0.0\\nsamples = 1\\nvalue = 19.4'),\n",
              " Text(0.3408968125337655, 0.5681818181818182, 'x[0] <= 11.725\\nsquared_error = 2.93\\nsamples = 11\\nvalue = 22.336'),\n",
              " Text(0.32522960561858455, 0.5227272727272727, 'x[0] <= 10.085\\nsquared_error = 1.646\\nsamples = 8\\nvalue = 23.112'),\n",
              " Text(0.3133441383036197, 0.4772727272727273, 'x[0] <= 9.715\\nsquared_error = 0.303\\nsamples = 2\\nvalue = 24.45'),\n",
              " Text(0.30902215018908696, 0.4318181818181818, 'squared_error = 0.0\\nsamples = 1\\nvalue = 23.9'),\n",
              " Text(0.31766612641815234, 0.4318181818181818, 'squared_error = 0.0\\nsamples = 1\\nvalue = 25.0'),\n",
              " Text(0.3371150729335494, 0.4772727272727273, 'x[0] <= 10.665\\nsquared_error = 1.299\\nsamples = 6\\nvalue = 22.667'),\n",
              " Text(0.3263101026472177, 0.4318181818181818, 'x[0] <= 10.475\\nsquared_error = 1.562\\nsamples = 2\\nvalue = 21.85'),\n",
              " Text(0.32198811453268505, 0.38636363636363635, 'squared_error = 0.0\\nsamples = 1\\nvalue = 23.1'),\n",
              " Text(0.33063209076175043, 0.38636363636363635, 'squared_error = -0.0\\nsamples = 1\\nvalue = 20.6'),\n",
              " Text(0.3479200432198811, 0.4318181818181818, 'x[0] <= 11.095\\nsquared_error = 0.667\\nsamples = 4\\nvalue = 23.075'),\n",
              " Text(0.33927606699081575, 0.38636363636363635, 'x[1] <= 6.284\\nsquared_error = 0.49\\nsamples = 2\\nvalue = 23.7'),\n",
              " Text(0.3349540788762831, 0.3409090909090909, 'squared_error = 0.0\\nsamples = 1\\nvalue = 23.0'),\n",
              " Text(0.34359805510534847, 0.3409090909090909, 'squared_error = 0.0\\nsamples = 1\\nvalue = 24.4'),\n",
              " Text(0.3565640194489465, 0.38636363636363635, 'x[1] <= 6.242\\nsquared_error = 0.062\\nsamples = 2\\nvalue = 22.45'),\n",
              " Text(0.35224203133441384, 0.3409090909090909, 'squared_error = 0.0\\nsamples = 1\\nvalue = 22.7'),\n",
              " Text(0.3608860075634792, 0.3409090909090909, 'squared_error = -0.0\\nsamples = 1\\nvalue = 22.2'),\n",
              " Text(0.3565640194489465, 0.5227272727272727, 'x[1] <= 6.227\\nsquared_error = 0.462\\nsamples = 3\\nvalue = 20.267'),\n",
              " Text(0.35224203133441384, 0.4772727272727273, 'squared_error = 0.0\\nsamples = 1\\nvalue = 21.2'),\n",
              " Text(0.3608860075634792, 0.4772727272727273, 'x[1] <= 6.303\\nsquared_error = 0.04\\nsamples = 2\\nvalue = 19.8'),\n",
              " Text(0.3565640194489465, 0.4318181818181818, 'squared_error = 0.0\\nsamples = 1\\nvalue = 20.0'),\n",
              " Text(0.3652079956780119, 0.4318181818181818, 'squared_error = 0.0\\nsamples = 1\\nvalue = 19.6'),\n",
              " Text(0.37817396002160997, 0.6136363636363636, 'x[1] <= 6.45\\nsquared_error = 4.266\\nsamples = 5\\nvalue = 19.42'),\n",
              " Text(0.3695299837925446, 0.5681818181818182, 'x[1] <= 6.415\\nsquared_error = 1.562\\nsamples = 2\\nvalue = 17.35'),\n",
              " Text(0.3652079956780119, 0.5227272727272727, 'squared_error = 0.0\\nsamples = 1\\nvalue = 18.6'),\n",
              " Text(0.37385197190707725, 0.5227272727272727, 'squared_error = 0.0\\nsamples = 1\\nvalue = 16.1'),\n",
              " Text(0.3868179362506753, 0.5681818181818182, 'x[0] <= 9.98\\nsquared_error = 1.307\\nsamples = 3\\nvalue = 20.8'),\n",
              " Text(0.3824959481361426, 0.5227272727272727, 'squared_error = 0.0\\nsamples = 1\\nvalue = 22.4'),\n",
              " Text(0.391139924365208, 0.5227272727272727, 'x[0] <= 11.28\\nsquared_error = 0.04\\nsamples = 2\\nvalue = 20.0'),\n",
              " Text(0.3868179362506753, 0.4772727272727273, 'squared_error = 0.0\\nsamples = 1\\nvalue = 20.2'),\n",
              " Text(0.39546191247974066, 0.4772727272727273, 'squared_error = -0.0\\nsamples = 1\\nvalue = 19.8'),\n",
              " Text(0.32853862776877363, 0.75, 'x[0] <= 10.655\\nsquared_error = 7.562\\nsamples = 2\\nvalue = 24.75'),\n",
              " Text(0.32421663965424097, 0.7045454545454546, 'squared_error = 0.0\\nsamples = 1\\nvalue = 27.5'),\n",
              " Text(0.33286061588330634, 0.7045454545454546, 'squared_error = 0.0\\nsamples = 1\\nvalue = 22.0'),\n",
              " Text(0.391139924365208, 0.7954545454545454, 'x[0] <= 12.655\\nsquared_error = 3.998\\nsamples = 26\\nvalue = 19.965'),\n",
              " Text(0.37385197190707725, 0.75, 'x[0] <= 12.57\\nsquared_error = 0.562\\nsamples = 2\\nvalue = 16.85'),\n",
              " Text(0.3695299837925446, 0.7045454545454546, 'squared_error = 0.0\\nsamples = 1\\nvalue = 17.6'),\n",
              " Text(0.37817396002160997, 0.7045454545454546, 'squared_error = -0.0\\nsamples = 1\\nvalue = 16.1'),\n",
              " Text(0.40842787682333875, 0.75, 'x[0] <= 12.865\\nsquared_error = 3.409\\nsamples = 24\\nvalue = 20.225'),\n",
              " Text(0.3868179362506753, 0.7045454545454546, 'x[0] <= 12.73\\nsquared_error = 0.029\\nsamples = 3\\nvalue = 22.433'),\n",
              " Text(0.3824959481361426, 0.6590909090909091, 'squared_error = 0.0\\nsamples = 1\\nvalue = 22.6'),\n",
              " Text(0.391139924365208, 0.6590909090909091, 'x[1] <= 6.049\\nsquared_error = 0.023\\nsamples = 2\\nvalue = 22.35'),\n",
              " Text(0.3868179362506753, 0.6136363636363636, 'squared_error = 0.0\\nsamples = 1\\nvalue = 22.5'),\n",
              " Text(0.39546191247974066, 0.6136363636363636, 'squared_error = -0.0\\nsamples = 1\\nvalue = 22.2'),\n",
              " Text(0.43003781739600216, 0.7045454545454546, 'x[0] <= 13.21\\nsquared_error = 3.095\\nsamples = 21\\nvalue = 19.91'),\n",
              " Text(0.4127498649378714, 0.6590909090909091, 'x[0] <= 12.985\\nsquared_error = 4.01\\nsamples = 5\\nvalue = 18.06'),\n",
              " Text(0.40410588870880604, 0.6136363636363636, 'x[1] <= 6.23\\nsquared_error = 0.062\\nsamples = 2\\nvalue = 19.85'),\n",
              " Text(0.3997839005942734, 0.5681818181818182, 'squared_error = 0.0\\nsamples = 1\\nvalue = 19.6'),\n",
              " Text(0.40842787682333875, 0.5681818181818182, 'squared_error = -0.0\\nsamples = 1\\nvalue = 20.1'),\n",
              " Text(0.4213938411669368, 0.6136363636363636, 'x[1] <= 5.907\\nsquared_error = 3.082\\nsamples = 3\\nvalue = 16.867'),\n",
              " Text(0.41707185305240413, 0.5681818181818182, 'x[1] <= 5.668\\nsquared_error = 0.422\\nsamples = 2\\nvalue = 18.05'),\n",
              " Text(0.4127498649378714, 0.5227272727272727, 'squared_error = 0.0\\nsamples = 1\\nvalue = 17.4'),\n",
              " Text(0.4213938411669368, 0.5227272727272727, 'squared_error = 0.0\\nsamples = 1\\nvalue = 18.7'),\n",
              " Text(0.42571582928146945, 0.5681818181818182, 'squared_error = 0.0\\nsamples = 1\\nvalue = 14.5'),\n",
              " Text(0.4473257698541329, 0.6590909090909091, 'x[0] <= 14.315\\nsquared_error = 1.406\\nsamples = 16\\nvalue = 20.487'),\n",
              " Text(0.43868179362506754, 0.6136363636363636, 'x[1] <= 5.347\\nsquared_error = 0.827\\nsamples = 14\\nvalue = 20.186'),\n",
              " Text(0.4343598055105348, 0.5681818181818182, 'squared_error = 0.0\\nsamples = 1\\nvalue = 21.9'),\n",
              " Text(0.4430037817396002, 0.5681818181818182, 'x[1] <= 6.356\\nsquared_error = 0.647\\nsamples = 13\\nvalue = 20.054'),\n",
              " Text(0.43868179362506754, 0.5227272727272727, 'x[0] <= 14.04\\nsquared_error = 0.456\\nsamples = 12\\nvalue = 19.917'),\n",
              " Text(0.4213938411669368, 0.4772727272727273, 'x[1] <= 5.987\\nsquared_error = 0.24\\nsamples = 7\\nvalue = 19.557'),\n",
              " Text(0.4127498649378714, 0.4318181818181818, 'x[0] <= 13.395\\nsquared_error = 0.235\\nsamples = 4\\nvalue = 19.8'),\n",
              " Text(0.40842787682333875, 0.38636363636363635, 'squared_error = 0.0\\nsamples = 1\\nvalue = 20.6'),\n",
              " Text(0.41707185305240413, 0.38636363636363635, 'x[1] <= 5.847\\nsquared_error = 0.029\\nsamples = 3\\nvalue = 19.533'),\n",
              " Text(0.4127498649378714, 0.3409090909090909, 'squared_error = 0.0\\nsamples = 1\\nvalue = 19.3'),\n",
              " Text(0.4213938411669368, 0.3409090909090909, 'x[0] <= 13.64\\nsquared_error = 0.002\\nsamples = 2\\nvalue = 19.65'),\n",
              " Text(0.41707185305240413, 0.29545454545454547, 'squared_error = 0.0\\nsamples = 1\\nvalue = 19.7'),\n",
              " Text(0.42571582928146945, 0.29545454545454547, 'squared_error = 0.0\\nsamples = 1\\nvalue = 19.6'),\n",
              " Text(0.43003781739600216, 0.4318181818181818, 'x[0] <= 13.355\\nsquared_error = 0.062\\nsamples = 3\\nvalue = 19.233'),\n",
              " Text(0.42571582928146945, 0.38636363636363635, 'squared_error = 0.0\\nsamples = 1\\nvalue = 18.9'),\n",
              " Text(0.4343598055105348, 0.38636363636363635, 'x[0] <= 13.715\\nsquared_error = 0.01\\nsamples = 2\\nvalue = 19.4'),\n",
              " Text(0.43003781739600216, 0.3409090909090909, 'squared_error = 0.0\\nsamples = 1\\nvalue = 19.3'),\n",
              " Text(0.43868179362506754, 0.3409090909090909, 'squared_error = 0.0\\nsamples = 1\\nvalue = 19.5'),\n",
              " Text(0.4559697460831983, 0.4772727272727273, 'x[0] <= 14.115\\nsquared_error = 0.326\\nsamples = 5\\nvalue = 20.42'),\n",
              " Text(0.4473257698541329, 0.4318181818181818, 'x[0] <= 14.095\\nsquared_error = 0.303\\nsamples = 2\\nvalue = 20.95'),\n",
              " Text(0.4430037817396002, 0.38636363636363635, 'squared_error = 0.0\\nsamples = 1\\nvalue = 20.4'),\n",
              " Text(0.4516477579686656, 0.38636363636363635, 'squared_error = 0.0\\nsamples = 1\\nvalue = 21.5'),\n",
              " Text(0.46461372231226367, 0.4318181818181818, 'x[1] <= 5.895\\nsquared_error = 0.029\\nsamples = 3\\nvalue = 20.067'),\n",
              " Text(0.46029173419773095, 0.38636363636363635, 'x[0] <= 14.14\\nsquared_error = 0.003\\nsamples = 2\\nvalue = 19.95'),\n",
              " Text(0.4559697460831983, 0.3409090909090909, 'squared_error = 0.0\\nsamples = 1\\nvalue = 19.9'),\n",
              " Text(0.46461372231226367, 0.3409090909090909, 'squared_error = 0.0\\nsamples = 1\\nvalue = 20.0'),\n",
              " Text(0.4689357104267963, 0.38636363636363635, 'squared_error = -0.0\\nsamples = 1\\nvalue = 20.3'),\n",
              " Text(0.4473257698541329, 0.5227272727272727, 'squared_error = -0.0\\nsamples = 1\\nvalue = 21.7'),\n",
              " Text(0.4559697460831983, 0.6136363636363636, 'x[0] <= 14.365\\nsquared_error = 0.36\\nsamples = 2\\nvalue = 22.6'),\n",
              " Text(0.4516477579686656, 0.5681818181818182, 'squared_error = 0.0\\nsamples = 1\\nvalue = 23.2'),\n",
              " Text(0.46029173419773095, 0.5681818181818182, 'squared_error = -0.0\\nsamples = 1\\nvalue = 22.0'),\n",
              " Text(0.6382023230686116, 0.8863636363636364, 'x[0] <= 19.645\\nsquared_error = 16.738\\nsamples = 90\\nvalue = 14.792'),\n",
              " Text(0.5495002701242572, 0.8409090909090909, 'x[0] <= 16.04\\nsquared_error = 8.533\\nsamples = 50\\nvalue = 16.628'),\n",
              " Text(0.5037817396002161, 0.7954545454545454, 'x[1] <= 6.122\\nsquared_error = 10.18\\nsamples = 19\\nvalue = 18.421'),\n",
              " Text(0.4737979470556456, 0.75, 'x[0] <= 14.55\\nsquared_error = 4.993\\nsamples = 13\\nvalue = 19.708'),\n",
              " Text(0.46029173419773095, 0.7045454545454546, 'x[1] <= 5.921\\nsquared_error = 0.49\\nsamples = 2\\nvalue = 16.7'),\n",
              " Text(0.4559697460831983, 0.6590909090909091, 'squared_error = 0.0\\nsamples = 1\\nvalue = 17.4'),\n",
              " Text(0.46461372231226367, 0.6590909090909091, 'squared_error = 0.0\\nsamples = 1\\nvalue = 16.0'),\n",
              " Text(0.48730415991356024, 0.7045454545454546, 'x[0] <= 14.725\\nsquared_error = 3.868\\nsamples = 11\\nvalue = 20.255'),\n",
              " Text(0.473257698541329, 0.6590909090909091, 'x[1] <= 5.818\\nsquared_error = 0.422\\nsamples = 2\\nvalue = 23.75'),\n",
              " Text(0.4689357104267963, 0.6136363636363636, 'squared_error = 0.0\\nsamples = 1\\nvalue = 23.1'),\n",
              " Text(0.4775796866558617, 0.6136363636363636, 'squared_error = -0.0\\nsamples = 1\\nvalue = 24.4'),\n",
              " Text(0.5013506212857914, 0.6590909090909091, 'x[0] <= 15.235\\nsquared_error = 1.315\\nsamples = 9\\nvalue = 19.478'),\n",
              " Text(0.4862236628849271, 0.6136363636363636, 'x[0] <= 15.005\\nsquared_error = 0.728\\nsamples = 5\\nvalue = 18.8'),\n",
              " Text(0.4775796866558617, 0.5681818181818182, 'x[0] <= 14.78\\nsquared_error = 0.276\\nsamples = 3\\nvalue = 19.367'),\n",
              " Text(0.473257698541329, 0.5227272727272727, 'squared_error = 0.0\\nsamples = 1\\nvalue = 20.1'),\n",
              " Text(0.48190167477039436, 0.5227272727272727, 'x[0] <= 14.89\\nsquared_error = 0.01\\nsamples = 2\\nvalue = 19.0'),\n",
              " Text(0.4775796866558617, 0.4772727272727273, 'squared_error = 0.0\\nsamples = 1\\nvalue = 18.9'),\n",
              " Text(0.4862236628849271, 0.4772727272727273, 'squared_error = 0.0\\nsamples = 1\\nvalue = 19.1'),\n",
              " Text(0.49486763911399245, 0.5681818181818182, 'x[1] <= 5.695\\nsquared_error = 0.202\\nsamples = 2\\nvalue = 17.95'),\n",
              " Text(0.49054565099945974, 0.5227272727272727, 'squared_error = 0.0\\nsamples = 1\\nvalue = 17.5'),\n",
              " Text(0.4991896272285251, 0.5227272727272727, 'squared_error = 0.0\\nsamples = 1\\nvalue = 18.4'),\n",
              " Text(0.5164775796866559, 0.6136363636363636, 'x[1] <= 5.881\\nsquared_error = 0.757\\nsamples = 4\\nvalue = 20.325'),\n",
              " Text(0.5121555915721232, 0.5681818181818182, 'x[0] <= 15.58\\nsquared_error = 0.169\\nsamples = 3\\nvalue = 19.867'),\n",
              " Text(0.5078336034575905, 0.5227272727272727, 'squared_error = 0.0\\nsamples = 1\\nvalue = 20.4'),\n",
              " Text(0.5164775796866559, 0.5227272727272727, 'x[0] <= 15.865\\nsquared_error = 0.04\\nsamples = 2\\nvalue = 19.6'),\n",
              " Text(0.5121555915721232, 0.4772727272727273, 'squared_error = 0.0\\nsamples = 1\\nvalue = 19.4'),\n",
              " Text(0.5207995678011885, 0.4772727272727273, 'squared_error = -0.0\\nsamples = 1\\nvalue = 19.8'),\n",
              " Text(0.5207995678011885, 0.5681818181818182, 'squared_error = -0.0\\nsamples = 1\\nvalue = 21.7'),\n",
              " Text(0.5337655321447866, 0.75, 'x[1] <= 6.219\\nsquared_error = 10.059\\nsamples = 6\\nvalue = 15.633'),\n",
              " Text(0.5251215559157212, 0.7045454545454546, 'x[1] <= 6.166\\nsquared_error = 7.327\\nsamples = 3\\nvalue = 13.2'),\n",
              " Text(0.5207995678011885, 0.6590909090909091, 'squared_error = 0.0\\nsamples = 1\\nvalue = 17.0'),\n",
              " Text(0.529443544030254, 0.6590909090909091, 'x[0] <= 14.845\\nsquared_error = 0.16\\nsamples = 2\\nvalue = 11.3'),\n",
              " Text(0.5251215559157212, 0.6136363636363636, 'squared_error = 0.0\\nsamples = 1\\nvalue = 10.9'),\n",
              " Text(0.5337655321447866, 0.6136363636363636, 'squared_error = -0.0\\nsamples = 1\\nvalue = 11.7'),\n",
              " Text(0.5424095083738519, 0.7045454545454546, 'x[1] <= 6.303\\nsquared_error = 0.949\\nsamples = 3\\nvalue = 18.067'),\n",
              " Text(0.5380875202593193, 0.6590909090909091, 'squared_error = 0.0\\nsamples = 1\\nvalue = 19.4'),\n",
              " Text(0.5467314964883847, 0.6590909090909091, 'x[0] <= 14.62\\nsquared_error = 0.09\\nsamples = 2\\nvalue = 17.4'),\n",
              " Text(0.5424095083738519, 0.6136363636363636, 'squared_error = 0.0\\nsamples = 1\\nvalue = 17.1'),\n",
              " Text(0.5510534846029174, 0.6136363636363636, 'squared_error = 0.0\\nsamples = 1\\nvalue = 17.7'),\n",
              " Text(0.5952188006482982, 0.7954545454545454, 'x[1] <= 5.584\\nsquared_error = 4.346\\nsamples = 31\\nvalue = 15.529'),\n",
              " Text(0.5683414370610481, 0.75, 'x[0] <= 17.61\\nsquared_error = 1.593\\nsamples = 4\\nvalue = 13.45'),\n",
              " Text(0.5596974608319827, 0.7045454545454546, 'x[0] <= 16.65\\nsquared_error = 0.49\\nsamples = 2\\nvalue = 12.4'),\n",
              " Text(0.55537547271745, 0.6590909090909091, 'squared_error = 0.0\\nsamples = 1\\nvalue = 13.1'),\n",
              " Text(0.5640194489465153, 0.6590909090909091, 'squared_error = 0.0\\nsamples = 1\\nvalue = 11.7'),\n",
              " Text(0.5769854132901134, 0.7045454545454546, 'x[1] <= 5.441\\nsquared_error = 0.49\\nsamples = 2\\nvalue = 14.5'),\n",
              " Text(0.5726634251755808, 0.6590909090909091, 'squared_error = 0.0\\nsamples = 1\\nvalue = 13.8'),\n",
              " Text(0.5813074014046461, 0.6590909090909091, 'squared_error = 0.0\\nsamples = 1\\nvalue = 15.2'),\n",
              " Text(0.6220961642355484, 0.75, 'x[1] <= 6.235\\nsquared_error = 4.019\\nsamples = 27\\nvalue = 15.837'),\n",
              " Text(0.5942733657482442, 0.7045454545454546, 'x[0] <= 16.275\\nsquared_error = 4.256\\nsamples = 17\\nvalue = 16.394'),\n",
              " Text(0.5899513776337115, 0.6590909090909091, 'squared_error = 0.0\\nsamples = 1\\nvalue = 19.4'),\n",
              " Text(0.5985953538627768, 0.6590909090909091, 'x[0] <= 16.47\\nsquared_error = 3.922\\nsamples = 16\\nvalue = 16.206'),\n",
              " Text(0.5942733657482442, 0.6136363636363636, 'squared_error = 0.0\\nsamples = 1\\nvalue = 12.7'),\n",
              " Text(0.6029173419773096, 0.6136363636363636, 'x[1] <= 6.198\\nsquared_error = 3.309\\nsamples = 15\\nvalue = 16.44'),\n",
              " Text(0.5861696380334954, 0.5681818181818182, 'x[1] <= 5.967\\nsquared_error = 3.315\\nsamples = 13\\nvalue = 16.185'),\n",
              " Text(0.5656401944894651, 0.5227272727272727, 'x[0] <= 17.045\\nsquared_error = 3.26\\nsamples = 7\\nvalue = 16.9'),\n",
              " Text(0.5548352242031335, 0.4772727272727273, 'x[1] <= 5.939\\nsquared_error = 3.802\\nsamples = 2\\nvalue = 15.45'),\n",
              " Text(0.5505132360886008, 0.4318181818181818, 'squared_error = 0.0\\nsamples = 1\\nvalue = 13.5'),\n",
              " Text(0.5591572123176661, 0.4318181818181818, 'squared_error = 0.0\\nsamples = 1\\nvalue = 17.4'),\n",
              " Text(0.5764451647757969, 0.4772727272727273, 'x[1] <= 5.818\\nsquared_error = 1.866\\nsamples = 5\\nvalue = 17.48'),\n",
              " Text(0.5678011885467315, 0.4318181818181818, 'x[1] <= 5.725\\nsquared_error = 0.09\\nsamples = 2\\nvalue = 15.9'),\n",
              " Text(0.5634792004321988, 0.38636363636363635, 'squared_error = 0.0\\nsamples = 1\\nvalue = 16.2'),\n",
              " Text(0.5721231766612642, 0.38636363636363635, 'squared_error = 0.0\\nsamples = 1\\nvalue = 15.6'),\n",
              " Text(0.5850891410048622, 0.4318181818181818, 'x[0] <= 17.955\\nsquared_error = 0.276\\nsamples = 3\\nvalue = 18.533'),\n",
              " Text(0.5807671528903295, 0.38636363636363635, 'x[1] <= 5.916\\nsquared_error = 0.01\\nsamples = 2\\nvalue = 18.9'),\n",
              " Text(0.5764451647757969, 0.3409090909090909, 'squared_error = 0.0\\nsamples = 1\\nvalue = 18.8'),\n",
              " Text(0.5850891410048622, 0.3409090909090909, 'squared_error = 0.0\\nsamples = 1\\nvalue = 19.0'),\n",
              " Text(0.589411129119395, 0.38636363636363635, 'squared_error = 0.0\\nsamples = 1\\nvalue = 17.8'),\n",
              " Text(0.6066990815775256, 0.5227272727272727, 'x[0] <= 18.295\\nsquared_error = 2.086\\nsamples = 6\\nvalue = 15.35'),\n",
              " Text(0.5980551053484603, 0.4772727272727273, 'x[0] <= 17.675\\nsquared_error = 0.242\\nsamples = 3\\nvalue = 14.167'),\n",
              " Text(0.5937331172339276, 0.4318181818181818, 'squared_error = 0.0\\nsamples = 1\\nvalue = 14.8'),\n",
              " Text(0.602377093462993, 0.4318181818181818, 'x[0] <= 18.1\\nsquared_error = 0.062\\nsamples = 2\\nvalue = 13.85'),\n",
              " Text(0.5980551053484603, 0.38636363636363635, 'squared_error = 0.0\\nsamples = 1\\nvalue = 13.6'),\n",
              " Text(0.6066990815775256, 0.38636363636363635, 'squared_error = 0.0\\nsamples = 1\\nvalue = 14.1'),\n",
              " Text(0.615343057806591, 0.4772727272727273, 'x[0] <= 18.59\\nsquared_error = 1.129\\nsamples = 3\\nvalue = 16.533'),\n",
              " Text(0.6110210696920584, 0.4318181818181818, 'squared_error = 0.0\\nsamples = 1\\nvalue = 17.8'),\n",
              " Text(0.6196650459211237, 0.4318181818181818, 'x[1] <= 6.086\\nsquared_error = 0.49\\nsamples = 2\\nvalue = 15.9'),\n",
              " Text(0.615343057806591, 0.38636363636363635, 'squared_error = 0.0\\nsamples = 1\\nvalue = 16.6'),\n",
              " Text(0.6239870340356564, 0.38636363636363635, 'squared_error = -0.0\\nsamples = 1\\nvalue = 15.2'),\n",
              " Text(0.6196650459211237, 0.5681818181818182, 'x[1] <= 6.215\\nsquared_error = 0.09\\nsamples = 2\\nvalue = 18.1'),\n",
              " Text(0.615343057806591, 0.5227272727272727, 'squared_error = 0.0\\nsamples = 1\\nvalue = 17.8'),\n",
              " Text(0.6239870340356564, 0.5227272727272727, 'squared_error = -0.0\\nsamples = 1\\nvalue = 18.4'),\n",
              " Text(0.6499189627228525, 0.7045454545454546, 'x[1] <= 6.274\\nsquared_error = 2.191\\nsamples = 10\\nvalue = 14.89'),\n",
              " Text(0.6455969746083198, 0.6590909090909091, 'squared_error = 0.0\\nsamples = 1\\nvalue = 12.6'),\n",
              " Text(0.6542409508373852, 0.6590909090909091, 'x[0] <= 19.445\\nsquared_error = 1.787\\nsamples = 9\\nvalue = 15.144'),\n",
              " Text(0.6499189627228525, 0.6136363636363636, 'x[0] <= 19.11\\nsquared_error = 1.472\\nsamples = 8\\nvalue = 14.9'),\n",
              " Text(0.6455969746083198, 0.5681818181818182, 'x[0] <= 18.405\\nsquared_error = 0.742\\nsamples = 7\\nvalue = 15.243'),\n",
              " Text(0.6369529983792545, 0.5227272727272727, 'x[1] <= 6.299\\nsquared_error = 0.506\\nsamples = 5\\nvalue = 14.92'),\n",
              " Text(0.6326310102647218, 0.4772727272727273, 'squared_error = 0.0\\nsamples = 1\\nvalue = 16.1'),\n",
              " Text(0.6412749864937871, 0.4772727272727273, 'x[1] <= 6.59\\nsquared_error = 0.197\\nsamples = 4\\nvalue = 14.625'),\n",
              " Text(0.6369529983792545, 0.4318181818181818, 'x[1] <= 6.368\\nsquared_error = 0.116\\nsamples = 3\\nvalue = 14.433'),\n",
              " Text(0.6326310102647218, 0.38636363636363635, 'squared_error = 0.0\\nsamples = 1\\nvalue = 14.9'),\n",
              " Text(0.6412749864937871, 0.38636363636363635, 'x[1] <= 6.48\\nsquared_error = 0.01\\nsamples = 2\\nvalue = 14.2'),\n",
              " Text(0.6369529983792545, 0.3409090909090909, 'squared_error = 0.0\\nsamples = 1\\nvalue = 14.3'),\n",
              " Text(0.6455969746083198, 0.3409090909090909, 'squared_error = 0.0\\nsamples = 1\\nvalue = 14.1'),\n",
              " Text(0.6455969746083198, 0.4318181818181818, 'squared_error = 0.0\\nsamples = 1\\nvalue = 15.2'),\n",
              " Text(0.6542409508373852, 0.5227272727272727, 'x[1] <= 6.485\\nsquared_error = 0.422\\nsamples = 2\\nvalue = 16.05'),\n",
              " Text(0.6499189627228525, 0.4772727272727273, 'squared_error = 0.0\\nsamples = 1\\nvalue = 16.7'),\n",
              " Text(0.6585629389519179, 0.4772727272727273, 'squared_error = -0.0\\nsamples = 1\\nvalue = 15.4'),\n",
              " Text(0.6542409508373852, 0.5681818181818182, 'squared_error = 0.0\\nsamples = 1\\nvalue = 12.5'),\n",
              " Text(0.6585629389519179, 0.6136363636363636, 'squared_error = 0.0\\nsamples = 1\\nvalue = 17.1'),\n",
              " Text(0.726904376012966, 0.8409090909090909, 'x[1] <= 5.124\\nsquared_error = 17.515\\nsamples = 40\\nvalue = 12.498'),\n",
              " Text(0.671528903295516, 0.7954545454545454, 'x[1] <= 4.862\\nsquared_error = 6.867\\nsamples = 8\\nvalue = 9.962'),\n",
              " Text(0.6628849270664505, 0.75, 'x[0] <= 29.28\\nsquared_error = 2.042\\nsamples = 3\\nvalue = 8.767'),\n",
              " Text(0.6585629389519179, 0.7045454545454546, 'squared_error = 0.0\\nsamples = 1\\nvalue = 10.5'),\n",
              " Text(0.6672069151809833, 0.7045454545454546, 'squared_error = 0.81\\nsamples = 2\\nvalue = 7.9'),\n",
              " Text(0.6801728795245813, 0.75, 'x[1] <= 4.953\\nsquared_error = 8.39\\nsamples = 5\\nvalue = 10.68'),\n",
              " Text(0.6758508914100486, 0.7045454545454546, 'squared_error = 0.0\\nsamples = 1\\nvalue = 13.8'),\n",
              " Text(0.684494867639114, 0.7045454545454546, 'x[1] <= 5.01\\nsquared_error = 7.445\\nsamples = 4\\nvalue = 9.9'),\n",
              " Text(0.6801728795245813, 0.6590909090909091, 'squared_error = 0.0\\nsamples = 1\\nvalue = 7.4'),\n",
              " Text(0.6888168557536467, 0.6590909090909091, 'x[1] <= 5.027\\nsquared_error = 7.149\\nsamples = 3\\nvalue = 10.733'),\n",
              " Text(0.684494867639114, 0.6136363636363636, 'squared_error = 0.0\\nsamples = 1\\nvalue = 14.4'),\n",
              " Text(0.6931388438681794, 0.6136363636363636, 'x[0] <= 27.68\\nsquared_error = 0.64\\nsamples = 2\\nvalue = 8.9'),\n",
              " Text(0.6888168557536467, 0.5681818181818182, 'squared_error = 0.0\\nsamples = 1\\nvalue = 9.7'),\n",
              " Text(0.697460831982712, 0.5681818181818182, 'squared_error = 0.0\\nsamples = 1\\nvalue = 8.1'),\n",
              " Text(0.782279848730416, 0.7954545454545454, 'x[0] <= 29.3\\nsquared_error = 18.168\\nsamples = 32\\nvalue = 13.131'),\n",
              " Text(0.7779578606158833, 0.75, 'x[1] <= 5.876\\nsquared_error = 15.035\\nsamples = 31\\nvalue = 12.79'),\n",
              " Text(0.7341977309562399, 0.7045454545454546, 'x[0] <= 23.79\\nsquared_error = 8.03\\nsamples = 16\\nvalue = 13.938'),\n",
              " Text(0.7147487844408428, 0.6590909090909091, 'x[0] <= 19.825\\nsquared_error = 5.225\\nsamples = 10\\nvalue = 12.75'),\n",
              " Text(0.7104267963263101, 0.6136363636363636, 'squared_error = 0.0\\nsamples = 1\\nvalue = 8.3'),\n",
              " Text(0.7190707725553754, 0.6136363636363636, 'x[0] <= 21.78\\nsquared_error = 3.36\\nsamples = 9\\nvalue = 13.244'),\n",
              " Text(0.7061048082117775, 0.5681818181818182, 'x[1] <= 5.273\\nsquared_error = 2.39\\nsamples = 6\\nvalue = 14.1'),\n",
              " Text(0.7017828200972447, 0.5227272727272727, 'squared_error = 0.0\\nsamples = 1\\nvalue = 16.3'),\n",
              " Text(0.7104267963263101, 0.5227272727272727, 'x[1] <= 5.48\\nsquared_error = 1.706\\nsamples = 5\\nvalue = 13.66'),\n",
              " Text(0.7061048082117775, 0.4772727272727273, 'squared_error = 0.0\\nsamples = 1\\nvalue = 11.5'),\n",
              " Text(0.7147487844408428, 0.4772727272727273, 'x[0] <= 21.385\\nsquared_error = 0.675\\nsamples = 4\\nvalue = 14.2'),\n",
              " Text(0.7104267963263101, 0.4318181818181818, 'x[0] <= 20.45\\nsquared_error = 0.26\\nsamples = 3\\nvalue = 13.8'),\n",
              " Text(0.7061048082117775, 0.38636363636363635, 'squared_error = 0.0\\nsamples = 1\\nvalue = 14.5'),\n",
              " Text(0.7147487844408428, 0.38636363636363635, 'x[1] <= 5.714\\nsquared_error = 0.022\\nsamples = 2\\nvalue = 13.45'),\n",
              " Text(0.7104267963263101, 0.3409090909090909, 'squared_error = 0.0\\nsamples = 1\\nvalue = 13.6'),\n",
              " Text(0.7190707725553754, 0.3409090909090909, 'squared_error = 0.0\\nsamples = 1\\nvalue = 13.3'),\n",
              " Text(0.7190707725553754, 0.4318181818181818, 'squared_error = 0.0\\nsamples = 1\\nvalue = 15.4'),\n",
              " Text(0.7320367368989735, 0.5681818181818182, 'x[1] <= 5.722\\nsquared_error = 0.909\\nsamples = 3\\nvalue = 11.533'),\n",
              " Text(0.7277147487844409, 0.5227272727272727, 'x[1] <= 5.581\\nsquared_error = 0.562\\nsamples = 2\\nvalue = 12.05'),\n",
              " Text(0.7233927606699082, 0.4772727272727273, 'squared_error = 0.0\\nsamples = 1\\nvalue = 11.3'),\n",
              " Text(0.7320367368989735, 0.4772727272727273, 'squared_error = 0.0\\nsamples = 1\\nvalue = 12.8'),\n",
              " Text(0.7363587250135062, 0.5227272727272727, 'squared_error = 0.0\\nsamples = 1\\nvalue = 10.5'),\n",
              " Text(0.7536466774716369, 0.6590909090909091, 'x[1] <= 5.403\\nsquared_error = 6.438\\nsamples = 6\\nvalue = 15.917'),\n",
              " Text(0.7450027012425716, 0.6136363636363636, 'x[1] <= 5.245\\nsquared_error = 6.107\\nsamples = 3\\nvalue = 14.4'),\n",
              " Text(0.7406807131280388, 0.5681818181818182, 'squared_error = 0.0\\nsamples = 1\\nvalue = 17.8'),\n",
              " Text(0.7493246893571043, 0.5681818181818182, 'x[0] <= 25.865\\nsquared_error = 0.49\\nsamples = 2\\nvalue = 12.7'),\n",
              " Text(0.7450027012425716, 0.5227272727272727, 'squared_error = 0.0\\nsamples = 1\\nvalue = 12.0'),\n",
              " Text(0.7536466774716369, 0.5227272727272727, 'squared_error = 0.0\\nsamples = 1\\nvalue = 13.4'),\n",
              " Text(0.7622906537007024, 0.6136363636363636, 'x[0] <= 24.695\\nsquared_error = 2.169\\nsamples = 3\\nvalue = 17.433'),\n",
              " Text(0.7579686655861696, 0.5681818181818182, 'squared_error = 0.0\\nsamples = 1\\nvalue = 19.3'),\n",
              " Text(0.766612641815235, 0.5681818181818182, 'x[1] <= 5.734\\nsquared_error = 0.64\\nsamples = 2\\nvalue = 16.5'),\n",
              " Text(0.7622906537007024, 0.5227272727272727, 'squared_error = 0.0\\nsamples = 1\\nvalue = 15.7'),\n",
              " Text(0.7709346299297677, 0.5227272727272727, 'squared_error = -0.0\\nsamples = 1\\nvalue = 17.3'),\n",
              " Text(0.8217179902755267, 0.7045454545454546, 'x[0] <= 24.185\\nsquared_error = 19.606\\nsamples = 15\\nvalue = 11.567'),\n",
              " Text(0.8033495407887629, 0.6590909090909091, 'x[1] <= 6.178\\nsquared_error = 17.808\\nsamples = 11\\nvalue = 13.064'),\n",
              " Text(0.7925445705024311, 0.6136363636363636, 'x[0] <= 20.97\\nsquared_error = 24.997\\nsamples = 4\\nvalue = 15.775'),\n",
              " Text(0.7839005942733658, 0.5681818181818182, 'x[1] <= 6.026\\nsquared_error = 5.522\\nsamples = 2\\nvalue = 11.15'),\n",
              " Text(0.779578606158833, 0.5227272727272727, 'squared_error = 0.0\\nsamples = 1\\nvalue = 8.8'),\n",
              " Text(0.7882225823878984, 0.5227272727272727, 'squared_error = 0.0\\nsamples = 1\\nvalue = 13.5'),\n",
              " Text(0.8011885467314965, 0.5681818181818182, 'x[1] <= 6.083\\nsquared_error = 1.69\\nsamples = 2\\nvalue = 20.4'),\n",
              " Text(0.7968665586169638, 0.5227272727272727, 'squared_error = 0.0\\nsamples = 1\\nvalue = 19.1'),\n",
              " Text(0.8055105348460292, 0.5227272727272727, 'squared_error = 0.0\\nsamples = 1\\nvalue = 21.7'),\n",
              " Text(0.8141545110750945, 0.6136363636363636, 'x[0] <= 20.385\\nsquared_error = 7.098\\nsamples = 7\\nvalue = 11.514'),\n",
              " Text(0.8098325229605619, 0.5681818181818182, 'squared_error = 0.0\\nsamples = 1\\nvalue = 7.2'),\n",
              " Text(0.8184764991896273, 0.5681818181818182, 'x[1] <= 6.809\\nsquared_error = 4.662\\nsamples = 6\\nvalue = 12.233'),\n",
              " Text(0.8141545110750945, 0.5227272727272727, 'x[0] <= 20.845\\nsquared_error = 2.068\\nsamples = 5\\nvalue = 13.0'),\n",
              " Text(0.8098325229605619, 0.4772727272727273, 'squared_error = 0.0\\nsamples = 1\\nvalue = 15.0'),\n",
              " Text(0.8184764991896273, 0.4772727272727273, 'x[1] <= 6.554\\nsquared_error = 1.335\\nsamples = 4\\nvalue = 12.5'),\n",
              " Text(0.8098325229605619, 0.4318181818181818, 'x[0] <= 22.75\\nsquared_error = 0.16\\nsamples = 2\\nvalue = 11.4'),\n",
              " Text(0.8055105348460292, 0.38636363636363635, 'squared_error = 0.0\\nsamples = 1\\nvalue = 11.0'),\n",
              " Text(0.8141545110750945, 0.38636363636363635, 'squared_error = 0.0\\nsamples = 1\\nvalue = 11.8'),\n",
              " Text(0.8271204754186926, 0.4318181818181818, 'x[0] <= 22.24\\nsquared_error = 0.09\\nsamples = 2\\nvalue = 13.6'),\n",
              " Text(0.8227984873041599, 0.38636363636363635, 'squared_error = 0.0\\nsamples = 1\\nvalue = 13.3'),\n",
              " Text(0.8314424635332253, 0.38636363636363635, 'squared_error = -0.0\\nsamples = 1\\nvalue = 13.9'),\n",
              " Text(0.8227984873041599, 0.5227272727272727, 'squared_error = -0.0\\nsamples = 1\\nvalue = 8.4'),\n",
              " Text(0.8400864397622907, 0.6590909090909091, 'x[0] <= 26.61\\nsquared_error = 1.443\\nsamples = 4\\nvalue = 7.45'),\n",
              " Text(0.8314424635332253, 0.6136363636363636, 'x[1] <= 6.024\\nsquared_error = 0.04\\nsamples = 2\\nvalue = 8.5'),\n",
              " Text(0.8271204754186926, 0.5681818181818182, 'squared_error = 0.0\\nsamples = 1\\nvalue = 8.3'),\n",
              " Text(0.8357644516477579, 0.5681818181818182, 'squared_error = -0.0\\nsamples = 1\\nvalue = 8.7'),\n",
              " Text(0.848730415991356, 0.6136363636363636, 'x[0] <= 27.91\\nsquared_error = 0.64\\nsamples = 2\\nvalue = 6.4'),\n",
              " Text(0.8444084278768234, 0.5681818181818182, 'squared_error = 0.0\\nsamples = 1\\nvalue = 5.6'),\n",
              " Text(0.8530524041058887, 0.5681818181818182, 'squared_error = -0.0\\nsamples = 1\\nvalue = 7.2'),\n",
              " Text(0.7866018368449487, 0.75, 'squared_error = -0.0\\nsamples = 1\\nvalue = 23.7'),\n",
              " Text(0.9416531604538088, 0.9318181818181818, 'x[1] <= 7.445\\nsquared_error = 62.031\\nsamples = 35\\nvalue = 38.897'),\n",
              " Text(0.9070772555375473, 0.8863636363636364, 'x[0] <= 15.765\\nsquared_error = 35.496\\nsamples = 20\\nvalue = 33.885'),\n",
              " Text(0.9027552674230146, 0.8409090909090909, 'x[0] <= 5.41\\nsquared_error = 23.031\\nsamples = 19\\nvalue = 34.732'),\n",
              " Text(0.8789843327930849, 0.7954545454545454, 'x[0] <= 3.705\\nsquared_error = 18.657\\nsamples = 12\\nvalue = 36.65'),\n",
              " Text(0.8703403565640194, 0.75, 'x[0] <= 2.95\\nsquared_error = 43.877\\nsamples = 4\\nvalue = 38.675'),\n",
              " Text(0.8660183684494868, 0.7045454545454546, 'x[0] <= 2.905\\nsquared_error = 1.5\\nsamples = 3\\nvalue = 34.9'),\n",
              " Text(0.8616963803349541, 0.6590909090909091, 'x[0] <= 2.425\\nsquared_error = 0.563\\nsamples = 2\\nvalue = 35.65'),\n",
              " Text(0.8573743922204214, 0.6136363636363636, 'squared_error = 0.0\\nsamples = 1\\nvalue = 34.9'),\n",
              " Text(0.8660183684494868, 0.6136363636363636, 'squared_error = 0.0\\nsamples = 1\\nvalue = 36.4'),\n",
              " Text(0.8703403565640194, 0.6590909090909091, 'squared_error = -0.0\\nsamples = 1\\nvalue = 33.4'),\n",
              " Text(0.8746623446785521, 0.7045454545454546, 'squared_error = 0.0\\nsamples = 1\\nvalue = 50.0'),\n",
              " Text(0.8876283090221502, 0.75, 'x[0] <= 4.52\\nsquared_error = 2.972\\nsamples = 8\\nvalue = 35.637'),\n",
              " Text(0.8833063209076175, 0.7045454545454546, 'squared_error = 0.0\\nsamples = 1\\nvalue = 32.9'),\n",
              " Text(0.8919502971366828, 0.7045454545454546, 'x[0] <= 4.95\\nsquared_error = 2.173\\nsamples = 7\\nvalue = 36.029'),\n",
              " Text(0.8833063209076175, 0.6590909090909091, 'x[0] <= 4.84\\nsquared_error = 2.882\\nsamples = 4\\nvalue = 35.45'),\n",
              " Text(0.8789843327930849, 0.6136363636363636, 'x[0] <= 4.815\\nsquared_error = 1.389\\nsamples = 3\\nvalue = 36.233'),\n",
              " Text(0.8746623446785521, 0.5681818181818182, 'x[1] <= 7.109\\nsquared_error = 0.0\\nsamples = 2\\nvalue = 35.4'),\n",
              " Text(0.8703403565640194, 0.5227272727272727, 'squared_error = 0.0\\nsamples = 1\\nvalue = 35.4'),\n",
              " Text(0.8789843327930849, 0.5227272727272727, 'squared_error = 0.0\\nsamples = 1\\nvalue = 35.4'),\n",
              " Text(0.8833063209076175, 0.5681818181818182, 'squared_error = -0.0\\nsamples = 1\\nvalue = 37.9'),\n",
              " Text(0.8876283090221502, 0.6136363636363636, 'squared_error = 0.0\\nsamples = 1\\nvalue = 33.1'),\n",
              " Text(0.9005942733657483, 0.6590909090909091, 'x[1] <= 7.063\\nsquared_error = 0.187\\nsamples = 3\\nvalue = 36.8'),\n",
              " Text(0.8962722852512156, 0.6136363636363636, 'x[0] <= 5.07\\nsquared_error = 0.01\\nsamples = 2\\nvalue = 37.1'),\n",
              " Text(0.8919502971366828, 0.5681818181818182, 'squared_error = 0.0\\nsamples = 1\\nvalue = 37.2'),\n",
              " Text(0.9005942733657483, 0.5681818181818182, 'squared_error = 0.0\\nsamples = 1\\nvalue = 37.0'),\n",
              " Text(0.9049162614802809, 0.6136363636363636, 'squared_error = 0.0\\nsamples = 1\\nvalue = 36.2'),\n",
              " Text(0.9265262020529443, 0.7954545454545454, 'x[1] <= 7.01\\nsquared_error = 13.402\\nsamples = 7\\nvalue = 31.443'),\n",
              " Text(0.9222042139384117, 0.75, 'squared_error = 0.0\\nsamples = 1\\nvalue = 23.6'),\n",
              " Text(0.930848190167477, 0.75, 'x[0] <= 9.675\\nsquared_error = 3.676\\nsamples = 6\\nvalue = 32.75'),\n",
              " Text(0.9222042139384117, 0.7045454545454546, 'x[0] <= 7.975\\nsquared_error = 2.795\\nsamples = 4\\nvalue = 33.7'),\n",
              " Text(0.917882225823879, 0.6590909090909091, 'x[1] <= 7.331\\nsquared_error = 0.242\\nsamples = 3\\nvalue = 32.767'),\n",
              " Text(0.9135602377093462, 0.6136363636363636, 'x[1] <= 7.164\\nsquared_error = 0.062\\nsamples = 2\\nvalue = 32.45'),\n",
              " Text(0.9092382495948136, 0.5681818181818182, 'squared_error = 0.0\\nsamples = 1\\nvalue = 32.2'),\n",
              " Text(0.917882225823879, 0.5681818181818182, 'squared_error = -0.0\\nsamples = 1\\nvalue = 32.7'),\n",
              " Text(0.9222042139384117, 0.6136363636363636, 'squared_error = 0.0\\nsamples = 1\\nvalue = 33.4'),\n",
              " Text(0.9265262020529443, 0.6590909090909091, 'squared_error = 0.0\\nsamples = 1\\nvalue = 36.5'),\n",
              " Text(0.9394921663965424, 0.7045454545454546, 'x[0] <= 13.02\\nsquared_error = 0.022\\nsamples = 2\\nvalue = 30.85'),\n",
              " Text(0.9351701782820098, 0.6590909090909091, 'squared_error = 0.0\\nsamples = 1\\nvalue = 31.0'),\n",
              " Text(0.9438141545110751, 0.6590909090909091, 'squared_error = -0.0\\nsamples = 1\\nvalue = 30.7'),\n",
              " Text(0.9113992436520799, 0.8409090909090909, 'squared_error = 0.0\\nsamples = 1\\nvalue = 17.8'),\n",
              " Text(0.9762290653700703, 0.8863636363636364, 'x[0] <= 5.515\\nsquared_error = 19.254\\nsamples = 15\\nvalue = 45.58'),\n",
              " Text(0.9654240950837385, 0.8409090909090909, 'x[1] <= 7.479\\nsquared_error = 9.379\\nsamples = 12\\nvalue = 47.133'),\n",
              " Text(0.9611021069692058, 0.7954545454545454, 'squared_error = 0.0\\nsamples = 1\\nvalue = 43.5'),\n",
              " Text(0.9697460831982712, 0.7954545454545454, 'x[0] <= 3.085\\nsquared_error = 8.922\\nsamples = 11\\nvalue = 47.464'),\n",
              " Text(0.9611021069692058, 0.75, 'x[1] <= 7.653\\nsquared_error = 11.487\\nsamples = 3\\nvalue = 45.9'),\n",
              " Text(0.9567801188546732, 0.7045454545454546, 'x[1] <= 7.567\\nsquared_error = 4.0\\nsamples = 2\\nvalue = 48.0'),\n",
              " Text(0.9524581307401405, 0.6590909090909091, 'squared_error = 0.0\\nsamples = 1\\nvalue = 50.0'),\n",
              " Text(0.9611021069692058, 0.6590909090909091, 'squared_error = 0.0\\nsamples = 1\\nvalue = 46.0'),\n",
              " Text(0.9654240950837385, 0.7045454545454546, 'squared_error = 0.0\\nsamples = 1\\nvalue = 41.7'),\n",
              " Text(0.9783900594273366, 0.75, 'x[0] <= 3.43\\nsquared_error = 6.7\\nsamples = 8\\nvalue = 48.05'),\n",
              " Text(0.9740680713128039, 0.7045454545454546, 'squared_error = 0.0\\nsamples = 2\\nvalue = 50.0'),\n",
              " Text(0.9827120475418692, 0.7045454545454546, 'x[0] <= 3.62\\nsquared_error = 7.243\\nsamples = 6\\nvalue = 47.4'),\n",
              " Text(0.9783900594273366, 0.6590909090909091, 'squared_error = 0.0\\nsamples = 1\\nvalue = 42.8'),\n",
              " Text(0.9870340356564019, 0.6590909090909091, 'x[0] <= 3.755\\nsquared_error = 3.614\\nsamples = 5\\nvalue = 48.32'),\n",
              " Text(0.9827120475418692, 0.6136363636363636, 'squared_error = 0.0\\nsamples = 1\\nvalue = 50.0'),\n",
              " Text(0.9913560237709347, 0.6136363636363636, 'x[0] <= 4.295\\nsquared_error = 3.635\\nsamples = 4\\nvalue = 47.9'),\n",
              " Text(0.9870340356564019, 0.5681818181818182, 'x[0] <= 4.045\\nsquared_error = 2.887\\nsamples = 3\\nvalue = 47.2'),\n",
              " Text(0.9827120475418692, 0.5227272727272727, 'x[0] <= 3.88\\nsquared_error = 0.01\\nsamples = 2\\nvalue = 48.4'),\n",
              " Text(0.9783900594273366, 0.4772727272727273, 'squared_error = 0.0\\nsamples = 1\\nvalue = 48.5'),\n",
              " Text(0.9870340356564019, 0.4772727272727273, 'squared_error = -0.0\\nsamples = 1\\nvalue = 48.3'),\n",
              " Text(0.9913560237709347, 0.5227272727272727, 'squared_error = 0.0\\nsamples = 1\\nvalue = 44.8'),\n",
              " Text(0.9956780118854673, 0.5681818181818182, 'squared_error = 0.0\\nsamples = 1\\nvalue = 50.0'),\n",
              " Text(0.9870340356564019, 0.8409090909090909, 'x[0] <= 6.92\\nsquared_error = 10.496\\nsamples = 3\\nvalue = 39.367'),\n",
              " Text(0.9827120475418692, 0.7954545454545454, 'squared_error = 0.0\\nsamples = 1\\nvalue = 35.2'),\n",
              " Text(0.9913560237709347, 0.7954545454545454, 'x[0] <= 7.41\\nsquared_error = 2.723\\nsamples = 2\\nvalue = 41.45'),\n",
              " Text(0.9870340356564019, 0.75, 'squared_error = 0.0\\nsamples = 1\\nvalue = 43.1'),\n",
              " Text(0.9956780118854673, 0.75, 'squared_error = -0.0\\nsamples = 1\\nvalue = 39.8')]"
            ]
          },
          "metadata": {},
          "execution_count": 257
        },
        {
          "output_type": "display_data",
          "data": {
            "text/plain": [
              "<Figure size 640x480 with 1 Axes>"
            ],
            "image/png": "[encoded data removed]"
          },
          "metadata": {}
        }
      ]
    }
  ]
}