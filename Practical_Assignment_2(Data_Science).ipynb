{
  "nbformat": 4,
  "nbformat_minor": 0,
  "metadata": {
    "colab": {
      "provenance": []
    },
    "kernelspec": {
      "name": "python3",
      "display_name": "Python 3"
    },
    "language_info": {
      "name": "python"
    }
  },
  "cells": [
    {
      "cell_type": "markdown",
      "source": [
        "#**Practical Assignment 2**#\n",
        "**Student Information**"
      ],
      "metadata": {
        "id": "X1mOhQpeRSAr"
      }
    },
    {
      "cell_type": "code",
      "execution_count": null,
      "metadata": {
        "id": "cwuOs10HW0tZ"
      },
      "outputs": [],
      "source": [
        "import pandas as pd\n",
        "import requests\n",
        "from sklearn.preprocessing import LabelEncoder\n",
        "import numpy as np\n",
        "import matplotlib.pyplot as plt"
      ]
    },
    {
      "cell_type": "markdown",
      "source": [
        "##**Transformation**##"
      ],
      "metadata": {
        "id": "Xx-dLYiWQfur"
      }
    },
    {
      "cell_type": "code",
      "source": [
        "response = requests.get(\"https://actual-dataset-api.onrender.com/getCollections\")\n",
        "\n",
        "if response.status_code == 200:\n",
        "    data = response.json() \n",
        "    print(data)\n",
        "    print(data['collectionsList'])\n",
        "else:\n",
        "    print(\"Request failed with status code:\", response.status_code)"
      ],
      "metadata": {
        "colab": {
          "base_uri": "https://localhost:8080/"
        },
        "id": "hlUp136piEy5",
        "outputId": "7caff8c8-dd95-48a2-9cf1-29311c82c0ad"
      },
      "execution_count": null,
      "outputs": [
        {
          "output_type": "stream",
          "name": "stdout",
          "text": [
            "{'collectionFetched': True, 'collectionsList': ['crop_production', 'Contact Information (Responses) - Form responses 1', 'javascipt', 'STUDENT DATASET - Form Responses 1(2)', 'Student_Information_Dummy_Data', 'news', 'Copy of amazon', 'Job_Placement_Data', 'Student_Mental_health', 'Hotel Reservations', 'movie_reviews']}\n",
            "['crop_production', 'Contact Information (Responses) - Form responses 1', 'javascipt', 'STUDENT DATASET - Form Responses 1(2)', 'Student_Information_Dummy_Data', 'news', 'Copy of amazon', 'Job_Placement_Data', 'Student_Mental_health', 'Hotel Reservations', 'movie_reviews']\n"
          ]
        }
      ]
    },
    {
      "cell_type": "code",
      "source": [
        "response = requests.get(\"https://actual-dataset-api.onrender.com/getColumns/Student_Information_Dummy_Data\")\n",
        "\n",
        "if response.status_code == 200:\n",
        "    data = response.json() \n",
        "    print(data)\n",
        "else:\n",
        "    print(\"Request failed with status code:\", response.status_code)"
      ],
      "metadata": {
        "colab": {
          "base_uri": "https://localhost:8080/"
        },
        "id": "nOjKM0bviMYe",
        "outputId": "7e3a452e-107d-45a1-d8b6-22c69c070003"
      },
      "execution_count": null,
      "outputs": [
        {
          "output_type": "stream",
          "name": "stdout",
          "text": [
            "{'columnsFetched': True, 'columnsList': ['gender', 'NationalITy', 'PlaceofBirth', 'StageID', 'GradeID', 'SectionID', 'Topic', 'Semester', 'Relation', 'raisedhands', 'VisITedResources', 'AnnouncementsView', 'Discussion', 'ParentAnsweringSurvey', 'ParentschoolSatisfaction', 'StudentAbsenceDays', 'Class']}\n"
          ]
        }
      ]
    },
    {
      "cell_type": "code",
      "source": [
        "dataDF = {}\n",
        "gender = []\n",
        "Topic = []\n",
        "Semester = []\n",
        "Relation = []\n",
        "raisedhands = []\n",
        "VisITedResources = []\n",
        "AnnouncementsView = []\n",
        "Discussion = []\n",
        "ParentAnsweringSurvey = []\n",
        "ParentschoolSatisfaction = []\n",
        "StudentAbsenceDays = []\n",
        "Class = []\n",
        "\n",
        "response1 = requests.get(\"https://actual-dataset-api.onrender.com/getColumnData/Student_Information_Dummy_Data?columnName=gender\")\n",
        "response2 = requests.get(\"https://actual-dataset-api.onrender.com/getColumnData/Student_Information_Dummy_Data?columnName=Topic\")\n",
        "response3 = requests.get(\"https://actual-dataset-api.onrender.com/getColumnData/Student_Information_Dummy_Data?columnName=Semester\")\n",
        "response4 = requests.get(\"https://actual-dataset-api.onrender.com/getColumnData/Student_Information_Dummy_Data?columnName=Relation\")\n",
        "response5 = requests.get(\"https://actual-dataset-api.onrender.com/getColumnData/Student_Information_Dummy_Data?columnName=raisedhands\")\n",
        "response6 = requests.get(\"https://actual-dataset-api.onrender.com/getColumnData/Student_Information_Dummy_Data?columnName=VisITedResources\")\n",
        "response7 = requests.get(\"https://actual-dataset-api.onrender.com/getColumnData/Student_Information_Dummy_Data?columnName=AnnouncementsView\")\n",
        "response8 = requests.get(\"https://actual-dataset-api.onrender.com/getColumnData/Student_Information_Dummy_Data?columnName=Discussion\")\n",
        "response9 = requests.get(\"https://actual-dataset-api.onrender.com/getColumnData/Student_Information_Dummy_Data?columnName=ParentAnsweringSurvey\")\n",
        "response10 = requests.get(\"https://actual-dataset-api.onrender.com/getColumnData/Student_Information_Dummy_Data?columnName=ParentschoolSatisfaction\")\n",
        "response11 = requests.get(\"https://actual-dataset-api.onrender.com/getColumnData/Student_Information_Dummy_Data?columnName=StudentAbsenceDays\")\n",
        "response12 = requests.get(\"https://actual-dataset-api.onrender.com/getColumnData/Student_Information_Dummy_Data?columnName=Class\")\n",
        "\n",
        "\n",
        "if response1.status_code == 200 and response2.status_code == 200:\n",
        "    data1 = response1.json() \n",
        "    data2 = response2.json()\n",
        "    data3 = response3.json()\n",
        "    data4 = response4.json()\n",
        "    data5 = response5.json()\n",
        "    data6 = response6.json()\n",
        "    data7 = response7.json()\n",
        "    data8 = response8.json()\n",
        "    data9 = response9.json()\n",
        "    data10 = response10.json()\n",
        "    data11 = response11.json()\n",
        "    data12 = response12.json()\n",
        "    dataDF['gender'] = data1['columnDataList']\n",
        "    dataDF['Topic'] = data2['columnDataList']\n",
        "    dataDF['Semester'] = data3['columnDataList']\n",
        "    dataDF['Relation'] = data4['columnDataList']\n",
        "    dataDF['raisedhands'] = data5['columnDataList']\n",
        "    dataDF['VisITedResources'] = data6['columnDataList']\n",
        "    dataDF['AnnouncementsView'] = data7['columnDataList']\n",
        "    dataDF['Discussion'] = data8['columnDataList']\n",
        "    dataDF['ParentAnsweringSurvey'] = data9['columnDataList']\n",
        "    dataDF['ParentschoolSatisfaction'] = data10['columnDataList']\n",
        "    dataDF['StudentAbsenceDays'] = data11['columnDataList']\n",
        "    dataDF['Class'] = data12['columnDataList']\n",
        "\n",
        "else:\n",
        "    print(\"Request failed with status code:\", response.status_code)\n",
        "\n",
        "\n",
        "print(dataDF)"
      ],
      "metadata": {
        "colab": {
          "base_uri": "https://localhost:8080/"
        },
        "id": "BJkaEYuHiTof",
        "outputId": "80f5fc9c-e0d6-4c5b-f052-c80108035f01"
      },
      "execution_count": null,
      "outputs": [
        {
          "output_type": "stream",
          "name": "stdout",
          "text": [
            "{'gender': ['M', 'M', 'M', 'M', 'M', 'F', 'M', 'M', 'F', 'F', 'M', 'M', 'M', 'M', 'F', 'F', 'M', 'M', 'F', 'M', 'F', 'F', 'M', 'M', 'M', 'M', 'M', 'M', 'M', 'F', 'F', 'M', 'F', 'M', 'M', 'M', 'M', 'F', 'M', 'F', 'F', 'M', 'M', 'F', 'F', 'M', 'M', 'F', 'F', 'F', 'F', 'M', 'F', 'F', 'M', 'M', 'M', 'M', 'M', 'F', 'F', 'M', 'M', 'M', 'M', 'M', 'F', 'F', 'F', 'M', 'M', 'M', 'M', 'F', 'M', 'M', 'M', 'M', 'M', 'F', 'M', 'M', 'M', 'M', 'M', 'M', 'M', 'M', 'F', 'M', 'M', 'M', 'F', 'M', 'F', 'F', 'F', 'F', 'F', 'M', 'M', 'F', 'F', 'M', 'M', 'F', 'F', 'M', 'M', 'M', 'F', 'M', 'M', 'M', 'M', 'M', 'F', 'F', 'F', 'M', 'M', 'M', 'F', 'F', 'M', 'M', 'F', 'M', 'M', 'M', 'F', 'M', 'M', 'M', 'M', 'F', 'F', 'F', 'F', 'M', 'M', 'M', 'M', 'M', 'M', 'M', 'F', 'F', 'F', 'F', 'M', 'M', 'F', 'M', 'M', 'M', 'F', 'M', 'M', 'F', 'F', 'M', 'F', 'F', 'M', 'F', 'M', 'M', 'M', 'M', 'M', 'M', 'M', 'M', 'F', 'M', 'M', 'F', 'F', 'M', 'F', 'M', 'M', 'F', 'M', 'M', 'M', 'F', 'M', 'F', 'M', 'M', 'M', 'M', 'M', 'M', 'M', 'M', 'M', 'M', 'M', 'F', 'M', 'F', 'M', 'F', 'M', 'M', 'M', 'M', 'M', 'M', 'M', 'M', 'M', 'M', 'M', 'F', 'M', 'M', 'M', 'M', 'M', 'M', 'M', 'M', 'M', 'M', 'M', 'M', 'M', 'M', 'M', 'F', 'M', 'M', 'M', 'M', 'F', 'M', 'M', 'M', 'M', 'M', 'M', 'F', 'F', 'F', 'F', 'M', 'M', 'M', 'F', 'M', 'M', 'M', 'F', 'F', 'F', 'M', 'M', 'M', 'F', 'M', 'F', 'F', 'M', 'M', 'M', 'M', 'F', 'F', 'M', 'M', 'F', 'F', 'M', 'M', 'M', 'M', 'M', 'M', 'F', 'F', 'M', 'M', 'F', 'F', 'M', 'M', 'F', 'F', 'F', 'F', 'M', 'M', 'F', 'F', 'M', 'M', 'M', 'M', 'F', 'F', 'F', 'F', 'M', 'M', 'M', 'M', 'M', 'M', 'F', 'F', 'F', 'F', 'M', 'M', 'F', 'F', 'F', 'F', 'M', 'M', 'M', 'M', 'M', 'M', 'F', 'F', 'M', 'M', 'F', 'F', 'M', 'M', 'F', 'F', 'F', 'F', 'F', 'F', 'M', 'M', 'F', 'F', 'F', 'F', 'M', 'M', 'M', 'M', 'F', 'F', 'M', 'M', 'M', 'M', 'F', 'F', 'M', 'M', 'M', 'M', 'M', 'M', 'M', 'M', 'F', 'F', 'M', 'M', 'F', 'F', 'M', 'M', 'M', 'M', 'M', 'M', 'F', 'F', 'M', 'M', 'F', 'F', 'M', 'M', 'M', 'M', 'F', 'F', 'F', 'F', 'M', 'M', 'M', 'M', 'M', 'M', 'M', 'M', 'M', 'M', 'F', 'F', 'M', 'M', 'M', 'M', 'F', 'F', 'M', 'M', 'F', 'F', 'M', 'M', 'M', 'M', 'F', 'F', 'F', 'F', 'F', 'F', 'M', 'M', 'M', 'M', 'M', 'M', 'M', 'M', 'M', 'M', 'M', 'M', 'M', 'M', 'M', 'M', 'M', 'M', 'M', 'M', 'M', 'M', 'M', 'M', 'F', 'F', 'F', 'F', 'F', 'F', 'F', 'F', 'M', 'M', 'M', 'M', 'M', 'M', 'F', 'F', 'F', 'F', 'F', 'F', 'M', 'M', 'M', 'M', 'F', 'F', 'F', 'F', 'F', 'F'], 'Topic': ['IT', 'IT', 'IT', 'IT', 'IT', 'IT', 'Math', 'Math', 'Math', 'IT', 'Math', 'Math', 'IT', 'Math', 'Math', 'IT', 'IT', 'Math', 'IT', 'IT', 'IT', 'IT', 'IT', 'IT', 'IT', 'IT', 'IT', 'Arabic', 'Science', 'Arabic', 'Arabic', 'IT', 'IT', 'English', 'Science', 'English', 'Science', 'IT', 'IT', 'Science', 'IT', 'IT', 'IT', 'IT', 'IT', 'Quran', 'English', 'English', 'English', 'English', 'English', 'English', 'English', 'Science', 'English', 'Math', 'Math', 'Math', 'Math', 'Math', 'English', 'IT', 'IT', 'IT', 'IT', 'English', 'English', 'English', 'IT', 'IT', 'IT', 'IT', 'Math', 'English', 'IT', 'Quran', 'IT', 'IT', 'Quran', 'Math', 'Math', 'IT', 'IT', 'IT', 'IT', 'IT', 'IT', 'IT', 'IT', 'IT', 'IT', 'IT', 'IT', 'IT', 'IT', 'IT', 'IT', 'IT', 'IT', 'IT', 'IT', 'IT', 'IT', 'IT', 'IT', 'IT', 'IT', 'IT', 'IT', 'IT', 'IT', 'IT', 'IT', 'IT', 'IT', 'IT', 'IT', 'IT', 'IT', 'IT', 'IT', 'IT', 'IT', 'IT', 'IT', 'IT', 'IT', 'IT', 'IT', 'IT', 'IT', 'IT', 'IT', 'IT', 'Quran', 'Quran', 'Quran', 'Quran', 'Quran', 'Quran', 'Quran', 'Quran', 'Quran', 'Quran', 'Quran', 'Quran', 'Quran', 'Quran', 'Quran', 'Quran', 'Quran', 'Science', 'Science', 'Spanish', 'English', 'Math', 'French', 'Science', 'Science', 'Science', 'Science', 'Science', 'French', 'French', 'French', 'French', 'French', 'French', 'French', 'French', 'French', 'French', 'French', 'French', 'French', 'French', 'French', 'French', 'French', 'French', 'French', 'French', 'Arabic', 'Arabic', 'Arabic', 'Arabic', 'Arabic', 'Arabic', 'Arabic', 'Arabic', 'Arabic', 'Arabic', 'Arabic', 'Arabic', 'Arabic', 'Arabic', 'Arabic', 'Arabic', 'Arabic', 'Arabic', 'Arabic', 'Arabic', 'Arabic', 'Arabic', 'Arabic', 'Arabic', 'Arabic', 'Spanish', 'Spanish', 'Spanish', 'Spanish', 'Spanish', 'Spanish', 'Spanish', 'Spanish', 'Spanish', 'Spanish', 'Spanish', 'Spanish', 'Spanish', 'Spanish', 'Spanish', 'Spanish', 'Spanish', 'Spanish', 'Spanish', 'Spanish', 'Spanish', 'Math', 'Spanish', 'Spanish', 'Spanish', 'Quran', 'Science', 'Science', 'Science', 'Science', 'Science', 'Science', 'Science', 'Science', 'Science', 'Science', 'Science', 'IT', 'IT', 'Science', 'Math', 'Quran', 'IT', 'Math', 'English', 'Science', 'Arabic', 'English', 'History', 'History', 'History', 'History', 'English', 'History', 'History', 'History', 'Math', 'English', 'English', 'English', 'English', 'English', 'English', 'English', 'English', 'English', 'English', 'English', 'English', 'English', 'English', 'English', 'English', 'English', 'English', 'English', 'English', 'English', 'English', 'English', 'English', 'English', 'English', 'Science', 'Science', 'Science', 'Science', 'Science', 'Science', 'Science', 'Science', 'Science', 'Science', 'Science', 'Science', 'Science', 'Science', 'Science', 'Science', 'Science', 'Science', 'Science', 'Science', 'Science', 'Science', 'Science', 'Science', 'Science', 'Science', 'French', 'French', 'French', 'French', 'French', 'French', 'French', 'French', 'French', 'French', 'French', 'French', 'French', 'French', 'French', 'French', 'French', 'French', 'French', 'French', 'French', 'French', 'French', 'French', 'French', 'French', 'French', 'French', 'French', 'French', 'French', 'French', 'French', 'French', 'French', 'French', 'French', 'French', 'French', 'French', 'French', 'French', 'French', 'French', 'Arabic', 'Arabic', 'Arabic', 'Arabic', 'Arabic', 'Arabic', 'Arabic', 'Arabic', 'Arabic', 'Arabic', 'Arabic', 'Arabic', 'Arabic', 'Arabic', 'Arabic', 'Arabic', 'Arabic', 'Arabic', 'Arabic', 'Arabic', 'Arabic', 'Arabic', 'Arabic', 'Arabic', 'Arabic', 'Arabic', 'Arabic', 'Arabic', 'Arabic', 'Arabic', 'Biology', 'Biology', 'Biology', 'Biology', 'Biology', 'Biology', 'Biology', 'Biology', 'Biology', 'Biology', 'Biology', 'Biology', 'Biology', 'Biology', 'Biology', 'Biology', 'Biology', 'Biology', 'Biology', 'Biology', 'Biology', 'Biology', 'Biology', 'Biology', 'Biology', 'Biology', 'Biology', 'Biology', 'Biology', 'Biology', 'Chemistry', 'Chemistry', 'Geology', 'Geology', 'Geology', 'Geology', 'Chemistry', 'Chemistry', 'Chemistry', 'Chemistry', 'Geology', 'Geology', 'Geology', 'Geology', 'Chemistry', 'Chemistry', 'Geology', 'Geology', 'Chemistry', 'Chemistry', 'Geology', 'Geology', 'History', 'History', 'Chemistry', 'Chemistry', 'Geology', 'Geology', 'History', 'History', 'Chemistry', 'Chemistry', 'Geology', 'Geology', 'History', 'History', 'Chemistry', 'Chemistry', 'Chemistry', 'Chemistry', 'Geology', 'Geology', 'History', 'History', 'Chemistry', 'Chemistry', 'Geology', 'Geology', 'Chemistry', 'Chemistry', 'History', 'History', 'Geology', 'Geology', 'Chemistry', 'Chemistry', 'Geology', 'Geology', 'History', 'History'], 'Semester': ['F', 'F', 'F', 'F', 'F', 'F', 'F', 'F', 'F', 'F', 'F', 'F', 'F', 'F', 'F', 'F', 'F', 'F', 'F', 'F', 'F', 'F', 'F', 'F', 'F', 'F', 'F', 'F', 'F', 'F', 'F', 'F', 'F', 'F', 'F', 'F', 'F', 'F', 'F', 'F', 'F', 'F', 'F', 'F', 'F', 'F', 'F', 'F', 'F', 'F', 'F', 'F', 'F', 'F', 'F', 'F', 'F', 'F', 'F', 'F', 'F', 'F', 'F', 'F', 'F', 'F', 'F', 'F', 'F', 'F', 'F', 'F', 'F', 'F', 'F', 'F', 'F', 'F', 'F', 'F', 'F', 'F', 'F', 'F', 'F', 'F', 'F', 'F', 'F', 'F', 'F', 'F', 'F', 'F', 'F', 'F', 'F', 'F', 'F', 'F', 'F', 'F', 'F', 'F', 'F', 'F', 'F', 'F', 'F', 'F', 'F', 'F', 'F', 'F', 'F', 'F', 'F', 'F', 'F', 'F', 'F', 'F', 'F', 'F', 'F', 'F', 'F', 'F', 'F', 'F', 'F', 'F', 'S', 'S', 'S', 'S', 'S', 'F', 'F', 'F', 'F', 'S', 'S', 'S', 'S', 'S', 'S', 'S', 'S', 'S', 'S', 'S', 'S', 'S', 'S', 'S', 'S', 'S', 'S', 'S', 'S', 'S', 'S', 'S', 'S', 'S', 'S', 'S', 'S', 'S', 'S', 'S', 'S', 'S', 'S', 'S', 'S', 'S', 'S', 'S', 'S', 'S', 'S', 'S', 'S', 'S', 'S', 'S', 'S', 'S', 'S', 'S', 'S', 'S', 'S', 'S', 'S', 'S', 'S', 'S', 'S', 'S', 'S', 'S', 'S', 'S', 'S', 'S', 'S', 'S', 'S', 'S', 'S', 'S', 'S', 'S', 'S', 'S', 'S', 'S', 'S', 'S', 'S', 'S', 'S', 'S', 'S', 'S', 'S', 'S', 'S', 'S', 'F', 'S', 'S', 'S', 'S', 'S', 'S', 'S', 'S', 'S', 'S', 'S', 'S', 'S', 'S', 'S', 'S', 'S', 'S', 'S', 'S', 'S', 'S', 'S', 'S', 'S', 'S', 'S', 'S', 'S', 'S', 'S', 'F', 'S', 'F', 'S', 'F', 'S', 'F', 'S', 'F', 'S', 'F', 'S', 'F', 'S', 'F', 'S', 'F', 'S', 'F', 'S', 'F', 'S', 'F', 'S', 'F', 'S', 'F', 'S', 'F', 'S', 'F', 'S', 'F', 'S', 'F', 'S', 'F', 'S', 'F', 'S', 'F', 'S', 'F', 'S', 'F', 'S', 'F', 'S', 'F', 'S', 'F', 'S', 'F', 'S', 'F', 'S', 'F', 'S', 'F', 'S', 'F', 'S', 'F', 'S', 'F', 'S', 'F', 'S', 'F', 'S', 'F', 'S', 'F', 'S', 'F', 'S', 'F', 'S', 'F', 'S', 'F', 'F', 'S', 'S', 'F', 'S', 'F', 'S', 'F', 'S', 'F', 'S', 'F', 'S', 'F', 'S', 'F', 'S', 'F', 'S', 'F', 'S', 'F', 'S', 'F', 'S', 'F', 'S', 'F', 'S', 'F', 'S', 'F', 'S', 'F', 'S', 'F', 'S', 'F', 'S', 'F', 'S', 'F', 'S', 'F', 'S', 'F', 'S', 'F', 'S', 'F', 'S', 'F', 'S', 'F', 'S', 'F', 'S', 'F', 'S', 'F', 'S', 'F', 'S', 'F', 'S', 'F', 'S', 'F', 'S', 'F', 'S', 'F', 'S', 'F', 'S', 'F', 'S', 'F', 'S', 'F', 'S', 'F', 'S', 'F', 'S', 'F', 'S', 'F', 'S', 'F', 'S', 'F', 'S', 'F', 'S', 'F', 'S', 'F', 'S', 'F', 'S', 'F', 'S', 'F', 'S', 'F', 'S', 'F', 'S', 'F', 'S', 'F', 'S', 'F', 'S', 'F', 'S', 'F', 'S', 'F', 'S', 'F', 'S', 'F', 'S', 'F', 'S', 'F', 'S', 'F', 'S', 'F', 'S', 'F', 'S'], 'Relation': ['Father', 'Father', 'Father', 'Father', 'Father', 'Father', 'Father', 'Father', 'Father', 'Father', 'Father', 'Father', 'Father', 'Father', 'Mum', 'Father', 'Father', 'Father', 'Mum', 'Mum', 'Father', 'Father', 'Father', 'Father', 'Father', 'Father', 'Father', 'Father', 'Father', 'Father', 'Father', 'Father', 'Father', 'Father', 'Father', 'Father', 'Mum', 'Father', 'Father', 'Father', 'Father', 'Father', 'Father', 'Father', 'Father', 'Father', 'Father', 'Mum', 'Mum', 'Father', 'Father', 'Father', 'Father', 'Mum', 'Mum', 'Father', 'Father', 'Father', 'Father', 'Father', 'Mum', 'Father', 'Mum', 'Father', 'Father', 'Father', 'Father', 'Mum', 'Mum', 'Father', 'Father', 'Father', 'Father', 'Father', 'Father', 'Mum', 'Mum', 'Father', 'Father', 'Mum', 'Father', 'Father', 'Father', 'Father', 'Father', 'Father', 'Father', 'Father', 'Father', 'Father', 'Father', 'Father', 'Father', 'Father', 'Father', 'Father', 'Father', 'Father', 'Father', 'Father', 'Father', 'Mum', 'Father', 'Father', 'Father', 'Father', 'Father', 'Father', 'Father', 'Father', 'Mum', 'Father', 'Father', 'Father', 'Father', 'Father', 'Mum', 'Mum', 'Mum', 'Father', 'Mum', 'Mum', 'Father', 'Father', 'Father', 'Father', 'Father', 'Father', 'Father', 'Father', 'Father', 'Father', 'Father', 'Father', 'Father', 'Mum', 'Mum', 'Mum', 'Mum', 'Mum', 'Father', 'Father', 'Father', 'Father', 'Father', 'Father', 'Mum', 'Father', 'Father', 'Mum', 'Father', 'Father', 'Father', 'Father', 'Father', 'Father', 'Father', 'Father', 'Father', 'Father', 'Mum', 'Mum', 'Mum', 'Mum', 'Mum', 'Mum', 'Mum', 'Mum', 'Mum', 'Mum', 'Father', 'Mum', 'Mum', 'Mum', 'Father', 'Father', 'Mum', 'Mum', 'Mum', 'Mum', 'Father', 'Father', 'Mum', 'Father', 'Mum', 'Mum', 'Mum', 'Father', 'Mum', 'Father', 'Father', 'Father', 'Mum', 'Mum', 'Mum', 'Father', 'Mum', 'Mum', 'Father', 'Father', 'Mum', 'Mum', 'Father', 'Father', 'Father', 'Mum', 'Father', 'Father', 'Mum', 'Father', 'Mum', 'Father', 'Mum', 'Father', 'Father', 'Father', 'Mum', 'Father', 'Mum', 'Mum', 'Father', 'Father', 'Father', 'Mum', 'Mum', 'Mum', 'Father', 'Father', 'Mum', 'Father', 'Mum', 'Father', 'Father', 'Mum', 'Mum', 'Father', 'Father', 'Father', 'Mum', 'Mum', 'Mum', 'Father', 'Father', 'Father', 'Mum', 'Father', 'Father', 'Father', 'Father', 'Father', 'Father', 'Mum', 'Father', 'Father', 'Father', 'Father', 'Mum', 'Father', 'Father', 'Mum', 'Father', 'Father', 'Mum', 'Mum', 'Mum', 'Mum', 'Father', 'Father', 'Father', 'Father', 'Mum', 'Mum', 'Father', 'Father', 'Mum', 'Mum', 'Mum', 'Mum', 'Mum', 'Mum', 'Mum', 'Mum', 'Mum', 'Mum', 'Father', 'Father', 'Mum', 'Mum', 'Mum', 'Mum', 'Father', 'Father', 'Mum', 'Mum', 'Father', 'Father', 'Mum', 'Mum', 'Father', 'Father', 'Father', 'Father', 'Mum', 'Mum', 'Father', 'Father', 'Mum', 'Mum', 'Mum', 'Mum', 'Father', 'Father', 'Mum', 'Mum', 'Mum', 'Mum', 'Mum', 'Mum', 'Mum', 'Mum', 'Mum', 'Mum', 'Father', 'Father', 'Father', 'Father', 'Father', 'Father', 'Mum', 'Mum', 'Father', 'Father', 'Mum', 'Mum', 'Mum', 'Mum', 'Mum', 'Mum', 'Father', 'Father', 'Father', 'Father', 'Mum', 'Mum', 'Mum', 'Mum', 'Mum', 'Mum', 'Mum', 'Mum', 'Mum', 'Mum', 'Mum', 'Mum', 'Mum', 'Mum', 'Father', 'Father', 'Mum', 'Mum', 'Father', 'Father', 'Father', 'Father', 'Father', 'Father', 'Father', 'Father', 'Mum', 'Mum', 'Father', 'Father', 'Father', 'Father', 'Father', 'Father', 'Mum', 'Mum', 'Father', 'Father', 'Father', 'Father', 'Mum', 'Mum', 'Mum', 'Mum', 'Mum', 'Mum', 'Mum', 'Mum', 'Mum', 'Mum', 'Mum', 'Mum', 'Mum', 'Mum', 'Father', 'Father', 'Father', 'Father', 'Father', 'Father', 'Father', 'Father', 'Mum', 'Mum', 'Mum', 'Mum', 'Father', 'Father', 'Mum', 'Mum', 'Father', 'Father', 'Mum', 'Mum', 'Father', 'Father', 'Father', 'Father', 'Mum', 'Mum', 'Mum', 'Mum', 'Mum', 'Mum', 'Mum', 'Mum', 'Father', 'Father', 'Father', 'Father', 'Father', 'Father', 'Mum', 'Mum', 'Mum', 'Mum', 'Mum', 'Mum', 'Mum', 'Mum', 'Mum', 'Mum', 'Mum', 'Mum', 'Mum', 'Mum', 'Mum', 'Mum', 'Father', 'Father', 'Father', 'Father', 'Father', 'Father', 'Father', 'Father', 'Father', 'Father', 'Father', 'Father', 'Father', 'Father', 'Mum', 'Mum', 'Mum', 'Mum', 'Father', 'Father', 'Father', 'Father', 'Father', 'Father', 'Father', 'Father', 'Father', 'Father', 'Father', 'Father'], 'raisedhands': ['15', '20', '10', '30', '40', '42', '35', '50', '12', '70', '50', '19', '5', '20', '62', '30', '36', '55', '69', '70', '60', '10', '15', '2', '0', '8', '19', '25', '75', '30', '35', '4', '2', '8', '12', '10', '8', '45', '0', '50', '14', '19', '10', '30', '33', '20', '7', '70', '13', '29', '20', '39', '55', '49', '12', '16', '19', '5', '28', '27', '21', '50', '80', '17', '0', '13', '25', '65', '70', '39', '22', '29', '11', '19', '12', '50', '15', '20', '13', '80', '8', '8', '7', '7', '50', '1', '70', '19', '3', '5', '4', '80', '50', '55', '80', '100', '14', '6', '10', '50', '50', '70', '2', '1', '0', '0', '12', '70', '7', '90', '70', '77', '2', '25', '11', '0', '77', '25', '24', '60', '21', '0', '66', '70', '0', '12', '2', '55', '12', '70', '7', '80', '0', '12', '80', '70', '70', '60', '100', '100', '10', '19', '10', '80', '10', '70', '100', '10', '60', '100', '80', '23', '100', '10', '70', '70', '70', '70', '22', '62', '82', '72', '70', '60', '55', '72', '51', '80', '60', '30', '40', '60', '20', '20', '50', '10', '60', '15', '80', '40', '60', '50', '85', '25', '10', '87', '85', '80', '75', '85', '23', '15', '95', '81', '53', '15', '92', '83', '27', '45', '15', '45', '25', '22', '29', '72', '67', '17', '27', '70', '27', '17', '87', '7', '17', '5', '27', '87', '96', '57', '77', '80', '62', '72', '87', '72', '2', '5', '73', '5', '51', '9', '19', '32', '32', '12', '52', '72', '72', '92', '72', '72', '22', '12', '70', '50', '80', '87', '70', '65', '15', '19', '69', '39', '59', '10', '80', '70', '80', '69', '10', '61', '21', '49', '70', '79', '19', '11', '10', '18', '90', '92', '42', '22', '95', '90', '72', '92', '82', '72', '74', '74', '95', '97', '40', '41', '51', '81', '71', '75', '49', '42', '90', '62', '90', '62', '98', '72', '18', '32', '10', '22', '11', '12', '15', '32', '65', '72', '95', '82', '25', '42', '55', '62', '78', '72', '60', '50', '60', '50', '60', '50', '10', '30', '24', '27', '10', '30', '80', '75', '40', '35', '10', '25', '10', '15', '70', '75', '78', '79', '16', '17', '40', '35', '14', '13', '24', '23', '20', '15', '5', '7', '10', '25', '30', '35', '32', '25', '72', '75', '20', '10', '90', '80', '80', '78', '10', '10', '98', '75', '10', '35', '10', '5', '10', '35', '20', '32', '10', '12', '11', '10', '69', '70', '89', '79', '15', '20', '4', '5', '88', '90', '86', '90', '78', '70', '80', '85', '88', '89', '39', '35', '76', '65', '96', '80', '2', '3', '50', '53', '70', '59', '78', '79', '10', '9', '98', '89', '88', '99', '82', '84', '70', '74', '90', '84', '80', '81', '10', '11', '85', '80', '95', '87', '85', '79', '80', '70', '80', '70', '89', '90', '69', '70', '75', '72', '77', '71', '87', '81', '15', '19', '25', '29', '45', '39', '85', '79', '90', '80', '80', '71', '72', '69', '85', '89', '80', '87', '15', '9', '81', '78', '80', '85', '2', '5', '50', '55', '30', '35'], 'VisITedResources': ['16', '20', '7', '25', '50', '30', '12', '10', '21', '80', '88', '6', '1', '14', '70', '40', '30', '13', '15', '50', '60', '12', '21', '0', '2', '7', '19', '15', '85', '90', '80', '5', '19', '22', '11', '12', '6', '54', '0', '90', '13', '20', '12', '35', '33', '12', '10', '4', '80', '39', '14', '15', '90', '70', '50', '14', '5', '2', '60', '22', '10', '70', '90', '13', '5', '5', '10', '75', '69', '40', '30', '22', '2', '30', '0', '90', '70', '80', '3', '90', '15', '25', '5', '4', '70', '0', '12', '70', '12', '20', '8', '90', '70', '89', '44', '80', '60', '2', '3', '7', '90', '92', '6', '7', '12', '0', '26', '90', '12', '70', '88', '80', '5', '27', '2', '8', '80', '29', '35', '60', '12', '4', '90', '98', '6', '30', '9', '33', '10', '90', '9', '42', '3', '60', '80', '80', '80', '80', '80', '85', '60', '65', '75', '90', '10', '75', '75', '79', '55', '75', '80', '63', '91', '51', '50', '58', '50', '50', '51', '68', '89', '80', '82', '82', '72', '65', '82', '92', '52', '12', '62', '52', '22', '52', '62', '2', '52', '52', '42', '51', '70', '62', '75', '15', '35', '65', '15', '71', '71', '66', '25', '25', '91', '75', '75', '43', '65', '75', '15', '95', '90', '58', '5', '51', '10', '51', '31', '21', '41', '81', '90', '61', '81', '61', '50', '21', '41', '88', '61', '51', '69', '51', '61', '83', '81', '90', '11', '3', '84', '17', '42', '7', '72', '80', '60', '8', '10', '80', '80', '80', '80', '80', '20', '20', '92', '40', '94', '48', '40', '86', '6', '74', '76', '26', '97', '17', '87', '99', '97', '34', '17', '97', '27', '94', '64', '84', '80', '70', '8', '28', '84', '81', '21', '20', '82', '62', '21', '31', '31', '41', '71', '60', '94', '87', '38', '39', '79', '79', '70', '71', '36', '24', '86', '64', '86', '64', '87', '74', '17', '14', '12', '34', '20', '44', '50', '44', '59', '64', '57', '84', '29', '34', '79', '64', '88', '84', '92', '90', '97', '95', '87', '80', '15', '10', '35', '20', '15', '10', '77', '85', '7', '2', '90', '80', '8', '7', '90', '80', '98', '89', '90', '80', '87', '92', '97', '82', '97', '82', '3', '4', '13', '9', '94', '89', '98', '97', '88', '87', '98', '90', '88', '98', '98', '88', '95', '70', '18', '58', '88', '81', '17', '2', '20', '9', '10', '2', '90', '82', '30', '22', '20', '12', '82', '83', '92', '93', '90', '77', '10', '0', '81', '88', '98', '90', '91', '98', '80', '82', '90', '92', '71', '80', '81', '89', '95', '91', '9', '8', '79', '88', '89', '90', '80', '72', '9', '7', '90', '92', '90', '96', '89', '92', '69', '62', '79', '77', '80', '82', '0', '2', '89', '89', '87', '79', '87', '88', '81', '83', '82', '82', '87', '86', '77', '76', '72', '76', '82', '84', '92', '84', '97', '98', '82', '78', '87', '88', '90', '91', '91', '90', '83', '81', '87', '77', '99', '96', '82', '93', '9', '6', '86', '82', '87', '88', '7', '4', '77', '74', '17', '14'], 'AnnouncementsView': ['2', '3', '0', '5', '12', '13', '0', '15', '16', '25', '30', '19', '0', '12', '44', '22', '20', '35', '36', '40', '33', '4', '2', '2', '3', '30', '25', '12', '52', '33', '50', '40', '10', '9', '8', '17', '4', '26', '0', '37', '3', '16', '7', '28', '30', '15', '1', '39', '40', '50', '12', '16', '16', '19', '8', '6', '4', '6', '19', '22', '28', '32', '70', '16', '7', '18', '19', '23', '35', '11', '10', '9', '2', '26', '6', '29', '37', '33', '11', '49', '10', '1', '2', '10', '50', '1', '40', '3', '4', '1', '10', '55', '19', '40', '35', '2', '11', '38', '0', '9', '40', '50', '2', '6', '3', '5', '7', '41', '5', '30', '55', '51', '3', '0', '0', '11', '12', '40', '23', '3', '0', '8', '55', '7', '4', '0', '7', '6', '20', '2', '5', '20', '10', '0', '15', '95', '95', '50', '95', '85', '5', '50', '55', '55', '15', '55', '50', '30', '30', '50', '51', '71', '98', '40', '33', '73', '30', '33', '48', '48', '58', '58', '3', '93', '83', '73', '53', '83', '23', '29', '83', '23', '53', '23', '73', '13', '23', '83', '33', '20', '63', '13', '62', '32', '30', '82', '22', '52', '72', '12', '32', '37', '62', '62', '72', '42', '62', '62', '42', '12', '52', '52', '12', '42', '12', '42', '42', '42', '49', '39', '82', '42', '42', '22', '2', '42', '32', '40', '42', '46', '41', '40', '82', '12', '22', '12', '62', '2', '77', '21', '12', '21', '15', '58', '58', '18', '13', '58', '58', '88', '98', '58', '18', '38', '83', '52', '62', '82', '2', '62', '32', '32', '82', '12', '42', '12', '72', '66', '86', '12', '12', '82', '52', '42', '42', '82', '12', '32', '10', '40', '52', '32', '2', '6', '82', '80', '22', '42', '52', '46', '56', '56', '72', '82', '32', '35', '85', '91', '65', '76', '32', '12', '82', '72', '82', '72', '86', '82', '26', '32', '20', '15', '21', '25', '24', '29', '74', '59', '74', '79', '34', '29', '44', '69', '74', '89', '83', '83', '13', '23', '23', '20', '10', '20', '18', '33', '10', '20', '63', '73', '50', '29', '30', '29', '9', '12', '20', '15', '10', '11', '15', '13', '50', '29', '15', '20', '15', '20', '9', '12', '6', '11', '40', '21', '42', '41', '32', '21', '52', '51', '31', '41', '41', '51', '21', '31', '71', '51', '60', '51', '50', '29', '22', '19', '40', '29', '50', '59', '50', '59', '20', '29', '20', '29', '40', '49', '21', '31', '11', '1', '50', '54', '50', '57', '50', '54', '46', '59', '86', '89', '40', '34', '80', '64', '70', '87', '10', '19', '10', '9', '12', '19', '66', '79', '2', '9', '86', '89', '76', '89', '22', '29', '46', '49', '76', '79', '62', '69', '2', '9', '22', '23', '62', '73', '72', '79', '71', '70', '76', '75', '86', '85', '76', '65', '64', '66', '74', '67', '74', '77', '22', '20', '52', '40', '57', '43', '52', '49', '80', '80', '82', '83', '72', '83', '42', '45', '64', '63', '14', '15', '86', '78', '74', '79', '4', '5', '14', '25', '14', '23'], 'Discussion': ['20', '25', '30', '35', '50', '70', '17', '22', '50', '70', '80', '12', '11', '19', '60', '66', '80', '90', '96', '99', '90', '80', '90', '50', '70', '40', '40', '33', '43', '35', '70', '16', '50', '40', '40', '30', '22', '90', '4', '70', '70', '50', '33', '90', '90', '70', '30', '90', '88', '77', '70', '50', '40', '75', '30', '20', '1', '5', '50', '40', '20', '40', '80', '12', '2', '19', '30', '80', '30', '33', '12', '20', '8', '19', '13', '60', '44', '33', '9', '55', '40', '70', '80', '50', '10', '12', '50', '50', '33', '50', '60', '19', '15', '40', '10', '70', '75', '12', '30', '50', '90', '7', '8', '10', '3', '80', '40', '33', '3', '14', '40', '80', '50', '69', '50', '70', '19', '17', '22', '60', '50', '30', '12', '5', '15', '17', '55', '9', '16', '2', '30', '50', '3', '70', '70', '70', '70', '40', '90', '70', '20', '10', '11', '19', '19', '11', '70', '30', '40', '70', '59', '89', '40', '40', '41', '91', '49', '40', '10', '80', '50', '66', '73', '43', '14', '66', '43', '43', '33', '23', '33', '33', '13', '33', '43', '53', '33', '11', '13', '33', '93', '33', '53', '53', '13', '33', '53', '51', '53', '23', '53', '13', '53', '53', '23', '33', '53', '53', '53', '13', '83', '43', '33', '40', '24', '24', '14', '14', '14', '84', '14', '14', '19', '14', '4', '14', '61', '10', '94', '34', '13', '24', '40', '90', '70', '30', '30', '10', '81', '10', '29', '20', '50', '46', '66', '26', '6', '66', '66', '76', '96', '86', '6', '46', '85', '66', '77', '96', '16', '40', '40', '17', '94', '44', '70', '40', '60', '65', '95', '17', '14', '64', '34', '7', '32', '37', '17', '29', '10', '20', '30', '36', '16', '26', '70', '60', '26', '27', '25', '27', '37', '37', '80', '86', '36', '39', '89', '85', '69', '80', '44', '24', '74', '84', '74', '84', '84', '89', '34', '29', '13', '9', '23', '39', '43', '89', '83', '89', '89', '79', '33', '39', '43', '49', '83', '89', '23', '13', '3', '10', '11', '15', '21', '5', '31', '35', '21', '5', '83', '80', '41', '33', '21', '23', '3', '7', '21', '20', '11', '14', '11', '10', '41', '33', '14', '30', '14', '30', '3', '7', '6', '10', '11', '13', '21', '23', '25', '27', '15', '17', '28', '38', '38', '39', '28', '29', '38', '48', '31', '34', '21', '23', '97', '98', '51', '23', '61', '63', '91', '83', '98', '93', '28', '33', '28', '23', '97', '88', '7', '8', '10', '12', '20', '22', '40', '72', '61', '63', '81', '83', '26', '22', '86', '82', '70', '72', '1', '3', '31', '33', '21', '43', '51', '83', '1', '3', '71', '83', '81', '84', '31', '43', '45', '43', '79', '68', '11', '13', '41', '49', '61', '68', '81', '98', '10', '20', '30', '23', '19', '29', '15', '10', '75', '70', '39', '40', '79', '80', '89', '85', '10', '2', '20', '12', '80', '72', '30', '22', '81', '83', '71', '72', '89', '92', '90', '92', '58', '60', '80', '85', '41', '53', '68', '70', '8', '8', '28', '29', '57', '62'], 'ParentAnsweringSurvey': ['Yes', 'Yes', 'No', 'No', 'No', 'Yes', 'No', 'Yes', 'Yes', 'Yes', 'Yes', 'Yes', 'No', 'No', 'No', 'Yes', 'No', 'No', 'Yes', 'Yes', 'No', 'No', 'No', 'No', 'Yes', 'Yes', 'Yes', 'No', 'Yes', 'No', 'Yes', 'Yes', 'Yes', 'No', 'No', 'No', 'Yes', 'Yes', 'No', 'Yes', 'No', 'No', 'Yes', 'Yes', 'No', 'No', 'No', 'Yes', 'Yes', 'Yes', 'No', 'No', 'No', 'Yes', 'No', 'Yes', 'Yes', 'Yes', 'Yes', 'No', 'No', 'Yes', 'Yes', 'Yes', 'No', 'No', 'No', 'Yes', 'Yes', 'No', 'Yes', 'Yes', 'No', 'Yes', 'No', 'Yes', 'Yes', 'Yes', 'No', 'Yes', 'Yes', 'No', 'Yes', 'No', 'Yes', 'No', 'Yes', 'No', 'No', 'Yes', 'Yes', 'Yes', 'Yes', 'Yes', 'No', 'No', 'Yes', 'No', 'No', 'Yes', 'Yes', 'Yes', 'No', 'No', 'Yes', 'Yes', 'Yes', 'Yes', 'No', 'No', 'Yes', 'No', 'No', 'No', 'No', 'Yes', 'Yes', 'No', 'Yes', 'No', 'Yes', 'No', 'Yes', 'Yes', 'Yes', 'No', 'Yes', 'No', 'No', 'Yes', 'No', 'Yes', 'No', 'Yes', 'Yes', 'Yes', 'Yes', 'No', 'No', 'No', 'Yes', 'No', 'Yes', 'Yes', 'No', 'Yes', 'Yes', 'No', 'No', 'Yes', 'Yes', 'Yes', 'Yes', 'No', 'No', 'Yes', 'Yes', 'No', 'No', 'Yes', 'Yes', 'No', 'No', 'No', 'Yes', 'Yes', 'No', 'Yes', 'Yes', 'No', 'Yes', 'No', 'No', 'Yes', 'Yes', 'No', 'Yes', 'Yes', 'Yes', 'No', 'Yes', 'No', 'Yes', 'No', 'No', 'Yes', 'Yes', 'Yes', 'Yes', 'No', 'No', 'Yes', 'Yes', 'No', 'No', 'Yes', 'Yes', 'No', 'No', 'No', 'Yes', 'Yes', 'Yes', 'Yes', 'No', 'Yes', 'Yes', 'Yes', 'No', 'No', 'Yes', 'No', 'Yes', 'No', 'No', 'No', 'Yes', 'Yes', 'Yes', 'Yes', 'Yes', 'No', 'Yes', 'Yes', 'Yes', 'No', 'No', 'Yes', 'Yes', 'No', 'No', 'Yes', 'Yes', 'Yes', 'Yes', 'No', 'No', 'Yes', 'Yes', 'Yes', 'Yes', 'Yes', 'No', 'No', 'Yes', 'Yes', 'Yes', 'No', 'No', 'No', 'Yes', 'No', 'No', 'No', 'Yes', 'Yes', 'No', 'No', 'Yes', 'No', 'No', 'Yes', 'Yes', 'No', 'No', 'No', 'Yes', 'Yes', 'Yes', 'Yes', 'No', 'No', 'No', 'No', 'Yes', 'Yes', 'Yes', 'Yes', 'No', 'No', 'No', 'No', 'No', 'No', 'No', 'Yes', 'Yes', 'Yes', 'Yes', 'Yes', 'No', 'No', 'Yes', 'Yes', 'Yes', 'Yes', 'No', 'No', 'No', 'No', 'No', 'No', 'No', 'No', 'Yes', 'Yes', 'Yes', 'Yes', 'Yes', 'Yes', 'No', 'No', 'Yes', 'Yes', 'Yes', 'Yes', 'Yes', 'Yes', 'Yes', 'Yes', 'Yes', 'Yes', 'No', 'No', 'No', 'No', 'No', 'No', 'Yes', 'Yes', 'No', 'No', 'No', 'No', 'No', 'No', 'No', 'No', 'No', 'No', 'No', 'No', 'No', 'No', 'No', 'No', 'No', 'No', 'No', 'No', 'No', 'No', 'Yes', 'Yes', 'Yes', 'Yes', 'Yes', 'Yes', 'Yes', 'Yes', 'Yes', 'Yes', 'Yes', 'Yes', 'Yes', 'Yes', 'Yes', 'Yes', 'No', 'No', 'No', 'No', 'No', 'No', 'No', 'No', 'Yes', 'Yes', 'Yes', 'Yes', 'No', 'No', 'Yes', 'Yes', 'Yes', 'Yes', 'Yes', 'Yes', 'No', 'No', 'Yes', 'Yes', 'Yes', 'Yes', 'Yes', 'Yes', 'Yes', 'Yes', 'Yes', 'Yes', 'No', 'No', 'No', 'No', 'Yes', 'Yes', 'No', 'No', 'No', 'No', 'No', 'No', 'Yes', 'Yes', 'No', 'No', 'Yes', 'Yes', 'Yes', 'Yes', 'Yes', 'Yes', 'Yes', 'Yes', 'Yes', 'Yes', 'Yes', 'Yes', 'No', 'No', 'No', 'No', 'No', 'No', 'Yes', 'Yes', 'Yes', 'Yes', 'Yes', 'Yes', 'Yes', 'Yes', 'Yes', 'Yes', 'Yes', 'Yes', 'Yes', 'Yes', 'Yes', 'Yes', 'Yes', 'Yes', 'Yes', 'Yes', 'Yes', 'Yes', 'Yes', 'Yes', 'Yes', 'Yes', 'Yes', 'Yes', 'Yes', 'Yes', 'Yes', 'Yes', 'Yes', 'Yes', 'No', 'No', 'Yes', 'Yes', 'Yes', 'Yes', 'No', 'No', 'No', 'No', 'No', 'No'], 'ParentschoolSatisfaction': ['Good', 'Good', 'Bad', 'Bad', 'Bad', 'Bad', 'Bad', 'Good', 'Good', 'Good', 'Good', 'Good', 'Bad', 'Bad', 'Bad', 'Good', 'Bad', 'Bad', 'Good', 'Good', 'Bad', 'Bad', 'Bad', 'Bad', 'Good', 'Good', 'Bad', 'Bad', 'Good', 'Bad', 'Good', 'Good', 'Good', 'Bad', 'Bad', 'Bad', 'Good', 'Good', 'Bad', 'Good', 'Bad', 'Good', 'Good', 'Good', 'Bad', 'Good', 'Bad', 'Good', 'Good', 'Good', 'Bad', 'Good', 'Bad', 'Good', 'Bad', 'Good', 'Good', 'Good', 'Good', 'Good', 'Good', 'Good', 'Good', 'Bad', 'Bad', 'Bad', 'Bad', 'Good', 'Good', 'Bad', 'Good', 'Good', 'Bad', 'Bad', 'Bad', 'Good', 'Good', 'Good', 'Bad', 'Bad', 'Bad', 'Bad', 'Good', 'Good', 'Good', 'Bad', 'Good', 'Bad', 'Bad', 'Good', 'Good', 'Good', 'Good', 'Good', 'Good', 'Bad', 'Good', 'Bad', 'Bad', 'Bad', 'Bad', 'Good', 'Bad', 'Bad', 'Good', 'Good', 'Good', 'Bad', 'Bad', 'Bad', 'Good', 'Good', 'Bad', 'Bad', 'Bad', 'Good', 'Good', 'Good', 'Good', 'Bad', 'Good', 'Bad', 'Good', 'Good', 'Bad', 'Good', 'Good', 'Bad', 'Bad', 'Good', 'Bad', 'Good', 'Bad', 'Good', 'Good', 'Good', 'Good', 'Bad', 'Bad', 'Bad', 'Bad', 'Bad', 'Good', 'Good', 'Bad', 'Bad', 'Good', 'Bad', 'Bad', 'Bad', 'Good', 'Good', 'Bad', 'Bad', 'Bad', 'Bad', 'Good', 'Good', 'Bad', 'Good', 'Good', 'Bad', 'Bad', 'Bad', 'Good', 'Good', 'Bad', 'Good', 'Good', 'Bad', 'Good', 'Good', 'Good', 'Good', 'Bad', 'Bad', 'Bad', 'Bad', 'Bad', 'Bad', 'Bad', 'Bad', 'Bad', 'Bad', 'Bad', 'Good', 'Good', 'Good', 'Good', 'Bad', 'Bad', 'Good', 'Good', 'Bad', 'Bad', 'Good', 'Good', 'Bad', 'Bad', 'Bad', 'Bad', 'Good', 'Good', 'Bad', 'Bad', 'Bad', 'Good', 'Good', 'Bad', 'Bad', 'Good', 'Bad', 'Good', 'Bad', 'Bad', 'Good', 'Bad', 'Good', 'Bad', 'Good', 'Good', 'Good', 'Bad', 'Good', 'Bad', 'Bad', 'Bad', 'Good', 'Good', 'Bad', 'Bad', 'Good', 'Good', 'Good', 'Good', 'Bad', 'Bad', 'Good', 'Good', 'Good', 'Bad', 'Good', 'Bad', 'Bad', 'Bad', 'Bad', 'Good', 'Bad', 'Bad', 'Good', 'Good', 'Good', 'Bad', 'Bad', 'Good', 'Good', 'Good', 'Good', 'Good', 'Bad', 'Bad', 'Bad', 'Good', 'Bad', 'Bad', 'Bad', 'Good', 'Good', 'Bad', 'Bad', 'Good', 'Good', 'Bad', 'Bad', 'Good', 'Good', 'Good', 'Good', 'Good', 'Good', 'Good', 'Good', 'Good', 'Good', 'Bad', 'Bad', 'Good', 'Good', 'Good', 'Good', 'Bad', 'Bad', 'Good', 'Good', 'Good', 'Good', 'Good', 'Good', 'Good', 'Good', 'Bad', 'Bad', 'Bad', 'Bad', 'Bad', 'Bad', 'Good', 'Good', 'Good', 'Good', 'Good', 'Good', 'Good', 'Good', 'Good', 'Good', 'Good', 'Good', 'Good', 'Good', 'Good', 'Good', 'Bad', 'Bad', 'Bad', 'Bad', 'Bad', 'Bad', 'Good', 'Good', 'Good', 'Good', 'Good', 'Good', 'Good', 'Good', 'Good', 'Good', 'Good', 'Good', 'Good', 'Good', 'Bad', 'Bad', 'Good', 'Good', 'Good', 'Good', 'Good', 'Good', 'Good', 'Good', 'Good', 'Good', 'Good', 'Good', 'Good', 'Good', 'Good', 'Good', 'Good', 'Good', 'Good', 'Good', 'Good', 'Good', 'Good', 'Good', 'Good', 'Good', 'Bad', 'Bad', 'Bad', 'Bad', 'Bad', 'Bad', 'Bad', 'Bad', 'Bad', 'Bad', 'Bad', 'Bad', 'Good', 'Good', 'Good', 'Good', 'Good', 'Good', 'Good', 'Good', 'Good', 'Good', 'Good', 'Good', 'Good', 'Good', 'Bad', 'Bad', 'Good', 'Good', 'Good', 'Good', 'Good', 'Good', 'Good', 'Good', 'Bad', 'Bad', 'Bad', 'Bad', 'Good', 'Good', 'Good', 'Good', 'Good', 'Good', 'Good', 'Good', 'Good', 'Good', 'Good', 'Good', 'Good', 'Good', 'Good', 'Good', 'Good', 'Good', 'Bad', 'Bad', 'Bad', 'Bad', 'Bad', 'Bad', 'Good', 'Good', 'Good', 'Good', 'Good', 'Good', 'Good', 'Good', 'Good', 'Good', 'Good', 'Good', 'Good', 'Good', 'Good', 'Good', 'Good', 'Good', 'Good', 'Good', 'Good', 'Good', 'Good', 'Good', 'Good', 'Good', 'Good', 'Good', 'Good', 'Good', 'Good', 'Good', 'Good', 'Good', 'Bad', 'Bad', 'Good', 'Good', 'Good', 'Good', 'Bad', 'Bad', 'Bad', 'Bad', 'Bad', 'Bad'], 'StudentAbsenceDays': ['Under-7', 'Under-7', 'Above-7', 'Above-7', 'Above-7', 'Above-7', 'Above-7', 'Under-7', 'Under-7', 'Under-7', 'Under-7', 'Under-7', 'Above-7', 'Above-7', 'Above-7', 'Under-7', 'Above-7', 'Above-7', 'Under-7', 'Under-7', 'Above-7', 'Under-7', 'Under-7', 'Above-7', 'Above-7', 'Above-7', 'Under-7', 'Above-7', 'Under-7', 'Under-7', 'Under-7', 'Above-7', 'Above-7', 'Above-7', 'Above-7', 'Above-7', 'Above-7', 'Under-7', 'Above-7', 'Under-7', 'Above-7', 'Under-7', 'Above-7', 'Under-7', 'Under-7', 'Above-7', 'Above-7', 'Under-7', 'Under-7', 'Under-7', 'Above-7', 'Above-7', 'Under-7', 'Under-7', 'Above-7', 'Above-7', 'Above-7', 'Above-7', 'Under-7', 'Under-7', 'Above-7', 'Under-7', 'Under-7', 'Under-7', 'Above-7', 'Above-7', 'Above-7', 'Under-7', 'Under-7', 'Under-7', 'Above-7', 'Under-7', 'Under-7', 'Above-7', 'Under-7', 'Under-7', 'Under-7', 'Under-7', 'Above-7', 'Under-7', 'Under-7', 'Above-7', 'Above-7', 'Above-7', 'Above-7', 'Above-7', 'Under-7', 'Under-7', 'Under-7', 'Above-7', 'Above-7', 'Under-7', 'Under-7', 'Under-7', 'Above-7', 'Under-7', 'Under-7', 'Under-7', 'Under-7', 'Above-7', 'Under-7', 'Under-7', 'Above-7', 'Above-7', 'Above-7', 'Above-7', 'Under-7', 'Under-7', 'Above-7', 'Under-7', 'Under-7', 'Under-7', 'Above-7', 'Above-7', 'Above-7', 'Above-7', 'Above-7', 'Under-7', 'Above-7', 'Under-7', 'Under-7', 'Above-7', 'Above-7', 'Under-7', 'Under-7', 'Above-7', 'Under-7', 'Above-7', 'Under-7', 'Under-7', 'Above-7', 'Under-7', 'Above-7', 'Above-7', 'Under-7', 'Under-7', 'Under-7', 'Under-7', 'Under-7', 'Under-7', 'Above-7', 'Above-7', 'Under-7', 'Under-7', 'Above-7', 'Under-7', 'Under-7', 'Under-7', 'Under-7', 'Under-7', 'Under-7', 'Under-7', 'Under-7', 'Above-7', 'Above-7', 'Under-7', 'Under-7', 'Under-7', 'Above-7', 'Under-7', 'Under-7', 'Under-7', 'Under-7', 'Above-7', 'Above-7', 'Under-7', 'Under-7', 'Under-7', 'Under-7', 'Under-7', 'Under-7', 'Under-7', 'Above-7', 'Above-7', 'Above-7', 'Above-7', 'Under-7', 'Under-7', 'Under-7', 'Under-7', 'Under-7', 'Above-7', 'Under-7', 'Under-7', 'Above-7', 'Under-7', 'Under-7', 'Under-7', 'Under-7', 'Under-7', 'Under-7', 'Above-7', 'Under-7', 'Under-7', 'Under-7', 'Under-7', 'Under-7', 'Under-7', 'Above-7', 'Under-7', 'Under-7', 'Under-7', 'Under-7', 'Under-7', 'Above-7', 'Above-7', 'Under-7', 'Under-7', 'Under-7', 'Under-7', 'Under-7', 'Under-7', 'Under-7', 'Above-7', 'Above-7', 'Above-7', 'Above-7', 'Under-7', 'Under-7', 'Under-7', 'Under-7', 'Under-7', 'Under-7', 'Under-7', 'Under-7', 'Under-7', 'Under-7', 'Under-7', 'Above-7', 'Above-7', 'Above-7', 'Above-7', 'Above-7', 'Above-7', 'Above-7', 'Above-7', 'Above-7', 'Above-7', 'Above-7', 'Under-7', 'Under-7', 'Under-7', 'Above-7', 'Above-7', 'Under-7', 'Under-7', 'Under-7', 'Above-7', 'Above-7', 'Above-7', 'Under-7', 'Above-7', 'Under-7', 'Above-7', 'Under-7', 'Under-7', 'Under-7', 'Under-7', 'Under-7', 'Above-7', 'Above-7', 'Above-7', 'Above-7', 'Above-7', 'Under-7', 'Under-7', 'Above-7', 'Above-7', 'Above-7', 'Above-7', 'Under-7', 'Under-7', 'Under-7', 'Under-7', 'Under-7', 'Under-7', 'Under-7', 'Under-7', 'Under-7', 'Under-7', 'Under-7', 'Under-7', 'Under-7', 'Under-7', 'Above-7', 'Above-7', 'Under-7', 'Under-7', 'Under-7', 'Under-7', 'Above-7', 'Above-7', 'Under-7', 'Under-7', 'Above-7', 'Above-7', 'Under-7', 'Under-7', 'Above-7', 'Above-7', 'Above-7', 'Above-7', 'Under-7', 'Under-7', 'Under-7', 'Under-7', 'Under-7', 'Under-7', 'Above-7', 'Above-7', 'Above-7', 'Above-7', 'Under-7', 'Under-7', 'Under-7', 'Under-7', 'Under-7', 'Under-7', 'Under-7', 'Under-7', 'Above-7', 'Above-7', 'Above-7', 'Above-7', 'Under-7', 'Under-7', 'Above-7', 'Above-7', 'Under-7', 'Under-7', 'Above-7', 'Above-7', 'Under-7', 'Under-7', 'Above-7', 'Above-7', 'Under-7', 'Under-7', 'Under-7', 'Under-7', 'Under-7', 'Under-7', 'Under-7', 'Under-7', 'Under-7', 'Under-7', 'Under-7', 'Under-7', 'Above-7', 'Above-7', 'Above-7', 'Above-7', 'Under-7', 'Under-7', 'Under-7', 'Under-7', 'Under-7', 'Under-7', 'Under-7', 'Under-7', 'Above-7', 'Above-7', 'Under-7', 'Under-7', 'Under-7', 'Under-7', 'Above-7', 'Above-7', 'Under-7', 'Under-7', 'Under-7', 'Under-7', 'Above-7', 'Above-7', 'Above-7', 'Above-7', 'Above-7', 'Above-7', 'Above-7', 'Above-7', 'Above-7', 'Above-7', 'Under-7', 'Under-7', 'Under-7', 'Under-7', 'Under-7', 'Under-7', 'Above-7', 'Above-7', 'Above-7', 'Above-7', 'Under-7', 'Under-7', 'Under-7', 'Under-7', 'Under-7', 'Under-7', 'Under-7', 'Under-7', 'Above-7', 'Above-7', 'Under-7', 'Under-7', 'Under-7', 'Under-7', 'Above-7', 'Above-7', 'Under-7', 'Under-7', 'Under-7', 'Under-7', 'Under-7', 'Under-7', 'Above-7', 'Above-7', 'Under-7', 'Under-7', 'Under-7', 'Under-7', 'Under-7', 'Under-7', 'Above-7', 'Above-7', 'Under-7', 'Under-7', 'Above-7', 'Above-7', 'Above-7', 'Above-7', 'Under-7', 'Under-7', 'Under-7', 'Under-7', 'Above-7', 'Above-7', 'Under-7', 'Under-7', 'Under-7', 'Under-7', 'Under-7', 'Under-7', 'Above-7', 'Above-7', 'Above-7', 'Above-7', 'Under-7', 'Under-7', 'Under-7', 'Under-7', 'Under-7', 'Under-7', 'Above-7', 'Above-7', 'Under-7', 'Under-7', 'Under-7', 'Under-7', 'Under-7', 'Under-7', 'Above-7', 'Above-7', 'Above-7', 'Above-7', 'Under-7', 'Under-7', 'Under-7', 'Under-7', 'Above-7', 'Above-7', 'Under-7', 'Under-7', 'Under-7', 'Under-7', 'Above-7', 'Above-7', 'Under-7', 'Under-7', 'Above-7', 'Above-7'], 'Class': ['M', 'M', 'L', 'L', 'M', 'M', 'L', 'M', 'M', 'M', 'H', 'M', 'L', 'L', 'H', 'M', 'M', 'M', 'M', 'H', 'M', 'M', 'M', 'L', 'L', 'L', 'M', 'L', 'M', 'M', 'H', 'L', 'L', 'L', 'L', 'L', 'L', 'M', 'L', 'M', 'L', 'M', 'L', 'M', 'M', 'L', 'L', 'H', 'H', 'M', 'L', 'L', 'M', 'H', 'L', 'L', 'L', 'L', 'M', 'M', 'L', 'M', 'H', 'M', 'L', 'L', 'M', 'H', 'H', 'M', 'L', 'M', 'L', 'M', 'L', 'M', 'M', 'M', 'L', 'H', 'L', 'L', 'L', 'M', 'H', 'L', 'H', 'L', 'L', 'L', 'L', 'H', 'H', 'H', 'L', 'H', 'H', 'M', 'M', 'M', 'M', 'H', 'L', 'L', 'M', 'L', 'M', 'H', 'M', 'M', 'H', 'M', 'L', 'L', 'L', 'L', 'M', 'H', 'M', 'M', 'M', 'L', 'M', 'M', 'L', 'L', 'M', 'L', 'L', 'L', 'L', 'M', 'L', 'L', 'H', 'H', 'H', 'M', 'H', 'M', 'L', 'L', 'M', 'H', 'L', 'M', 'H', 'M', 'M', 'H', 'H', 'M', 'H', 'L', 'M', 'H', 'M', 'M', 'L', 'M', 'H', 'M', 'H', 'M', 'M', 'H', 'M', 'H', 'H', 'M', 'H', 'M', 'L', 'L', 'M', 'L', 'H', 'M', 'H', 'M', 'H', 'L', 'H', 'M', 'L', 'H', 'M', 'M', 'H', 'M', 'L', 'L', 'M', 'M', 'M', 'M', 'H', 'H', 'L', 'M', 'H', 'H', 'M', 'M', 'L', 'H', 'M', 'M', 'M', 'M', 'H', 'M', 'H', 'L', 'L', 'L', 'M', 'M', 'H', 'M', 'M', 'M', 'M', 'H', 'H', 'M', 'L', 'L', 'H', 'L', 'M', 'L', 'M', 'M', 'M', 'L', 'L', 'M', 'M', 'H', 'H', 'M', 'L', 'M', 'H', 'M', 'H', 'M', 'L', 'M', 'H', 'L', 'M', 'L', 'H', 'H', 'H', 'M', 'M', 'L', 'L', 'M', 'M', 'M', 'M', 'H', 'M', 'M', 'M', 'M', 'H', 'M', 'M', 'H', 'H', 'H', 'H', 'H', 'M', 'M', 'H', 'H', 'H', 'H', 'M', 'M', 'H', 'H', 'M', 'M', 'L', 'L', 'H', 'H', 'M', 'M', 'H', 'H', 'M', 'M', 'L', 'L', 'M', 'M', 'M', 'M', 'H', 'H', 'M', 'M', 'M', 'M', 'H', 'H', 'H', 'H', 'H', 'H', 'H', 'H', 'M', 'M', 'L', 'L', 'M', 'M', 'L', 'L', 'M', 'M', 'L', 'L', 'M', 'M', 'L', 'L', 'M', 'M', 'M', 'M', 'M', 'M', 'M', 'M', 'H', 'H', 'H', 'H', 'L', 'L', 'L', 'L', 'M', 'M', 'H', 'H', 'M', 'M', 'H', 'H', 'M', 'M', 'H', 'H', 'H', 'H', 'M', 'M', 'H', 'H', 'M', 'M', 'L', 'L', 'L', 'L', 'M', 'M', 'L', 'L', 'L', 'L', 'H', 'H', 'H', 'H', 'M', 'M', 'L', 'L', 'M', 'M', 'H', 'H', 'H', 'H', 'M', 'M', 'H', 'H', 'M', 'M', 'H', 'H', 'H', 'H', 'L', 'L', 'M', 'M', 'H', 'H', 'M', 'M', 'L', 'L', 'H', 'H', 'H', 'H', 'H', 'H', 'M', 'M', 'H', 'H', 'M', 'M', 'L', 'L', 'H', 'H', 'M', 'M', 'M', 'M', 'M', 'M', 'M', 'M', 'M', 'M', 'M', 'M', 'L', 'L', 'M', 'M', 'H', 'H', 'H', 'H', 'M', 'M', 'M', 'M', 'H', 'H', 'H', 'H', 'M', 'M', 'M', 'M', 'H', 'H', 'H', 'H', 'L', 'L', 'M', 'M', 'M', 'M', 'L', 'L', 'M', 'M', 'L', 'L']}\n"
          ]
        }
      ]
    },
    {
      "cell_type": "markdown",
      "source": [
        "##**EDA**##"
      ],
      "metadata": {
        "id": "o1GuY-7aQkfg"
      }
    },
    {
      "cell_type": "code",
      "source": [
        "df = pd.DataFrame(dataDF)"
      ],
      "metadata": {
        "id": "ZD6hQiIyk01f"
      },
      "execution_count": null,
      "outputs": []
    },
    {
      "cell_type": "code",
      "source": [
        "df.head(10)"
      ],
      "metadata": {
        "colab": {
          "base_uri": "https://localhost:8080/",
          "height": 427
        },
        "id": "1zI7kE0Ak_K5",
        "outputId": "036aaf01-706c-4238-cccf-02505d2c7e64"
      },
      "execution_count": null,
      "outputs": [
        {
          "output_type": "execute_result",
          "data": {
            "text/plain": [
              "  gender Topic Semester Relation raisedhands VisITedResources  \\\n",
              "0      M    IT        F   Father          15               16   \n",
              "1      M    IT        F   Father          20               20   \n",
              "2      M    IT        F   Father          10                7   \n",
              "3      M    IT        F   Father          30               25   \n",
              "4      M    IT        F   Father          40               50   \n",
              "5      F    IT        F   Father          42               30   \n",
              "6      M  Math        F   Father          35               12   \n",
              "7      M  Math        F   Father          50               10   \n",
              "8      F  Math        F   Father          12               21   \n",
              "9      F    IT        F   Father          70               80   \n",
              "\n",
              "  AnnouncementsView Discussion ParentAnsweringSurvey ParentschoolSatisfaction  \\\n",
              "0                 2         20                   Yes                     Good   \n",
              "1                 3         25                   Yes                     Good   \n",
              "2                 0         30                    No                      Bad   \n",
              "3                 5         35                    No                      Bad   \n",
              "4                12         50                    No                      Bad   \n",
              "5                13         70                   Yes                      Bad   \n",
              "6                 0         17                    No                      Bad   \n",
              "7                15         22                   Yes                     Good   \n",
              "8                16         50                   Yes                     Good   \n",
              "9                25         70                   Yes                     Good   \n",
              "\n",
              "  StudentAbsenceDays Class  \n",
              "0            Under-7     M  \n",
              "1            Under-7     M  \n",
              "2            Above-7     L  \n",
              "3            Above-7     L  \n",
              "4            Above-7     M  \n",
              "5            Above-7     M  \n",
              "6            Above-7     L  \n",
              "7            Under-7     M  \n",
              "8            Under-7     M  \n",
              "9            Under-7     M  "
            ],
            "text/html": [
              "\n",
              "  <div id=\"df-f607aee4-42b5-4760-bec1-d8be66bbd3d2\">\n",
              "    <div class=\"colab-df-container\">\n",
              "      <div>\n",
              "<style scoped>\n",
              "    .dataframe tbody tr th:only-of-type {\n",
              "        vertical-align: middle;\n",
              "    }\n",
              "\n",
              "    .dataframe tbody tr th {\n",
              "        vertical-align: top;\n",
              "    }\n",
              "\n",
              "    .dataframe thead th {\n",
              "        text-align: right;\n",
              "    }\n",
              "</style>\n",
              "<table border=\"1\" class=\"dataframe\">\n",
              "  <thead>\n",
              "    <tr style=\"text-align: right;\">\n",
              "      <th></th>\n",
              "      <th>gender</th>\n",
              "      <th>Topic</th>\n",
              "      <th>Semester</th>\n",
              "      <th>Relation</th>\n",
              "      <th>raisedhands</th>\n",
              "      <th>VisITedResources</th>\n",
              "      <th>AnnouncementsView</th>\n",
              "      <th>Discussion</th>\n",
              "      <th>ParentAnsweringSurvey</th>\n",
              "      <th>ParentschoolSatisfaction</th>\n",
              "      <th>StudentAbsenceDays</th>\n",
              "      <th>Class</th>\n",
              "    </tr>\n",
              "  </thead>\n",
              "  <tbody>\n",
              "    <tr>\n",
              "      <th>0</th>\n",
              "      <td>M</td>\n",
              "      <td>IT</td>\n",
              "      <td>F</td>\n",
              "      <td>Father</td>\n",
              "      <td>15</td>\n",
              "      <td>16</td>\n",
              "      <td>2</td>\n",
              "      <td>20</td>\n",
              "      <td>Yes</td>\n",
              "      <td>Good</td>\n",
              "      <td>Under-7</td>\n",
              "      <td>M</td>\n",
              "    </tr>\n",
              "    <tr>\n",
              "      <th>1</th>\n",
              "      <td>M</td>\n",
              "      <td>IT</td>\n",
              "      <td>F</td>\n",
              "      <td>Father</td>\n",
              "      <td>20</td>\n",
              "      <td>20</td>\n",
              "      <td>3</td>\n",
              "      <td>25</td>\n",
              "      <td>Yes</td>\n",
              "      <td>Good</td>\n",
              "      <td>Under-7</td>\n",
              "      <td>M</td>\n",
              "    </tr>\n",
              "    <tr>\n",
              "      <th>2</th>\n",
              "      <td>M</td>\n",
              "      <td>IT</td>\n",
              "      <td>F</td>\n",
              "      <td>Father</td>\n",
              "      <td>10</td>\n",
              "      <td>7</td>\n",
              "      <td>0</td>\n",
              "      <td>30</td>\n",
              "      <td>No</td>\n",
              "      <td>Bad</td>\n",
              "      <td>Above-7</td>\n",
              "      <td>L</td>\n",
              "    </tr>\n",
              "    <tr>\n",
              "      <th>3</th>\n",
              "      <td>M</td>\n",
              "      <td>IT</td>\n",
              "      <td>F</td>\n",
              "      <td>Father</td>\n",
              "      <td>30</td>\n",
              "      <td>25</td>\n",
              "      <td>5</td>\n",
              "      <td>35</td>\n",
              "      <td>No</td>\n",
              "      <td>Bad</td>\n",
              "      <td>Above-7</td>\n",
              "      <td>L</td>\n",
              "    </tr>\n",
              "    <tr>\n",
              "      <th>4</th>\n",
              "      <td>M</td>\n",
              "      <td>IT</td>\n",
              "      <td>F</td>\n",
              "      <td>Father</td>\n",
              "      <td>40</td>\n",
              "      <td>50</td>\n",
              "      <td>12</td>\n",
              "      <td>50</td>\n",
              "      <td>No</td>\n",
              "      <td>Bad</td>\n",
              "      <td>Above-7</td>\n",
              "      <td>M</td>\n",
              "    </tr>\n",
              "    <tr>\n",
              "      <th>5</th>\n",
              "      <td>F</td>\n",
              "      <td>IT</td>\n",
              "      <td>F</td>\n",
              "      <td>Father</td>\n",
              "      <td>42</td>\n",
              "      <td>30</td>\n",
              "      <td>13</td>\n",
              "      <td>70</td>\n",
              "      <td>Yes</td>\n",
              "      <td>Bad</td>\n",
              "      <td>Above-7</td>\n",
              "      <td>M</td>\n",
              "    </tr>\n",
              "    <tr>\n",
              "      <th>6</th>\n",
              "      <td>M</td>\n",
              "      <td>Math</td>\n",
              "      <td>F</td>\n",
              "      <td>Father</td>\n",
              "      <td>35</td>\n",
              "      <td>12</td>\n",
              "      <td>0</td>\n",
              "      <td>17</td>\n",
              "      <td>No</td>\n",
              "      <td>Bad</td>\n",
              "      <td>Above-7</td>\n",
              "      <td>L</td>\n",
              "    </tr>\n",
              "    <tr>\n",
              "      <th>7</th>\n",
              "      <td>M</td>\n",
              "      <td>Math</td>\n",
              "      <td>F</td>\n",
              "      <td>Father</td>\n",
              "      <td>50</td>\n",
              "      <td>10</td>\n",
              "      <td>15</td>\n",
              "      <td>22</td>\n",
              "      <td>Yes</td>\n",
              "      <td>Good</td>\n",
              "      <td>Under-7</td>\n",
              "      <td>M</td>\n",
              "    </tr>\n",
              "    <tr>\n",
              "      <th>8</th>\n",
              "      <td>F</td>\n",
              "      <td>Math</td>\n",
              "      <td>F</td>\n",
              "      <td>Father</td>\n",
              "      <td>12</td>\n",
              "      <td>21</td>\n",
              "      <td>16</td>\n",
              "      <td>50</td>\n",
              "      <td>Yes</td>\n",
              "      <td>Good</td>\n",
              "      <td>Under-7</td>\n",
              "      <td>M</td>\n",
              "    </tr>\n",
              "    <tr>\n",
              "      <th>9</th>\n",
              "      <td>F</td>\n",
              "      <td>IT</td>\n",
              "      <td>F</td>\n",
              "      <td>Father</td>\n",
              "      <td>70</td>\n",
              "      <td>80</td>\n",
              "      <td>25</td>\n",
              "      <td>70</td>\n",
              "      <td>Yes</td>\n",
              "      <td>Good</td>\n",
              "      <td>Under-7</td>\n",
              "      <td>M</td>\n",
              "    </tr>\n",
              "  </tbody>\n",
              "</table>\n",
              "</div>\n",
              "      <button class=\"colab-df-convert\" onclick=\"convertToInteractive('df-f607aee4-42b5-4760-bec1-d8be66bbd3d2')\"\n",
              "              title=\"Convert this dataframe to an interactive table.\"\n",
              "              style=\"display:none;\">\n",
              "        \n",
              "  <svg xmlns=\"http://www.w3.org/2000/svg\" height=\"24px\"viewBox=\"0 0 24 24\"\n",
              "       width=\"24px\">\n",
              "    <path d=\"M0 0h24v24H0V0z\" fill=\"none\"/>\n",
              "    <path d=\"M18.56 5.44l.94 2.06.94-2.06 2.06-.94-2.06-.94-.94-2.06-.94 2.06-2.06.94zm-11 1L8.5 8.5l.94-2.06 2.06-.94-2.06-.94L8.5 2.5l-.94 2.06-2.06.94zm10 10l.94 2.06.94-2.06 2.06-.94-2.06-.94-.94-2.06-.94 2.06-2.06.94z\"/><path d=\"M17.41 7.96l-1.37-1.37c-.4-.4-.92-.59-1.43-.59-.52 0-1.04.2-1.43.59L10.3 9.45l-7.72 7.72c-.78.78-.78 2.05 0 2.83L4 21.41c.39.39.9.59 1.41.59.51 0 1.02-.2 1.41-.59l7.78-7.78 2.81-2.81c.8-.78.8-2.07 0-2.86zM5.41 20L4 18.59l7.72-7.72 1.47 1.35L5.41 20z\"/>\n",
              "  </svg>\n",
              "      </button>\n",
              "      \n",
              "  <style>\n",
              "    .colab-df-container {\n",
              "      display:flex;\n",
              "      flex-wrap:wrap;\n",
              "      gap: 12px;\n",
              "    }\n",
              "\n",
              "    .colab-df-convert {\n",
              "      background-color: #E8F0FE;\n",
              "      border: none;\n",
              "      border-radius: 50%;\n",
              "      cursor: pointer;\n",
              "      display: none;\n",
              "      fill: #1967D2;\n",
              "      height: 32px;\n",
              "      padding: 0 0 0 0;\n",
              "      width: 32px;\n",
              "    }\n",
              "\n",
              "    .colab-df-convert:hover {\n",
              "      background-color: #E2EBFA;\n",
              "      box-shadow: 0px 1px 2px rgba(60, 64, 67, 0.3), 0px 1px 3px 1px rgba(60, 64, 67, 0.15);\n",
              "      fill: #174EA6;\n",
              "    }\n",
              "\n",
              "    [theme=dark] .colab-df-convert {\n",
              "      background-color: #3B4455;\n",
              "      fill: #D2E3FC;\n",
              "    }\n",
              "\n",
              "    [theme=dark] .colab-df-convert:hover {\n",
              "      background-color: #434B5C;\n",
              "      box-shadow: 0px 1px 3px 1px rgba(0, 0, 0, 0.15);\n",
              "      filter: drop-shadow(0px 1px 2px rgba(0, 0, 0, 0.3));\n",
              "      fill: #FFFFFF;\n",
              "    }\n",
              "  </style>\n",
              "\n",
              "      <script>\n",
              "        const buttonEl =\n",
              "          document.querySelector('#df-f607aee4-42b5-4760-bec1-d8be66bbd3d2 button.colab-df-convert');\n",
              "        buttonEl.style.display =\n",
              "          google.colab.kernel.accessAllowed ? 'block' : 'none';\n",
              "\n",
              "        async function convertToInteractive(key) {\n",
              "          const element = document.querySelector('#df-f607aee4-42b5-4760-bec1-d8be66bbd3d2');\n",
              "          const dataTable =\n",
              "            await google.colab.kernel.invokeFunction('convertToInteractive',\n",
              "                                                     [key], {});\n",
              "          if (!dataTable) return;\n",
              "\n",
              "          const docLinkHtml = 'Like what you see? Visit the ' +\n",
              "            '<a target=\"_blank\" href=https://colab.research.google.com/notebooks/data_table.ipynb>data table notebook</a>'\n",
              "            + ' to learn more about interactive tables.';\n",
              "          element.innerHTML = '';\n",
              "          dataTable['output_type'] = 'display_data';\n",
              "          await google.colab.output.renderOutput(dataTable, element);\n",
              "          const docLink = document.createElement('div');\n",
              "          docLink.innerHTML = docLinkHtml;\n",
              "          element.appendChild(docLink);\n",
              "        }\n",
              "      </script>\n",
              "    </div>\n",
              "  </div>\n",
              "  "
            ]
          },
          "metadata": {},
          "execution_count": 93
        }
      ]
    },
    {
      "cell_type": "code",
      "source": [
        "df.info()"
      ],
      "metadata": {
        "colab": {
          "base_uri": "https://localhost:8080/"
        },
        "id": "JqaonMDMlDFR",
        "outputId": "4058f286-87cc-4145-9178-4631d9196af1"
      },
      "execution_count": null,
      "outputs": [
        {
          "output_type": "stream",
          "name": "stdout",
          "text": [
            "<class 'pandas.core.frame.DataFrame'>\n",
            "RangeIndex: 480 entries, 0 to 479\n",
            "Data columns (total 12 columns):\n",
            " #   Column                    Non-Null Count  Dtype \n",
            "---  ------                    --------------  ----- \n",
            " 0   gender                    480 non-null    object\n",
            " 1   Topic                     480 non-null    object\n",
            " 2   Semester                  480 non-null    object\n",
            " 3   Relation                  480 non-null    object\n",
            " 4   raisedhands               480 non-null    object\n",
            " 5   VisITedResources          480 non-null    object\n",
            " 6   AnnouncementsView         480 non-null    object\n",
            " 7   Discussion                480 non-null    object\n",
            " 8   ParentAnsweringSurvey     480 non-null    object\n",
            " 9   ParentschoolSatisfaction  480 non-null    object\n",
            " 10  StudentAbsenceDays        480 non-null    object\n",
            " 11  Class                     480 non-null    object\n",
            "dtypes: object(12)\n",
            "memory usage: 45.1+ KB\n"
          ]
        }
      ]
    },
    {
      "cell_type": "code",
      "source": [
        "df.describe()"
      ],
      "metadata": {
        "colab": {
          "base_uri": "https://localhost:8080/",
          "height": 239
        },
        "id": "QV1dJQE_lLPc",
        "outputId": "f3a7b0c0-0510-461c-f52f-16cd515dd567"
      },
      "execution_count": null,
      "outputs": [
        {
          "output_type": "execute_result",
          "data": {
            "text/plain": [
              "       gender Topic Semester Relation raisedhands VisITedResources  \\\n",
              "count     480   480      480      480         480              480   \n",
              "unique      2    12        2        2          82               89   \n",
              "top         M    IT        F   Father          10               80   \n",
              "freq      305    95      245      283          31               29   \n",
              "\n",
              "       AnnouncementsView Discussion ParentAnsweringSurvey  \\\n",
              "count                480        480                   480   \n",
              "unique                88         90                     2   \n",
              "top                   12         70                   Yes   \n",
              "freq                  21         24                   270   \n",
              "\n",
              "       ParentschoolSatisfaction StudentAbsenceDays Class  \n",
              "count                       480                480   480  \n",
              "unique                        2                  2     3  \n",
              "top                        Good            Under-7     M  \n",
              "freq                        292                289   211  "
            ],
            "text/html": [
              "\n",
              "  <div id=\"df-14b262cc-47fd-48f2-a253-2c51905c77d2\">\n",
              "    <div class=\"colab-df-container\">\n",
              "      <div>\n",
              "<style scoped>\n",
              "    .dataframe tbody tr th:only-of-type {\n",
              "        vertical-align: middle;\n",
              "    }\n",
              "\n",
              "    .dataframe tbody tr th {\n",
              "        vertical-align: top;\n",
              "    }\n",
              "\n",
              "    .dataframe thead th {\n",
              "        text-align: right;\n",
              "    }\n",
              "</style>\n",
              "<table border=\"1\" class=\"dataframe\">\n",
              "  <thead>\n",
              "    <tr style=\"text-align: right;\">\n",
              "      <th></th>\n",
              "      <th>gender</th>\n",
              "      <th>Topic</th>\n",
              "      <th>Semester</th>\n",
              "      <th>Relation</th>\n",
              "      <th>raisedhands</th>\n",
              "      <th>VisITedResources</th>\n",
              "      <th>AnnouncementsView</th>\n",
              "      <th>Discussion</th>\n",
              "      <th>ParentAnsweringSurvey</th>\n",
              "      <th>ParentschoolSatisfaction</th>\n",
              "      <th>StudentAbsenceDays</th>\n",
              "      <th>Class</th>\n",
              "    </tr>\n",
              "  </thead>\n",
              "  <tbody>\n",
              "    <tr>\n",
              "      <th>count</th>\n",
              "      <td>480</td>\n",
              "      <td>480</td>\n",
              "      <td>480</td>\n",
              "      <td>480</td>\n",
              "      <td>480</td>\n",
              "      <td>480</td>\n",
              "      <td>480</td>\n",
              "      <td>480</td>\n",
              "      <td>480</td>\n",
              "      <td>480</td>\n",
              "      <td>480</td>\n",
              "      <td>480</td>\n",
              "    </tr>\n",
              "    <tr>\n",
              "      <th>unique</th>\n",
              "      <td>2</td>\n",
              "      <td>12</td>\n",
              "      <td>2</td>\n",
              "      <td>2</td>\n",
              "      <td>82</td>\n",
              "      <td>89</td>\n",
              "      <td>88</td>\n",
              "      <td>90</td>\n",
              "      <td>2</td>\n",
              "      <td>2</td>\n",
              "      <td>2</td>\n",
              "      <td>3</td>\n",
              "    </tr>\n",
              "    <tr>\n",
              "      <th>top</th>\n",
              "      <td>M</td>\n",
              "      <td>IT</td>\n",
              "      <td>F</td>\n",
              "      <td>Father</td>\n",
              "      <td>10</td>\n",
              "      <td>80</td>\n",
              "      <td>12</td>\n",
              "      <td>70</td>\n",
              "      <td>Yes</td>\n",
              "      <td>Good</td>\n",
              "      <td>Under-7</td>\n",
              "      <td>M</td>\n",
              "    </tr>\n",
              "    <tr>\n",
              "      <th>freq</th>\n",
              "      <td>305</td>\n",
              "      <td>95</td>\n",
              "      <td>245</td>\n",
              "      <td>283</td>\n",
              "      <td>31</td>\n",
              "      <td>29</td>\n",
              "      <td>21</td>\n",
              "      <td>24</td>\n",
              "      <td>270</td>\n",
              "      <td>292</td>\n",
              "      <td>289</td>\n",
              "      <td>211</td>\n",
              "    </tr>\n",
              "  </tbody>\n",
              "</table>\n",
              "</div>\n",
              "      <button class=\"colab-df-convert\" onclick=\"convertToInteractive('df-14b262cc-47fd-48f2-a253-2c51905c77d2')\"\n",
              "              title=\"Convert this dataframe to an interactive table.\"\n",
              "              style=\"display:none;\">\n",
              "        \n",
              "  <svg xmlns=\"http://www.w3.org/2000/svg\" height=\"24px\"viewBox=\"0 0 24 24\"\n",
              "       width=\"24px\">\n",
              "    <path d=\"M0 0h24v24H0V0z\" fill=\"none\"/>\n",
              "    <path d=\"M18.56 5.44l.94 2.06.94-2.06 2.06-.94-2.06-.94-.94-2.06-.94 2.06-2.06.94zm-11 1L8.5 8.5l.94-2.06 2.06-.94-2.06-.94L8.5 2.5l-.94 2.06-2.06.94zm10 10l.94 2.06.94-2.06 2.06-.94-2.06-.94-.94-2.06-.94 2.06-2.06.94z\"/><path d=\"M17.41 7.96l-1.37-1.37c-.4-.4-.92-.59-1.43-.59-.52 0-1.04.2-1.43.59L10.3 9.45l-7.72 7.72c-.78.78-.78 2.05 0 2.83L4 21.41c.39.39.9.59 1.41.59.51 0 1.02-.2 1.41-.59l7.78-7.78 2.81-2.81c.8-.78.8-2.07 0-2.86zM5.41 20L4 18.59l7.72-7.72 1.47 1.35L5.41 20z\"/>\n",
              "  </svg>\n",
              "      </button>\n",
              "      \n",
              "  <style>\n",
              "    .colab-df-container {\n",
              "      display:flex;\n",
              "      flex-wrap:wrap;\n",
              "      gap: 12px;\n",
              "    }\n",
              "\n",
              "    .colab-df-convert {\n",
              "      background-color: #E8F0FE;\n",
              "      border: none;\n",
              "      border-radius: 50%;\n",
              "      cursor: pointer;\n",
              "      display: none;\n",
              "      fill: #1967D2;\n",
              "      height: 32px;\n",
              "      padding: 0 0 0 0;\n",
              "      width: 32px;\n",
              "    }\n",
              "\n",
              "    .colab-df-convert:hover {\n",
              "      background-color: #E2EBFA;\n",
              "      box-shadow: 0px 1px 2px rgba(60, 64, 67, 0.3), 0px 1px 3px 1px rgba(60, 64, 67, 0.15);\n",
              "      fill: #174EA6;\n",
              "    }\n",
              "\n",
              "    [theme=dark] .colab-df-convert {\n",
              "      background-color: #3B4455;\n",
              "      fill: #D2E3FC;\n",
              "    }\n",
              "\n",
              "    [theme=dark] .colab-df-convert:hover {\n",
              "      background-color: #434B5C;\n",
              "      box-shadow: 0px 1px 3px 1px rgba(0, 0, 0, 0.15);\n",
              "      filter: drop-shadow(0px 1px 2px rgba(0, 0, 0, 0.3));\n",
              "      fill: #FFFFFF;\n",
              "    }\n",
              "  </style>\n",
              "\n",
              "      <script>\n",
              "        const buttonEl =\n",
              "          document.querySelector('#df-14b262cc-47fd-48f2-a253-2c51905c77d2 button.colab-df-convert');\n",
              "        buttonEl.style.display =\n",
              "          google.colab.kernel.accessAllowed ? 'block' : 'none';\n",
              "\n",
              "        async function convertToInteractive(key) {\n",
              "          const element = document.querySelector('#df-14b262cc-47fd-48f2-a253-2c51905c77d2');\n",
              "          const dataTable =\n",
              "            await google.colab.kernel.invokeFunction('convertToInteractive',\n",
              "                                                     [key], {});\n",
              "          if (!dataTable) return;\n",
              "\n",
              "          const docLinkHtml = 'Like what you see? Visit the ' +\n",
              "            '<a target=\"_blank\" href=https://colab.research.google.com/notebooks/data_table.ipynb>data table notebook</a>'\n",
              "            + ' to learn more about interactive tables.';\n",
              "          element.innerHTML = '';\n",
              "          dataTable['output_type'] = 'display_data';\n",
              "          await google.colab.output.renderOutput(dataTable, element);\n",
              "          const docLink = document.createElement('div');\n",
              "          docLink.innerHTML = docLinkHtml;\n",
              "          element.appendChild(docLink);\n",
              "        }\n",
              "      </script>\n",
              "    </div>\n",
              "  </div>\n",
              "  "
            ]
          },
          "metadata": {},
          "execution_count": 95
        }
      ]
    },
    {
      "cell_type": "markdown",
      "source": [
        "##**Label Encoding**##\n",
        "\n",
        "After label encoding \n",
        "\n",
        "1 --> Male\n",
        "\n",
        "0 --> Female"
      ],
      "metadata": {
        "id": "X3hUbX0HnLtC"
      }
    },
    {
      "cell_type": "markdown",
      "source": [
        "Encoding gender column"
      ],
      "metadata": {
        "id": "6xNKSEX1nv2f"
      }
    },
    {
      "cell_type": "code",
      "source": [
        "df['gender'].unique()"
      ],
      "metadata": {
        "colab": {
          "base_uri": "https://localhost:8080/"
        },
        "id": "NxCv-lB-odfo",
        "outputId": "98f1194e-26e1-40c6-de55-19a7104b1f1f"
      },
      "execution_count": null,
      "outputs": [
        {
          "output_type": "execute_result",
          "data": {
            "text/plain": [
              "array(['M', 'F'], dtype=object)"
            ]
          },
          "metadata": {},
          "execution_count": 96
        }
      ]
    },
    {
      "cell_type": "code",
      "source": [
        "le = LabelEncoder()\n",
        "df['gender'] = le.fit_transform(df['gender'])"
      ],
      "metadata": {
        "id": "8vlaZ5H1lPe7"
      },
      "execution_count": null,
      "outputs": []
    },
    {
      "cell_type": "code",
      "source": [
        "df.head(20)"
      ],
      "metadata": {
        "colab": {
          "base_uri": "https://localhost:8080/",
          "height": 741
        },
        "id": "Jx3zfVutnAWs",
        "outputId": "f2bfedfa-3ecc-4442-ec15-0d9dbe5c674b"
      },
      "execution_count": null,
      "outputs": [
        {
          "output_type": "execute_result",
          "data": {
            "text/plain": [
              "    gender Topic Semester Relation raisedhands VisITedResources  \\\n",
              "0        1    IT        F   Father          15               16   \n",
              "1        1    IT        F   Father          20               20   \n",
              "2        1    IT        F   Father          10                7   \n",
              "3        1    IT        F   Father          30               25   \n",
              "4        1    IT        F   Father          40               50   \n",
              "5        0    IT        F   Father          42               30   \n",
              "6        1  Math        F   Father          35               12   \n",
              "7        1  Math        F   Father          50               10   \n",
              "8        0  Math        F   Father          12               21   \n",
              "9        0    IT        F   Father          70               80   \n",
              "10       1  Math        F   Father          50               88   \n",
              "11       1  Math        F   Father          19                6   \n",
              "12       1    IT        F   Father           5                1   \n",
              "13       1  Math        F   Father          20               14   \n",
              "14       0  Math        F      Mum          62               70   \n",
              "15       0    IT        F   Father          30               40   \n",
              "16       1    IT        F   Father          36               30   \n",
              "17       1  Math        F   Father          55               13   \n",
              "18       0    IT        F      Mum          69               15   \n",
              "19       1    IT        F      Mum          70               50   \n",
              "\n",
              "   AnnouncementsView Discussion ParentAnsweringSurvey  \\\n",
              "0                  2         20                   Yes   \n",
              "1                  3         25                   Yes   \n",
              "2                  0         30                    No   \n",
              "3                  5         35                    No   \n",
              "4                 12         50                    No   \n",
              "5                 13         70                   Yes   \n",
              "6                  0         17                    No   \n",
              "7                 15         22                   Yes   \n",
              "8                 16         50                   Yes   \n",
              "9                 25         70                   Yes   \n",
              "10                30         80                   Yes   \n",
              "11                19         12                   Yes   \n",
              "12                 0         11                    No   \n",
              "13                12         19                    No   \n",
              "14                44         60                    No   \n",
              "15                22         66                   Yes   \n",
              "16                20         80                    No   \n",
              "17                35         90                    No   \n",
              "18                36         96                   Yes   \n",
              "19                40         99                   Yes   \n",
              "\n",
              "   ParentschoolSatisfaction StudentAbsenceDays Class  \n",
              "0                      Good            Under-7     M  \n",
              "1                      Good            Under-7     M  \n",
              "2                       Bad            Above-7     L  \n",
              "3                       Bad            Above-7     L  \n",
              "4                       Bad            Above-7     M  \n",
              "5                       Bad            Above-7     M  \n",
              "6                       Bad            Above-7     L  \n",
              "7                      Good            Under-7     M  \n",
              "8                      Good            Under-7     M  \n",
              "9                      Good            Under-7     M  \n",
              "10                     Good            Under-7     H  \n",
              "11                     Good            Under-7     M  \n",
              "12                      Bad            Above-7     L  \n",
              "13                      Bad            Above-7     L  \n",
              "14                      Bad            Above-7     H  \n",
              "15                     Good            Under-7     M  \n",
              "16                      Bad            Above-7     M  \n",
              "17                      Bad            Above-7     M  \n",
              "18                     Good            Under-7     M  \n",
              "19                     Good            Under-7     H  "
            ],
            "text/html": [
              "\n",
              "  <div id=\"df-93610bd7-cece-4781-a3d5-04c8ea18c100\">\n",
              "    <div class=\"colab-df-container\">\n",
              "      <div>\n",
              "<style scoped>\n",
              "    .dataframe tbody tr th:only-of-type {\n",
              "        vertical-align: middle;\n",
              "    }\n",
              "\n",
              "    .dataframe tbody tr th {\n",
              "        vertical-align: top;\n",
              "    }\n",
              "\n",
              "    .dataframe thead th {\n",
              "        text-align: right;\n",
              "    }\n",
              "</style>\n",
              "<table border=\"1\" class=\"dataframe\">\n",
              "  <thead>\n",
              "    <tr style=\"text-align: right;\">\n",
              "      <th></th>\n",
              "      <th>gender</th>\n",
              "      <th>Topic</th>\n",
              "      <th>Semester</th>\n",
              "      <th>Relation</th>\n",
              "      <th>raisedhands</th>\n",
              "      <th>VisITedResources</th>\n",
              "      <th>AnnouncementsView</th>\n",
              "      <th>Discussion</th>\n",
              "      <th>ParentAnsweringSurvey</th>\n",
              "      <th>ParentschoolSatisfaction</th>\n",
              "      <th>StudentAbsenceDays</th>\n",
              "      <th>Class</th>\n",
              "    </tr>\n",
              "  </thead>\n",
              "  <tbody>\n",
              "    <tr>\n",
              "      <th>0</th>\n",
              "      <td>1</td>\n",
              "      <td>IT</td>\n",
              "      <td>F</td>\n",
              "      <td>Father</td>\n",
              "      <td>15</td>\n",
              "      <td>16</td>\n",
              "      <td>2</td>\n",
              "      <td>20</td>\n",
              "      <td>Yes</td>\n",
              "      <td>Good</td>\n",
              "      <td>Under-7</td>\n",
              "      <td>M</td>\n",
              "    </tr>\n",
              "    <tr>\n",
              "      <th>1</th>\n",
              "      <td>1</td>\n",
              "      <td>IT</td>\n",
              "      <td>F</td>\n",
              "      <td>Father</td>\n",
              "      <td>20</td>\n",
              "      <td>20</td>\n",
              "      <td>3</td>\n",
              "      <td>25</td>\n",
              "      <td>Yes</td>\n",
              "      <td>Good</td>\n",
              "      <td>Under-7</td>\n",
              "      <td>M</td>\n",
              "    </tr>\n",
              "    <tr>\n",
              "      <th>2</th>\n",
              "      <td>1</td>\n",
              "      <td>IT</td>\n",
              "      <td>F</td>\n",
              "      <td>Father</td>\n",
              "      <td>10</td>\n",
              "      <td>7</td>\n",
              "      <td>0</td>\n",
              "      <td>30</td>\n",
              "      <td>No</td>\n",
              "      <td>Bad</td>\n",
              "      <td>Above-7</td>\n",
              "      <td>L</td>\n",
              "    </tr>\n",
              "    <tr>\n",
              "      <th>3</th>\n",
              "      <td>1</td>\n",
              "      <td>IT</td>\n",
              "      <td>F</td>\n",
              "      <td>Father</td>\n",
              "      <td>30</td>\n",
              "      <td>25</td>\n",
              "      <td>5</td>\n",
              "      <td>35</td>\n",
              "      <td>No</td>\n",
              "      <td>Bad</td>\n",
              "      <td>Above-7</td>\n",
              "      <td>L</td>\n",
              "    </tr>\n",
              "    <tr>\n",
              "      <th>4</th>\n",
              "      <td>1</td>\n",
              "      <td>IT</td>\n",
              "      <td>F</td>\n",
              "      <td>Father</td>\n",
              "      <td>40</td>\n",
              "      <td>50</td>\n",
              "      <td>12</td>\n",
              "      <td>50</td>\n",
              "      <td>No</td>\n",
              "      <td>Bad</td>\n",
              "      <td>Above-7</td>\n",
              "      <td>M</td>\n",
              "    </tr>\n",
              "    <tr>\n",
              "      <th>5</th>\n",
              "      <td>0</td>\n",
              "      <td>IT</td>\n",
              "      <td>F</td>\n",
              "      <td>Father</td>\n",
              "      <td>42</td>\n",
              "      <td>30</td>\n",
              "      <td>13</td>\n",
              "      <td>70</td>\n",
              "      <td>Yes</td>\n",
              "      <td>Bad</td>\n",
              "      <td>Above-7</td>\n",
              "      <td>M</td>\n",
              "    </tr>\n",
              "    <tr>\n",
              "      <th>6</th>\n",
              "      <td>1</td>\n",
              "      <td>Math</td>\n",
              "      <td>F</td>\n",
              "      <td>Father</td>\n",
              "      <td>35</td>\n",
              "      <td>12</td>\n",
              "      <td>0</td>\n",
              "      <td>17</td>\n",
              "      <td>No</td>\n",
              "      <td>Bad</td>\n",
              "      <td>Above-7</td>\n",
              "      <td>L</td>\n",
              "    </tr>\n",
              "    <tr>\n",
              "      <th>7</th>\n",
              "      <td>1</td>\n",
              "      <td>Math</td>\n",
              "      <td>F</td>\n",
              "      <td>Father</td>\n",
              "      <td>50</td>\n",
              "      <td>10</td>\n",
              "      <td>15</td>\n",
              "      <td>22</td>\n",
              "      <td>Yes</td>\n",
              "      <td>Good</td>\n",
              "      <td>Under-7</td>\n",
              "      <td>M</td>\n",
              "    </tr>\n",
              "    <tr>\n",
              "      <th>8</th>\n",
              "      <td>0</td>\n",
              "      <td>Math</td>\n",
              "      <td>F</td>\n",
              "      <td>Father</td>\n",
              "      <td>12</td>\n",
              "      <td>21</td>\n",
              "      <td>16</td>\n",
              "      <td>50</td>\n",
              "      <td>Yes</td>\n",
              "      <td>Good</td>\n",
              "      <td>Under-7</td>\n",
              "      <td>M</td>\n",
              "    </tr>\n",
              "    <tr>\n",
              "      <th>9</th>\n",
              "      <td>0</td>\n",
              "      <td>IT</td>\n",
              "      <td>F</td>\n",
              "      <td>Father</td>\n",
              "      <td>70</td>\n",
              "      <td>80</td>\n",
              "      <td>25</td>\n",
              "      <td>70</td>\n",
              "      <td>Yes</td>\n",
              "      <td>Good</td>\n",
              "      <td>Under-7</td>\n",
              "      <td>M</td>\n",
              "    </tr>\n",
              "    <tr>\n",
              "      <th>10</th>\n",
              "      <td>1</td>\n",
              "      <td>Math</td>\n",
              "      <td>F</td>\n",
              "      <td>Father</td>\n",
              "      <td>50</td>\n",
              "      <td>88</td>\n",
              "      <td>30</td>\n",
              "      <td>80</td>\n",
              "      <td>Yes</td>\n",
              "      <td>Good</td>\n",
              "      <td>Under-7</td>\n",
              "      <td>H</td>\n",
              "    </tr>\n",
              "    <tr>\n",
              "      <th>11</th>\n",
              "      <td>1</td>\n",
              "      <td>Math</td>\n",
              "      <td>F</td>\n",
              "      <td>Father</td>\n",
              "      <td>19</td>\n",
              "      <td>6</td>\n",
              "      <td>19</td>\n",
              "      <td>12</td>\n",
              "      <td>Yes</td>\n",
              "      <td>Good</td>\n",
              "      <td>Under-7</td>\n",
              "      <td>M</td>\n",
              "    </tr>\n",
              "    <tr>\n",
              "      <th>12</th>\n",
              "      <td>1</td>\n",
              "      <td>IT</td>\n",
              "      <td>F</td>\n",
              "      <td>Father</td>\n",
              "      <td>5</td>\n",
              "      <td>1</td>\n",
              "      <td>0</td>\n",
              "      <td>11</td>\n",
              "      <td>No</td>\n",
              "      <td>Bad</td>\n",
              "      <td>Above-7</td>\n",
              "      <td>L</td>\n",
              "    </tr>\n",
              "    <tr>\n",
              "      <th>13</th>\n",
              "      <td>1</td>\n",
              "      <td>Math</td>\n",
              "      <td>F</td>\n",
              "      <td>Father</td>\n",
              "      <td>20</td>\n",
              "      <td>14</td>\n",
              "      <td>12</td>\n",
              "      <td>19</td>\n",
              "      <td>No</td>\n",
              "      <td>Bad</td>\n",
              "      <td>Above-7</td>\n",
              "      <td>L</td>\n",
              "    </tr>\n",
              "    <tr>\n",
              "      <th>14</th>\n",
              "      <td>0</td>\n",
              "      <td>Math</td>\n",
              "      <td>F</td>\n",
              "      <td>Mum</td>\n",
              "      <td>62</td>\n",
              "      <td>70</td>\n",
              "      <td>44</td>\n",
              "      <td>60</td>\n",
              "      <td>No</td>\n",
              "      <td>Bad</td>\n",
              "      <td>Above-7</td>\n",
              "      <td>H</td>\n",
              "    </tr>\n",
              "    <tr>\n",
              "      <th>15</th>\n",
              "      <td>0</td>\n",
              "      <td>IT</td>\n",
              "      <td>F</td>\n",
              "      <td>Father</td>\n",
              "      <td>30</td>\n",
              "      <td>40</td>\n",
              "      <td>22</td>\n",
              "      <td>66</td>\n",
              "      <td>Yes</td>\n",
              "      <td>Good</td>\n",
              "      <td>Under-7</td>\n",
              "      <td>M</td>\n",
              "    </tr>\n",
              "    <tr>\n",
              "      <th>16</th>\n",
              "      <td>1</td>\n",
              "      <td>IT</td>\n",
              "      <td>F</td>\n",
              "      <td>Father</td>\n",
              "      <td>36</td>\n",
              "      <td>30</td>\n",
              "      <td>20</td>\n",
              "      <td>80</td>\n",
              "      <td>No</td>\n",
              "      <td>Bad</td>\n",
              "      <td>Above-7</td>\n",
              "      <td>M</td>\n",
              "    </tr>\n",
              "    <tr>\n",
              "      <th>17</th>\n",
              "      <td>1</td>\n",
              "      <td>Math</td>\n",
              "      <td>F</td>\n",
              "      <td>Father</td>\n",
              "      <td>55</td>\n",
              "      <td>13</td>\n",
              "      <td>35</td>\n",
              "      <td>90</td>\n",
              "      <td>No</td>\n",
              "      <td>Bad</td>\n",
              "      <td>Above-7</td>\n",
              "      <td>M</td>\n",
              "    </tr>\n",
              "    <tr>\n",
              "      <th>18</th>\n",
              "      <td>0</td>\n",
              "      <td>IT</td>\n",
              "      <td>F</td>\n",
              "      <td>Mum</td>\n",
              "      <td>69</td>\n",
              "      <td>15</td>\n",
              "      <td>36</td>\n",
              "      <td>96</td>\n",
              "      <td>Yes</td>\n",
              "      <td>Good</td>\n",
              "      <td>Under-7</td>\n",
              "      <td>M</td>\n",
              "    </tr>\n",
              "    <tr>\n",
              "      <th>19</th>\n",
              "      <td>1</td>\n",
              "      <td>IT</td>\n",
              "      <td>F</td>\n",
              "      <td>Mum</td>\n",
              "      <td>70</td>\n",
              "      <td>50</td>\n",
              "      <td>40</td>\n",
              "      <td>99</td>\n",
              "      <td>Yes</td>\n",
              "      <td>Good</td>\n",
              "      <td>Under-7</td>\n",
              "      <td>H</td>\n",
              "    </tr>\n",
              "  </tbody>\n",
              "</table>\n",
              "</div>\n",
              "      <button class=\"colab-df-convert\" onclick=\"convertToInteractive('df-93610bd7-cece-4781-a3d5-04c8ea18c100')\"\n",
              "              title=\"Convert this dataframe to an interactive table.\"\n",
              "              style=\"display:none;\">\n",
              "        \n",
              "  <svg xmlns=\"http://www.w3.org/2000/svg\" height=\"24px\"viewBox=\"0 0 24 24\"\n",
              "       width=\"24px\">\n",
              "    <path d=\"M0 0h24v24H0V0z\" fill=\"none\"/>\n",
              "    <path d=\"M18.56 5.44l.94 2.06.94-2.06 2.06-.94-2.06-.94-.94-2.06-.94 2.06-2.06.94zm-11 1L8.5 8.5l.94-2.06 2.06-.94-2.06-.94L8.5 2.5l-.94 2.06-2.06.94zm10 10l.94 2.06.94-2.06 2.06-.94-2.06-.94-.94-2.06-.94 2.06-2.06.94z\"/><path d=\"M17.41 7.96l-1.37-1.37c-.4-.4-.92-.59-1.43-.59-.52 0-1.04.2-1.43.59L10.3 9.45l-7.72 7.72c-.78.78-.78 2.05 0 2.83L4 21.41c.39.39.9.59 1.41.59.51 0 1.02-.2 1.41-.59l7.78-7.78 2.81-2.81c.8-.78.8-2.07 0-2.86zM5.41 20L4 18.59l7.72-7.72 1.47 1.35L5.41 20z\"/>\n",
              "  </svg>\n",
              "      </button>\n",
              "      \n",
              "  <style>\n",
              "    .colab-df-container {\n",
              "      display:flex;\n",
              "      flex-wrap:wrap;\n",
              "      gap: 12px;\n",
              "    }\n",
              "\n",
              "    .colab-df-convert {\n",
              "      background-color: #E8F0FE;\n",
              "      border: none;\n",
              "      border-radius: 50%;\n",
              "      cursor: pointer;\n",
              "      display: none;\n",
              "      fill: #1967D2;\n",
              "      height: 32px;\n",
              "      padding: 0 0 0 0;\n",
              "      width: 32px;\n",
              "    }\n",
              "\n",
              "    .colab-df-convert:hover {\n",
              "      background-color: #E2EBFA;\n",
              "      box-shadow: 0px 1px 2px rgba(60, 64, 67, 0.3), 0px 1px 3px 1px rgba(60, 64, 67, 0.15);\n",
              "      fill: #174EA6;\n",
              "    }\n",
              "\n",
              "    [theme=dark] .colab-df-convert {\n",
              "      background-color: #3B4455;\n",
              "      fill: #D2E3FC;\n",
              "    }\n",
              "\n",
              "    [theme=dark] .colab-df-convert:hover {\n",
              "      background-color: #434B5C;\n",
              "      box-shadow: 0px 1px 3px 1px rgba(0, 0, 0, 0.15);\n",
              "      filter: drop-shadow(0px 1px 2px rgba(0, 0, 0, 0.3));\n",
              "      fill: #FFFFFF;\n",
              "    }\n",
              "  </style>\n",
              "\n",
              "      <script>\n",
              "        const buttonEl =\n",
              "          document.querySelector('#df-93610bd7-cece-4781-a3d5-04c8ea18c100 button.colab-df-convert');\n",
              "        buttonEl.style.display =\n",
              "          google.colab.kernel.accessAllowed ? 'block' : 'none';\n",
              "\n",
              "        async function convertToInteractive(key) {\n",
              "          const element = document.querySelector('#df-93610bd7-cece-4781-a3d5-04c8ea18c100');\n",
              "          const dataTable =\n",
              "            await google.colab.kernel.invokeFunction('convertToInteractive',\n",
              "                                                     [key], {});\n",
              "          if (!dataTable) return;\n",
              "\n",
              "          const docLinkHtml = 'Like what you see? Visit the ' +\n",
              "            '<a target=\"_blank\" href=https://colab.research.google.com/notebooks/data_table.ipynb>data table notebook</a>'\n",
              "            + ' to learn more about interactive tables.';\n",
              "          element.innerHTML = '';\n",
              "          dataTable['output_type'] = 'display_data';\n",
              "          await google.colab.output.renderOutput(dataTable, element);\n",
              "          const docLink = document.createElement('div');\n",
              "          docLink.innerHTML = docLinkHtml;\n",
              "          element.appendChild(docLink);\n",
              "        }\n",
              "      </script>\n",
              "    </div>\n",
              "  </div>\n",
              "  "
            ]
          },
          "metadata": {},
          "execution_count": 98
        }
      ]
    },
    {
      "cell_type": "code",
      "source": [
        "df['gender'].unique()"
      ],
      "metadata": {
        "colab": {
          "base_uri": "https://localhost:8080/"
        },
        "id": "gZdUOYbqp3ET",
        "outputId": "06540195-e201-4d96-b0a3-c6ea40cdf5f6"
      },
      "execution_count": null,
      "outputs": [
        {
          "output_type": "execute_result",
          "data": {
            "text/plain": [
              "array([1, 0])"
            ]
          },
          "metadata": {},
          "execution_count": 99
        }
      ]
    },
    {
      "cell_type": "code",
      "source": [
        "df.tail()"
      ],
      "metadata": {
        "colab": {
          "base_uri": "https://localhost:8080/",
          "height": 270
        },
        "id": "cSvmAoZFnCgV",
        "outputId": "ee16a7b6-5b5f-49c2-ec7d-3164d2dad3bb"
      },
      "execution_count": null,
      "outputs": [
        {
          "output_type": "execute_result",
          "data": {
            "text/plain": [
              "     gender      Topic Semester Relation raisedhands VisITedResources  \\\n",
              "475       0  Chemistry        S   Father           5                4   \n",
              "476       0    Geology        F   Father          50               77   \n",
              "477       0    Geology        S   Father          55               74   \n",
              "478       0    History        F   Father          30               17   \n",
              "479       0    History        S   Father          35               14   \n",
              "\n",
              "    AnnouncementsView Discussion ParentAnsweringSurvey  \\\n",
              "475                 5          8                    No   \n",
              "476                14         28                    No   \n",
              "477                25         29                    No   \n",
              "478                14         57                    No   \n",
              "479                23         62                    No   \n",
              "\n",
              "    ParentschoolSatisfaction StudentAbsenceDays Class  \n",
              "475                      Bad            Above-7     L  \n",
              "476                      Bad            Under-7     M  \n",
              "477                      Bad            Under-7     M  \n",
              "478                      Bad            Above-7     L  \n",
              "479                      Bad            Above-7     L  "
            ],
            "text/html": [
              "\n",
              "  <div id=\"df-68f49cc9-5862-4571-afff-d41b596b4ecf\">\n",
              "    <div class=\"colab-df-container\">\n",
              "      <div>\n",
              "<style scoped>\n",
              "    .dataframe tbody tr th:only-of-type {\n",
              "        vertical-align: middle;\n",
              "    }\n",
              "\n",
              "    .dataframe tbody tr th {\n",
              "        vertical-align: top;\n",
              "    }\n",
              "\n",
              "    .dataframe thead th {\n",
              "        text-align: right;\n",
              "    }\n",
              "</style>\n",
              "<table border=\"1\" class=\"dataframe\">\n",
              "  <thead>\n",
              "    <tr style=\"text-align: right;\">\n",
              "      <th></th>\n",
              "      <th>gender</th>\n",
              "      <th>Topic</th>\n",
              "      <th>Semester</th>\n",
              "      <th>Relation</th>\n",
              "      <th>raisedhands</th>\n",
              "      <th>VisITedResources</th>\n",
              "      <th>AnnouncementsView</th>\n",
              "      <th>Discussion</th>\n",
              "      <th>ParentAnsweringSurvey</th>\n",
              "      <th>ParentschoolSatisfaction</th>\n",
              "      <th>StudentAbsenceDays</th>\n",
              "      <th>Class</th>\n",
              "    </tr>\n",
              "  </thead>\n",
              "  <tbody>\n",
              "    <tr>\n",
              "      <th>475</th>\n",
              "      <td>0</td>\n",
              "      <td>Chemistry</td>\n",
              "      <td>S</td>\n",
              "      <td>Father</td>\n",
              "      <td>5</td>\n",
              "      <td>4</td>\n",
              "      <td>5</td>\n",
              "      <td>8</td>\n",
              "      <td>No</td>\n",
              "      <td>Bad</td>\n",
              "      <td>Above-7</td>\n",
              "      <td>L</td>\n",
              "    </tr>\n",
              "    <tr>\n",
              "      <th>476</th>\n",
              "      <td>0</td>\n",
              "      <td>Geology</td>\n",
              "      <td>F</td>\n",
              "      <td>Father</td>\n",
              "      <td>50</td>\n",
              "      <td>77</td>\n",
              "      <td>14</td>\n",
              "      <td>28</td>\n",
              "      <td>No</td>\n",
              "      <td>Bad</td>\n",
              "      <td>Under-7</td>\n",
              "      <td>M</td>\n",
              "    </tr>\n",
              "    <tr>\n",
              "      <th>477</th>\n",
              "      <td>0</td>\n",
              "      <td>Geology</td>\n",
              "      <td>S</td>\n",
              "      <td>Father</td>\n",
              "      <td>55</td>\n",
              "      <td>74</td>\n",
              "      <td>25</td>\n",
              "      <td>29</td>\n",
              "      <td>No</td>\n",
              "      <td>Bad</td>\n",
              "      <td>Under-7</td>\n",
              "      <td>M</td>\n",
              "    </tr>\n",
              "    <tr>\n",
              "      <th>478</th>\n",
              "      <td>0</td>\n",
              "      <td>History</td>\n",
              "      <td>F</td>\n",
              "      <td>Father</td>\n",
              "      <td>30</td>\n",
              "      <td>17</td>\n",
              "      <td>14</td>\n",
              "      <td>57</td>\n",
              "      <td>No</td>\n",
              "      <td>Bad</td>\n",
              "      <td>Above-7</td>\n",
              "      <td>L</td>\n",
              "    </tr>\n",
              "    <tr>\n",
              "      <th>479</th>\n",
              "      <td>0</td>\n",
              "      <td>History</td>\n",
              "      <td>S</td>\n",
              "      <td>Father</td>\n",
              "      <td>35</td>\n",
              "      <td>14</td>\n",
              "      <td>23</td>\n",
              "      <td>62</td>\n",
              "      <td>No</td>\n",
              "      <td>Bad</td>\n",
              "      <td>Above-7</td>\n",
              "      <td>L</td>\n",
              "    </tr>\n",
              "  </tbody>\n",
              "</table>\n",
              "</div>\n",
              "      <button class=\"colab-df-convert\" onclick=\"convertToInteractive('df-68f49cc9-5862-4571-afff-d41b596b4ecf')\"\n",
              "              title=\"Convert this dataframe to an interactive table.\"\n",
              "              style=\"display:none;\">\n",
              "        \n",
              "  <svg xmlns=\"http://www.w3.org/2000/svg\" height=\"24px\"viewBox=\"0 0 24 24\"\n",
              "       width=\"24px\">\n",
              "    <path d=\"M0 0h24v24H0V0z\" fill=\"none\"/>\n",
              "    <path d=\"M18.56 5.44l.94 2.06.94-2.06 2.06-.94-2.06-.94-.94-2.06-.94 2.06-2.06.94zm-11 1L8.5 8.5l.94-2.06 2.06-.94-2.06-.94L8.5 2.5l-.94 2.06-2.06.94zm10 10l.94 2.06.94-2.06 2.06-.94-2.06-.94-.94-2.06-.94 2.06-2.06.94z\"/><path d=\"M17.41 7.96l-1.37-1.37c-.4-.4-.92-.59-1.43-.59-.52 0-1.04.2-1.43.59L10.3 9.45l-7.72 7.72c-.78.78-.78 2.05 0 2.83L4 21.41c.39.39.9.59 1.41.59.51 0 1.02-.2 1.41-.59l7.78-7.78 2.81-2.81c.8-.78.8-2.07 0-2.86zM5.41 20L4 18.59l7.72-7.72 1.47 1.35L5.41 20z\"/>\n",
              "  </svg>\n",
              "      </button>\n",
              "      \n",
              "  <style>\n",
              "    .colab-df-container {\n",
              "      display:flex;\n",
              "      flex-wrap:wrap;\n",
              "      gap: 12px;\n",
              "    }\n",
              "\n",
              "    .colab-df-convert {\n",
              "      background-color: #E8F0FE;\n",
              "      border: none;\n",
              "      border-radius: 50%;\n",
              "      cursor: pointer;\n",
              "      display: none;\n",
              "      fill: #1967D2;\n",
              "      height: 32px;\n",
              "      padding: 0 0 0 0;\n",
              "      width: 32px;\n",
              "    }\n",
              "\n",
              "    .colab-df-convert:hover {\n",
              "      background-color: #E2EBFA;\n",
              "      box-shadow: 0px 1px 2px rgba(60, 64, 67, 0.3), 0px 1px 3px 1px rgba(60, 64, 67, 0.15);\n",
              "      fill: #174EA6;\n",
              "    }\n",
              "\n",
              "    [theme=dark] .colab-df-convert {\n",
              "      background-color: #3B4455;\n",
              "      fill: #D2E3FC;\n",
              "    }\n",
              "\n",
              "    [theme=dark] .colab-df-convert:hover {\n",
              "      background-color: #434B5C;\n",
              "      box-shadow: 0px 1px 3px 1px rgba(0, 0, 0, 0.15);\n",
              "      filter: drop-shadow(0px 1px 2px rgba(0, 0, 0, 0.3));\n",
              "      fill: #FFFFFF;\n",
              "    }\n",
              "  </style>\n",
              "\n",
              "      <script>\n",
              "        const buttonEl =\n",
              "          document.querySelector('#df-68f49cc9-5862-4571-afff-d41b596b4ecf button.colab-df-convert');\n",
              "        buttonEl.style.display =\n",
              "          google.colab.kernel.accessAllowed ? 'block' : 'none';\n",
              "\n",
              "        async function convertToInteractive(key) {\n",
              "          const element = document.querySelector('#df-68f49cc9-5862-4571-afff-d41b596b4ecf');\n",
              "          const dataTable =\n",
              "            await google.colab.kernel.invokeFunction('convertToInteractive',\n",
              "                                                     [key], {});\n",
              "          if (!dataTable) return;\n",
              "\n",
              "          const docLinkHtml = 'Like what you see? Visit the ' +\n",
              "            '<a target=\"_blank\" href=https://colab.research.google.com/notebooks/data_table.ipynb>data table notebook</a>'\n",
              "            + ' to learn more about interactive tables.';\n",
              "          element.innerHTML = '';\n",
              "          dataTable['output_type'] = 'display_data';\n",
              "          await google.colab.output.renderOutput(dataTable, element);\n",
              "          const docLink = document.createElement('div');\n",
              "          docLink.innerHTML = docLinkHtml;\n",
              "          element.appendChild(docLink);\n",
              "        }\n",
              "      </script>\n",
              "    </div>\n",
              "  </div>\n",
              "  "
            ]
          },
          "metadata": {},
          "execution_count": 100
        }
      ]
    },
    {
      "cell_type": "markdown",
      "source": [
        "Encoding Semester column"
      ],
      "metadata": {
        "id": "XAtNidNwn1e5"
      }
    },
    {
      "cell_type": "code",
      "source": [
        "df['Semester'].unique()"
      ],
      "metadata": {
        "colab": {
          "base_uri": "https://localhost:8080/"
        },
        "id": "WF3TZNKoni5u",
        "outputId": "11d3c57a-57be-4476-bde4-fa3c47074a6f"
      },
      "execution_count": null,
      "outputs": [
        {
          "output_type": "execute_result",
          "data": {
            "text/plain": [
              "array(['F', 'S'], dtype=object)"
            ]
          },
          "metadata": {},
          "execution_count": 101
        }
      ]
    },
    {
      "cell_type": "code",
      "source": [
        "df[\"ParentschoolSatisfaction\"].unique()"
      ],
      "metadata": {
        "colab": {
          "base_uri": "https://localhost:8080/"
        },
        "id": "xHSpwNtkqAiM",
        "outputId": "15bccce6-7480-4296-f5e3-f141b7e19400"
      },
      "execution_count": null,
      "outputs": [
        {
          "output_type": "execute_result",
          "data": {
            "text/plain": [
              "array(['Good', 'Bad'], dtype=object)"
            ]
          },
          "metadata": {},
          "execution_count": 102
        }
      ]
    },
    {
      "cell_type": "code",
      "source": [
        "df[\"ParentAnsweringSurvey\"].unique()"
      ],
      "metadata": {
        "colab": {
          "base_uri": "https://localhost:8080/"
        },
        "id": "IE5DpkDyqIEF",
        "outputId": "ae176007-5df1-4025-81ac-7d3ec1c09ed9"
      },
      "execution_count": null,
      "outputs": [
        {
          "output_type": "execute_result",
          "data": {
            "text/plain": [
              "array(['Yes', 'No'], dtype=object)"
            ]
          },
          "metadata": {},
          "execution_count": 103
        }
      ]
    },
    {
      "cell_type": "markdown",
      "source": [
        "##**Outerlier Detection methods**##\n",
        "\n",
        "1. Box plot\n",
        "\n",
        "2. Z-score -->> formula -->> z = (x - mean)/S.D.\n",
        "\n",
        "3. IQR (Inter Quartile Range) -->> \n",
        "\n",
        "> ```\n",
        "formula \n",
        "IQR = Q3 - Q1\n",
        ">```\n",
        "\n",
        "\n",
        "> ``` \n",
        "Lower bound = Q1 - 1.5 * IQR\n",
        "Upper bound = Q3 + 1.5 * IQR\n",
        ">```\n"
      ],
      "metadata": {
        "id": "IJ7YkeP9q3B4"
      }
    },
    {
      "cell_type": "code",
      "source": [
        "df['raisedhands'] = df['raisedhands'].astype(int)"
      ],
      "metadata": {
        "id": "sy8_6npQsx6s"
      },
      "execution_count": null,
      "outputs": []
    },
    {
      "cell_type": "code",
      "source": [
        "Q1, Q3 = np.percentile(df['raisedhands'], [25, 75])"
      ],
      "metadata": {
        "id": "45xfUUXVqOhT"
      },
      "execution_count": null,
      "outputs": []
    },
    {
      "cell_type": "code",
      "source": [
        "print(f'Q1: {Q1} and Q3 : {Q3}')"
      ],
      "metadata": {
        "colab": {
          "base_uri": "https://localhost:8080/"
        },
        "id": "u6KZ7yZarmMy",
        "outputId": "896d2508-e668-42a0-d94d-e380ffe7cca0"
      },
      "execution_count": null,
      "outputs": [
        {
          "output_type": "stream",
          "name": "stdout",
          "text": [
            "Q1: 15.75 and Q3 : 75.0\n"
          ]
        }
      ]
    },
    {
      "cell_type": "code",
      "source": [
        "IQR = Q3 - Q1"
      ],
      "metadata": {
        "id": "UmZ2Z683toF6"
      },
      "execution_count": null,
      "outputs": []
    },
    {
      "cell_type": "code",
      "source": [
        "IQR"
      ],
      "metadata": {
        "colab": {
          "base_uri": "https://localhost:8080/"
        },
        "id": "wVsG9aHw8ekO",
        "outputId": "b695880e-1acf-430a-c074-8a6d0c92492c"
      },
      "execution_count": null,
      "outputs": [
        {
          "output_type": "execute_result",
          "data": {
            "text/plain": [
              "59.25"
            ]
          },
          "metadata": {},
          "execution_count": 108
        }
      ]
    },
    {
      "cell_type": "code",
      "source": [
        "lowerBound = Q1 - 1.5 * IQR\n",
        "upperBound = Q3 + 1.5 * IQR"
      ],
      "metadata": {
        "id": "1QeeowNBtLNh"
      },
      "execution_count": null,
      "outputs": []
    },
    {
      "cell_type": "code",
      "source": [
        "lowerBound"
      ],
      "metadata": {
        "colab": {
          "base_uri": "https://localhost:8080/"
        },
        "id": "_J2NjPDstpH1",
        "outputId": "5af1c53c-841a-4832-8eec-c8db3980d8b4"
      },
      "execution_count": null,
      "outputs": [
        {
          "output_type": "execute_result",
          "data": {
            "text/plain": [
              "-73.125"
            ]
          },
          "metadata": {},
          "execution_count": 110
        }
      ]
    },
    {
      "cell_type": "code",
      "source": [
        "upperBound"
      ],
      "metadata": {
        "colab": {
          "base_uri": "https://localhost:8080/"
        },
        "id": "QRkU5nNBtt3l",
        "outputId": "0287af73-47ca-4a41-a563-620b4db3ad0d"
      },
      "execution_count": null,
      "outputs": [
        {
          "output_type": "execute_result",
          "data": {
            "text/plain": [
              "163.875"
            ]
          },
          "metadata": {},
          "execution_count": 111
        }
      ]
    },
    {
      "cell_type": "code",
      "source": [
        "outliers = [outlier for outlier in df['raisedhands']  if outlier < lowerBound and outlier > upperBound]"
      ],
      "metadata": {
        "id": "_uLi_DqxunLJ"
      },
      "execution_count": null,
      "outputs": []
    },
    {
      "cell_type": "code",
      "source": [
        "outliers"
      ],
      "metadata": {
        "colab": {
          "base_uri": "https://localhost:8080/"
        },
        "id": "6K6fTkg286ul",
        "outputId": "3b38eeed-ae92-4a1c-e84b-5e9be96abb40"
      },
      "execution_count": null,
      "outputs": [
        {
          "output_type": "execute_result",
          "data": {
            "text/plain": [
              "[]"
            ]
          },
          "metadata": {},
          "execution_count": 113
        }
      ]
    },
    {
      "cell_type": "markdown",
      "source": [
        "##**Outliers Generator**##"
      ],
      "metadata": {
        "id": "MmPRDHdyMQW5"
      }
    },
    {
      "cell_type": "code",
      "source": [
        "def outliersFinder(dataFrame):\n",
        "  requiredDf = {}\n",
        "  outliersDF = {}\n",
        "  for column in dataFrame.columns:\n",
        "    try:\n",
        "      columnConvertedValues = pd.to_numeric(dataFrame[column])\n",
        "      requiredDf[column] = columnConvertedValues\n",
        "    except ValueError:\n",
        "      pass\n",
        "  newDf = pd.DataFrame(requiredDf)\n",
        "  for column in newDf.columns:\n",
        "    Q1, Q3 = np.percentile(newDf[column], [25, 75])\n",
        "    IQR = Q3 - Q1\n",
        "    lowerBound = Q1 - 1.5 * IQR\n",
        "    upperBound = Q3 + 1.5 * IQR\n",
        "    outliers = [outlier for outlier in newDf[column]  if outlier < lowerBound and outlier > upperBound]\n",
        "    outliersDF[column] = {'Q1' : Q1, 'Q3' : Q3, 'IQR' : IQR, 'lowerBound' : lowerBound, 'upperBound' : upperBound, 'outliers' : outliers}\n",
        "  return outliersDF"
      ],
      "metadata": {
        "id": "zs3ojVRI9ABd"
      },
      "execution_count": null,
      "outputs": []
    },
    {
      "cell_type": "code",
      "source": [
        "outliersData = outliersFinder(df)"
      ],
      "metadata": {
        "id": "y__WMiJRF3LX"
      },
      "execution_count": null,
      "outputs": []
    },
    {
      "cell_type": "code",
      "source": [
        "outliersData"
      ],
      "metadata": {
        "colab": {
          "base_uri": "https://localhost:8080/"
        },
        "id": "ksKca9spGEiE",
        "outputId": "fe828d28-6a22-4a74-e8bf-7a689304e629"
      },
      "execution_count": null,
      "outputs": [
        {
          "output_type": "execute_result",
          "data": {
            "text/plain": [
              "{'gender': {'Q1': 0.0,\n",
              "  'Q3': 1.0,\n",
              "  'IQR': 1.0,\n",
              "  'lowerBound': -1.5,\n",
              "  'upperBound': 2.5,\n",
              "  'outliers': []},\n",
              " 'raisedhands': {'Q1': 15.75,\n",
              "  'Q3': 75.0,\n",
              "  'IQR': 59.25,\n",
              "  'lowerBound': -73.125,\n",
              "  'upperBound': 163.875,\n",
              "  'outliers': []},\n",
              " 'VisITedResources': {'Q1': 20.0,\n",
              "  'Q3': 84.0,\n",
              "  'IQR': 64.0,\n",
              "  'lowerBound': -76.0,\n",
              "  'upperBound': 180.0,\n",
              "  'outliers': []},\n",
              " 'AnnouncementsView': {'Q1': 14.0,\n",
              "  'Q3': 58.0,\n",
              "  'IQR': 44.0,\n",
              "  'lowerBound': -52.0,\n",
              "  'upperBound': 124.0,\n",
              "  'outliers': []},\n",
              " 'Discussion': {'Q1': 20.0,\n",
              "  'Q3': 70.0,\n",
              "  'IQR': 50.0,\n",
              "  'lowerBound': -55.0,\n",
              "  'upperBound': 145.0,\n",
              "  'outliers': []}}"
            ]
          },
          "metadata": {},
          "execution_count": 116
        }
      ]
    },
    {
      "cell_type": "markdown",
      "source": [
        "##**Box plot Generator**##"
      ],
      "metadata": {
        "id": "-m0e__mrL-KU"
      }
    },
    {
      "cell_type": "code",
      "source": [
        "def boxPlotGenerator(dataFrame):\n",
        "  requiredDf = {}\n",
        "  for column in dataFrame.columns:\n",
        "    try:\n",
        "      columnConvertedValues = pd.to_numeric(dataFrame[column])\n",
        "      requiredDf[column] = columnConvertedValues\n",
        "    except ValueError:\n",
        "      pass\n",
        "  totalColumns = len(requiredDf.keys())\n",
        "  plt.figure(figsize=(totalColumns*2.5, 6))\n",
        "  newDf = pd.DataFrame(requiredDf)\n",
        "  newDf.boxplot()\n",
        "  plt.title('Box plot of all numerical Data')\n",
        "  plt.ylabel('Value')"
      ],
      "metadata": {
        "id": "XniYeThzHTt9"
      },
      "execution_count": null,
      "outputs": []
    },
    {
      "cell_type": "markdown",
      "source": [
        "**All numeric columns box plot**"
      ],
      "metadata": {
        "id": "Vf6_Tlz5MC6y"
      }
    },
    {
      "cell_type": "code",
      "source": [
        "boxPlotGenerator(df)"
      ],
      "metadata": {
        "colab": {
          "base_uri": "https://localhost:8080/",
          "height": 390
        },
        "id": "AKGrk8coKO0w",
        "outputId": "dae6d20c-d93d-4379-d686-5c07becd45a0"
      },
      "execution_count": null,
      "outputs": [
        {
          "output_type": "display_data",
          "data": {
            "text/plain": [
              "<Figure size 900x432 with 1 Axes>"
            ],
            "image/png": "[encoded data removed]"
          },
          "metadata": {
            "needs_background": "light"
          }
        }
      ]
    },
    {
      "cell_type": "code",
      "source": [],
      "metadata": {
        "id": "RIYMtatgKaB_"
      },
      "execution_count": null,
      "outputs": []
    }
  ]
}